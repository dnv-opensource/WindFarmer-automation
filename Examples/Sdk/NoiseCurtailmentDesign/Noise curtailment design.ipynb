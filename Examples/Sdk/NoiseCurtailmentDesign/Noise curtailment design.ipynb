{
 "cells": [
  {
   "cell_type": "markdown",
   "metadata": {},
   "source": [
    "# Noise Curtailment design"
   ]
  },
  {
   "cell_type": "markdown",
   "metadata": {},
   "source": [
    "### Setup the connection to WFA SDK\n",
    "\n",
    "**Requires** the windfarmer python package to be installed in your local python environment.\n",
    "\n",
    "Further instructions on how to setup in the [WindFarmer Automation Repo](https://github.com/dnv-opensource/WindFarmer-automation/blob/main/README.md)"
   ]
  },
  {
   "cell_type": "code",
   "execution_count": 1,
   "metadata": {},
   "outputs": [],
   "source": [
    "import warnings\n",
    "warnings.filterwarnings('ignore', category=DeprecationWarning)\n",
    "warnings.filterwarnings('ignore', category=FutureWarning)\n",
    "import windfarmer.sdk\n",
    "import os\n",
    "import itertools\n",
    "import pandas as pd\n",
    "from helper_functions import *"
   ]
  },
  {
   "cell_type": "code",
   "execution_count": 2,
   "metadata": {},
   "outputs": [
    {
     "name": "stdout",
     "output_type": "stream",
     "text": [
      " > SDK is now up and running!\n"
     ]
    }
   ],
   "source": [
    "windfarmer_installation_folder = r'C:\\Program Files\\DNV\\WindFarmer - Analyst 1.5.3'\n",
    "wf = windfarmer.sdk.Sdk(windfarmer_installation_folder)\n",
    "print(' > SDK is now up and running!')"
   ]
  },
  {
   "cell_type": "markdown",
   "metadata": {},
   "source": [
    "### Open the workbook"
   ]
  },
  {
   "cell_type": "code",
   "execution_count": 3,
   "metadata": {},
   "outputs": [],
   "source": [
    "root_dir = os.path.abspath(os.path.join(os.getcwd(), '..', '..', '..'))\n",
    "workbook_path = os.path.join(root_dir, 'DemoData', 'OnshorePoland', 'OnShorePLDemo_Noise.wwx')\n",
    "\n",
    "wf.Toolbox.OpenWorkbook(workbook_path)\n"
   ]
  },
  {
   "cell_type": "markdown",
   "metadata": {},
   "source": [
    "### Set the noise limit at all the receptors"
   ]
  },
  {
   "cell_type": "code",
   "execution_count": 4,
   "metadata": {},
   "outputs": [
    {
     "name": "stdout",
     "output_type": "stream",
     "text": [
      "Setting all receptors noise limit to 35.0 dB\n"
     ]
    }
   ],
   "source": [
    "nighttime_noise_limit = 35.0\n",
    "set_noise_limit_all_receptors(wf.Workbook, nighttime_noise_limit)"
   ]
  },
  {
   "cell_type": "markdown",
   "metadata": {},
   "source": [
    "### What is the best mode selection for each turbine\n",
    "\n",
    "<img src=\"noise cube.png\" width=\"75%\" height=\"75%\" />"
   ]
  },
  {
   "cell_type": "code",
   "execution_count": 5,
   "metadata": {},
   "outputs": [],
   "source": [
    "# Modes\n",
    "turbine_type_name = \"Bladed Concept Model 6.2-MW 162-D Onshore\"\n",
    "modes = [\"Normal\", \"NM2\", \"NM3\", \"NM4\"]\n",
    "n_modes = len(modes)\t\t\t\n",
    "modes_as_dict = get_list_as_dict(modes)\n",
    "\n",
    "# Receptors\n",
    "receptors = [\"Receptor 21\", \"Receptor 49\", \"Receptor 11\"]\n",
    "n_receptors = len(receptors)\n",
    "receptors_as_dict = get_list_as_dict(receptors)\n",
    "\n",
    "# Turbines\n",
    "turbines = get_list_turbines(wf.Workbook)\n",
    "n_turbines = len(turbines)\n",
    "turbines_as_dict = get_list_as_dict(turbines)"
   ]
  },
  {
   "cell_type": "markdown",
   "metadata": {},
   "source": [
    "### Calculate noise for each mode\n",
    "\n",
    "* Loop noise modes, calculating contribution of each turbine at each receptor\n",
    "* Obtain the gross energy for each turbine in each mode\n"
   ]
  },
  {
   "cell_type": "code",
   "execution_count": 6,
   "metadata": {},
   "outputs": [
    {
     "name": "stdout",
     "output_type": "stream",
     "text": [
      "Calculating mode: Normal\n",
      "... calculating energy\n",
      "Calculating mode: NM2\n",
      "... calculating energy\n",
      "Calculating mode: NM3\n",
      "... calculating energy\n",
      "Calculating mode: NM4\n",
      "... calculating energy\n"
     ]
    }
   ],
   "source": [
    "# Store noise per mode per turbine for receptors (NX = n_modes, NY = n_turbines, NZ = n_receptors\n",
    "noise_per_mode_from_turbine_for_receptors = [0] * n_modes * n_turbines* n_receptors\n",
    "# Store gross energy per mode per turbines\n",
    "gross_per_mode_per_turbine = [0] * n_modes * n_turbines\n",
    "\n",
    "for mode_id in modes:\n",
    "    print(\"Calculating mode: {}\".format(mode_id))\n",
    "    # Set the mode\n",
    "    set_mode_on_turbine_type(wf.Workbook, mode_id, turbine_type_name)\n",
    "    mode_idx = modes_as_dict[mode_id]\n",
    "\n",
    "    # Run noise calculation\n",
    "    wf.Toolbox.CalculateNoise()\n",
    "\n",
    "    # Parse noise results\n",
    "    parse_noise_results_and_store(wf.Workbook, receptors, receptors_as_dict, turbines_as_dict, mode_idx, n_modes, n_turbines, noise_per_mode_from_turbine_for_receptors)\n",
    "\n",
    "    print(\"... calculating energy\")\n",
    "    # Run Energy calculations\n",
    "    scenario = run_energy_calculation(wf.Workbook, wf.Toolbox)\n",
    "    \n",
    "    # Parse energy results\n",
    "    parse_energy_results_and_store(scenario, turbines, turbines_as_dict, mode_idx, n_modes, gross_per_mode_per_turbine)\n",
    "    "
   ]
  },
  {
   "cell_type": "markdown",
   "metadata": {},
   "source": [
    "### Verify mode combinations\n",
    "\n",
    "* Which mode combinations do not exceed the limit\n",
    "* Calculate an overall gross for those mode combinations\n"
   ]
  },
  {
   "cell_type": "code",
   "execution_count": 7,
   "metadata": {},
   "outputs": [],
   "source": [
    "# Generate all the possible combinations\n",
    "all_mode_combinations = list(itertools.product(modes, repeat=n_turbines))\n",
    "columns = [\"Gross AEP [MWh/yr]\",] + turbines\n",
    "combinations_output = pd.DataFrame(columns=columns)\n",
    "\n",
    "for combination in all_mode_combinations:\t\t\t\n",
    "    is_noise_exceeded = check_strategy_for_all_receptors(combination, receptors, receptors_as_dict, n_turbines, modes_as_dict, n_modes, noise_per_mode_from_turbine_for_receptors, nighttime_noise_limit)\n",
    "    \n",
    "    if not is_noise_exceeded:\n",
    "        gross = get_gross_for_strategy(combination, n_turbines, modes_as_dict, n_modes, gross_per_mode_per_turbine)\n",
    "        result = pd.DataFrame([(gross,) + combination], columns=columns)\n",
    "        combinations_output = pd.concat([combinations_output, result])"
   ]
  },
  {
   "cell_type": "markdown",
   "metadata": {},
   "source": [
    "### Sort and plot"
   ]
  },
  {
   "cell_type": "code",
   "execution_count": 8,
   "metadata": {},
   "outputs": [
    {
     "data": {
      "text/html": [
       "<div>\n",
       "<style scoped>\n",
       "    .dataframe tbody tr th:only-of-type {\n",
       "        vertical-align: middle;\n",
       "    }\n",
       "\n",
       "    .dataframe tbody tr th {\n",
       "        vertical-align: top;\n",
       "    }\n",
       "\n",
       "    .dataframe thead th {\n",
       "        text-align: right;\n",
       "    }\n",
       "</style>\n",
       "<table border=\"1\" class=\"dataframe\">\n",
       "  <thead>\n",
       "    <tr style=\"text-align: right;\">\n",
       "      <th></th>\n",
       "      <th>Gross AEP [MWh/yr]</th>\n",
       "      <th>Turbine 4</th>\n",
       "      <th>Turbine 5</th>\n",
       "      <th>Turbine 6</th>\n",
       "      <th>Turbine 7</th>\n",
       "      <th>Turbine 8</th>\n",
       "      <th>Turbine 9</th>\n",
       "      <th>Turbine 10</th>\n",
       "      <th>Turbine 12</th>\n",
       "    </tr>\n",
       "  </thead>\n",
       "  <tbody>\n",
       "    <tr>\n",
       "      <th>0</th>\n",
       "      <td>128.207965</td>\n",
       "      <td>NM3</td>\n",
       "      <td>NM4</td>\n",
       "      <td>NM3</td>\n",
       "      <td>NM4</td>\n",
       "      <td>NM4</td>\n",
       "      <td>NM3</td>\n",
       "      <td>NM2</td>\n",
       "      <td>Normal</td>\n",
       "    </tr>\n",
       "  </tbody>\n",
       "</table>\n",
       "</div>"
      ],
      "text/plain": [
       "   Gross AEP [MWh/yr] Turbine 4 Turbine 5 Turbine 6 Turbine 7 Turbine 8  \\\n",
       "0          128.207965       NM3       NM4       NM3       NM4       NM4   \n",
       "\n",
       "  Turbine 9 Turbine 10 Turbine 12  \n",
       "0       NM3        NM2     Normal  "
      ]
     },
     "metadata": {},
     "output_type": "display_data"
    },
    {
     "name": "stdout",
     "output_type": "stream",
     "text": [
      "646 combinations of 65536 did not exceed the noise limit.\n"
     ]
    },
    {
     "data": {
      "image/png": "[encoded data removed]",
      "text/plain": [
       "<Figure size 640x480 with 1 Axes>"
      ]
     },
     "metadata": {},
     "output_type": "display_data"
    }
   ],
   "source": [
    "sorted_combinations = combinations_output.sort_values(by='Gross AEP [MWh/yr]', ascending=False)\n",
    "sorted_combinations.index = pd.RangeIndex(start=0, stop=sorted_combinations.shape[0], step=1)\n",
    "display(sorted_combinations.head(1))\n",
    "sorted_combinations.plot(y='Gross AEP [MWh/yr]')\n",
    "print(f\"{combinations_output.shape[0]} combinations of {len(all_mode_combinations)} did not exceed the noise limit.\")"
   ]
  },
  {
   "cell_type": "markdown",
   "metadata": {},
   "source": [
    "### Paste curtailment strategy to workbook"
   ]
  },
  {
   "cell_type": "code",
   "execution_count": 9,
   "metadata": {},
   "outputs": [
    {
     "name": "stdout",
     "output_type": "stream",
     "text": [
      "{\n",
      "  \"Turbine 4\":\"NM3\",\n",
      "  \"Turbine 5\":\"NM4\",\n",
      "  \"Turbine 6\":\"NM3\",\n",
      "  \"Turbine 7\":\"NM4\",\n",
      "  \"Turbine 8\":\"NM4\",\n",
      "  \"Turbine 9\":\"NM3\",\n",
      "  \"Turbine 10\":\"NM2\",\n",
      "  \"Turbine 12\":\"Normal\"\n",
      "}\n"
     ]
    }
   ],
   "source": [
    "print(sorted_combinations.iloc[0, sorted_combinations.columns != 'Gross AEP [MWh/yr]'].to_json(indent=2))"
   ]
  },
  {
   "cell_type": "markdown",
   "metadata": {},
   "source": [
    "### Finalise\n",
    "\n",
    "Revert the mode on the turbine type to be the normal mode\n",
    "\n",
    "Release the workbook"
   ]
  },
  {
   "cell_type": "code",
   "execution_count": 10,
   "metadata": {},
   "outputs": [],
   "source": [
    "set_mode_on_turbine_type(wf.Workbook, \"Normal\", turbine_type_name)"
   ]
  },
  {
   "cell_type": "code",
   "execution_count": 11,
   "metadata": {},
   "outputs": [],
   "source": [
    "wf.Toolbox.NewWorkbook()"
   ]
  },
  {
   "cell_type": "code",
   "execution_count": null,
   "metadata": {},
   "outputs": [],
   "source": []
  }
 ],
 "metadata": {
  "kernelspec": {
   "display_name": "wf_auto",
   "language": "python",
   "name": "python3"
  },
  "language_info": {
   "codemirror_mode": {
    "name": "ipython",
    "version": 3
   },
   "file_extension": ".py",
   "mimetype": "text/x-python",
   "name": "python",
   "nbconvert_exporter": "python",
   "pygments_lexer": "ipython3",
   "version": "3.9.18"
  }
 },
 "nbformat": 4,
 "nbformat_minor": 2
}
