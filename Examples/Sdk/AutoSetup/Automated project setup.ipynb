{
 "cells": [
  {
   "cell_type": "markdown",
   "metadata": {},
   "source": [
    "# Automated project setup"
   ]
  },
  {
   "cell_type": "markdown",
   "metadata": {},
   "source": [
    "### Setup the connection to WFA SDK\n",
    "\n",
    "**Requires** the windfarmer python package to be installed in your local python environment so you can call ```wf = sdk.Sdk(windfarmer_installation_folder)```\n",
    "See the setup instructions in the [SDK intro documentation](https://mysoftware.dnv.com/download/public/renewables/windfarmer/manuals/latest/Automation/SDK/sdkIntro.html)"
   ]
  },
  {
   "cell_type": "code",
   "execution_count": null,
   "metadata": {},
   "outputs": [],
   "source": [
    "import warnings\n",
    "warnings.filterwarnings('ignore', category=DeprecationWarning)\n",
    "warnings.filterwarnings('ignore', category=FutureWarning)\n",
    "import sdk\n",
    "import os\n",
    "import pandas as pd\n",
    "import glob"
   ]
  },
  {
   "cell_type": "code",
   "execution_count": null,
   "metadata": {},
   "outputs": [],
   "source": [
    "windfarmer_installation_folder = r'C:\\Program Files\\DNV\\WindFarmer - Analyst 1.6.4.1'\n",
    "wf = sdk.Sdk(windfarmer_installation_folder)\n",
    "print(' > SDK is now up and running!')"
   ]
  },
  {
   "cell_type": "markdown",
   "metadata": {},
   "source": [
    "### Define file paths and inputs\n",
    "Here we're using the Hawaii demo data, but you could change these to come from config files or csvs etc."
   ]
  },
  {
   "cell_type": "code",
   "execution_count": null,
   "metadata": {},
   "outputs": [],
   "source": [
    "lattitude = 20.259495\n",
    "longitude = -155.866667\n",
    "epsg = 32605"
   ]
  },
  {
   "cell_type": "code",
   "execution_count": null,
   "metadata": {},
   "outputs": [],
   "source": [
    "root_dir = os.path.abspath(os.path.join(os.getcwd(), '..', '..', '..'))\n",
    "data_path = os.path.join(root_dir, \"DemoData\", 'Hawaii')\n",
    "workbook_path = os.path.join(os.getcwd(), 'Hawaii_autosetup.wwx')\n",
    "\n",
    "gis_data_path = os.path.join(data_path, \"GIS data\")\n",
    "elevation_contours_path = os.path.join(gis_data_path, \"Elevation contours - Hawaii.map\")\n",
    "elevation_grid_path = os.path.join(gis_data_path, \"SRTM gridded elevations - N20W156.grd\") # This could also be generated from the contours, or the other way arround\n",
    "satellite_image =  os.path.join( gis_data_path, \"Satellite imagery.jpg\"  )\n",
    "background_image =  os.path.join( gis_data_path, \"Background image - Hawaii.png\"  )\n",
    "turbine_types_folder = os.path.join(data_path, \"Turbine types\")\n",
    "timeseries_folder = os.path.join(data_path, \"Time series\")"
   ]
  },
  {
   "cell_type": "code",
   "execution_count": null,
   "metadata": {},
   "outputs": [],
   "source": [
    "masts_df = pd.DataFrame([\n",
    "    {\"name\": \"M2\", \"easting\": 199186.0, \"northing\": 2242285.0, \"timeseries_file\": \"M2 time series.txt\", \"timeseries_load_settings_file\": \"M2 time series_LoadSettings.xml\" },\n",
    "    {\"name\": \"M3\", \"easting\": 202139.0, \"northing\": 2241811.0, \"timeseries_file\": \"M3 time series.txt\", \"timeseries_load_settings_file\": \"M3 time series_LoadSettings.xml\"} \n",
    "    ])\n",
    "masts_df = masts_df.set_index(\"name\")\n",
    "masts_df"
   ]
  },
  {
   "cell_type": "code",
   "execution_count": null,
   "metadata": {},
   "outputs": [],
   "source": [
    "windfarms_df = pd.DataFrame([\n",
    "    {\"name\": \"my wind farm\", \"is_neighbor\": False, \"turbine_type_name\": \"Hawaii 2.0 MW\", \"initiation_mast\": \"M2\", \"shapefile_path\": os.path.join(data_path, \"Turbines\", \"My wind farm.shp\") },\n",
    "    {\"name\": \"Kohala\", \"is_neighbor\": True, \"turbine_type_name\": \"Generic Turbine 750kW\", \"initiation_mast\": \"M3\", \"shapefile_path\": os.path.join(data_path, \"Turbines\", \"Kohala neighbouring wind farm.shp\")} \n",
    "    ])\n",
    "windfarms_df = windfarms_df.set_index(\"name\")\n",
    "windfarms_df"
   ]
  },
  {
   "cell_type": "markdown",
   "metadata": {},
   "source": [
    "### Save the workbook"
   ]
  },
  {
   "cell_type": "code",
   "execution_count": null,
   "metadata": {},
   "outputs": [],
   "source": [
    "wf.Toolbox.SaveAs(workbook_path)\n",
    "print(wf.Toolbox.get_CurrentWorkbookPath())"
   ]
  },
  {
   "cell_type": "markdown",
   "metadata": {},
   "source": [
    "### Set the site location and co-ordinate system"
   ]
  },
  {
   "cell_type": "code",
   "execution_count": null,
   "metadata": {},
   "outputs": [],
   "source": [
    "latLonSiteLocation = wf.Scripting.Location (longitude, lattitude)\n",
    "wf.Toolbox.RedefineSiteLocation(latLonSiteLocation)\n",
    "\n",
    "# Set the workbook co-ordinate system if it hasn't been set already\n",
    "if (wf.Workbook.Geography.Projection == None):\n",
    "    print(\"Setting workbook co-ordinate system\")\n",
    "    # EPSG codes provide a consistent way to define co-ordinate systems and this is what we use in scripting. \n",
    "    # Search a reference list like the following to find your co-ordinate system as an ESPG: http://spatialreference.org/ref/epsg/ \n",
    "    workbookProjection = wf.Toolbox.GetProjectionFromEpsgCode(epsg)\n",
    "    wf.Toolbox.RedefineWorkbookProjection(workbookProjection)\n"
   ]
  },
  {
   "cell_type": "markdown",
   "metadata": {},
   "source": [
    "### Import Elevation GIS data"
   ]
  },
  {
   "cell_type": "code",
   "execution_count": null,
   "metadata": {},
   "outputs": [],
   "source": [
    "print(\"Importing elevation data\")\n",
    "# this .map file has no associated projection information so this must be specified\n",
    "wf.Toolbox.ImportElevationContours(elevation_contours_path, wf.Workbook.Geography.Projection)\n",
    "\n",
    "wf.Toolbox.ImportElevationGrid(elevation_grid_path)\n",
    "# this .grd elevation grid file has an associated .prj file, \"N20W156.prj\", descibing the projection \n",
    "# so no projection need be specified, reprojection to the workbook projection is handled automatically on import.\n",
    "# Alternatively you can create the elevation grid from the contours already loaded in the workbook:\n",
    "# Toolbox.AddElevationGrid( Workbook.Geography.Contours.FirstOrDefault(), 25 );"
   ]
  },
  {
   "cell_type": "code",
   "execution_count": null,
   "metadata": {},
   "outputs": [],
   "source": [
    "print(\"Importing background image\")\n",
    "wf.Toolbox.ImportBackgroundImage( satellite_image) # The background is georeferenced with a world file and projection file (.pgw and .prj). A .pgw is needed but you can define the projection from like we did for loading contours\n",
    "wf.Toolbox.ImportBackgroundImage( background_image ) # alternative full island image, uncomment to load this too"
   ]
  },
  {
   "cell_type": "markdown",
   "metadata": {},
   "source": [
    "### Configure Measurement sites, loading hub height time series"
   ]
  },
  {
   "cell_type": "code",
   "execution_count": null,
   "metadata": {},
   "outputs": [],
   "source": [
    "# remove existing mast if testing\n",
    "# wf.Workbook.Climate.MeasurementSites.Remove(\"M2\") "
   ]
  },
  {
   "cell_type": "code",
   "execution_count": null,
   "metadata": {},
   "outputs": [],
   "source": [
    "for mast_name in masts_df.index:\n",
    "    mast_row = masts_df.loc[mast_name]\n",
    "    print(mast_row)\n",
    "    new_mast = wf.Scripting.Mast(mast_name, wf.Scripting.Location(mast_row[\"easting\"], mast_row[\"northing\"]))\n",
    "    wf.Workbook.Climate.MeasurementSites.Add(new_mast)\n",
    "    print([mast for mast in wf.Workbook.Climate.MeasurementSites])\n",
    "    \n",
    "    # Import time series data in to the workbook for each of the measurement sites\n",
    "    time_series_file_path = os.path.join(timeseries_folder, mast_row[\"timeseries_file\"])\n",
    "    time_series_settings_file_path = os.path.join(timeseries_folder, mast_row[\"timeseries_load_settings_file\"])\n",
    "\n",
    "    wf.Toolbox.MeasurementCampaign.LoadData(  time_series_file_path, time_series_settings_file_path)"
   ]
  },
  {
   "cell_type": "markdown",
   "metadata": {},
   "source": [
    "### Create frequency distributions and turbulence intensity distributions from loaded time series"
   ]
  },
  {
   "cell_type": "code",
   "execution_count": null,
   "metadata": {},
   "outputs": [],
   "source": [
    "# shortcut to wind analysis toolbox\n",
    "wa_toolbox = wf.Toolbox.MeasurementCampaign "
   ]
  },
  {
   "cell_type": "code",
   "execution_count": null,
   "metadata": {},
   "outputs": [],
   "source": [
    "# The names we're using here to get the time series are coming from the names applied in the loader settings file.\n",
    "# If you want to automate the process (and not type these in) you should define a standard input file, where you can re-use a standard data loader settings file\n",
    "# The first time you define loader settings, use the GUI and see https://mysoftware.dnv.com/download/public/renewables/windfarmer/manuals/latest/UserGuide/Wind/Measurements/LoadMeasurementData.html\n",
    "M2_ws60S_Mean = wa_toolbox.GetSpeedTimeSeries(\"M2~ws60S~Mean\") \n",
    "M2_ws60N_Mean = wa_toolbox.GetSpeedTimeSeries(\"M2~ws60N~Mean\")\n",
    "M2_ws60N_SD = wa_toolbox.GetSpeedTimeSeries(\"M2~ws60N~StdDev\")\n",
    "\n",
    "M2_wd57_Mean = wa_toolbox.GetDirectionTimeSeries(\"M2~wd57~Mean\")\n",
    "\n",
    "M3_ws94NW_Mean = wa_toolbox.GetSpeedTimeSeries(\"M3~ws94NW~Mean\")\n",
    "M3_ws94S_SD = wa_toolbox.GetSpeedTimeSeries(\"M3~ws94S~StdDev\")\n",
    "M3_wd94_Mean = wa_toolbox.GetDirectionTimeSeries(\"M3~wd94~Mean\")"
   ]
  },
  {
   "cell_type": "code",
   "execution_count": null,
   "metadata": {},
   "outputs": [],
   "source": [
    "print(\"create frequency distributions\")\n",
    "m2_FD_ws60wd57 = wa_toolbox.CreateFrequencyDistribution(M2_ws60N_Mean, M2_wd57_Mean, True, \"m2_FD_ws60wd57\")\n",
    "m3_FD_ws94wd94 = wa_toolbox.CreateFrequencyDistribution(M3_ws94NW_Mean, M2_wd57_Mean, True, \"m3_FD_ws94wd94\")\n",
    "\n",
    "print(\"create turbulence intensity distributions\")\n",
    "M2_60m_TI = wa_toolbox.CreateTurbulenceIntensityDistribution(M2_ws60N_Mean, M2_ws60N_SD, M2_wd57_Mean, \"M2_60m_TI\")\n",
    "M3_94m_TI = wa_toolbox.CreateTurbulenceIntensityDistribution(M3_ws94NW_Mean, M3_ws94S_SD, M3_wd94_Mean, \"M3_94m_TI\")\n",
    "\n",
    "print(\"Save frequency distributions and turbulence intensity distributions back to the workbook as inputs to WAsP and energy calculations\")\n",
    "wa_toolbox.SaveDistribution(wf.Workbook.Climate.MeasurementSites[\"M2\"], m2_FD_ws60wd57, m2_FD_ws60wd57.Name, 60, True)\n",
    "wa_toolbox.SaveDistribution(wf.Workbook.Climate.MeasurementSites[\"M2\"], M2_60m_TI, M2_60m_TI.Name, 60, True)\n",
    "wa_toolbox.SaveDistribution(wf.Workbook.Climate.MeasurementSites[\"M3\"], m3_FD_ws94wd94, m3_FD_ws94wd94.Name, 94, True)\n",
    "wa_toolbox.SaveDistribution(wf.Workbook.Climate.MeasurementSites[\"M3\"], M3_94m_TI, M3_94m_TI.Name, 94, True)"
   ]
  },
  {
   "cell_type": "markdown",
   "metadata": {},
   "source": [
    "### Load turbine types"
   ]
  },
  {
   "cell_type": "code",
   "execution_count": null,
   "metadata": {},
   "outputs": [],
   "source": [
    "print(\"load all turbine types in the folder in to the workbook\")\n",
    "\n",
    "existing_turbine_type_names = [turbine_type.Name for turbine_type in wf.Workbook.TurbineTypes]\n",
    "\n",
    "for trbxFile in glob.glob( os.path.join(turbine_types_folder, \"*.trbx\")):\n",
    "    turbine_type = wf.Scripting.TurbineType(trbxFile)\n",
    "\n",
    "    if turbine_type.Name in existing_turbine_type_names:\n",
    "        print(f\"{turbine_type.Name} already loaded! Skipping!\")\n",
    "        continue\n",
    "\n",
    "    wf.Workbook.TurbineTypes.Add(turbine_type)\n",
    "    print( f\"Loaded turbine type {turbine_type.Name} from file {trbxFile}\")\n",
    "    \n"
   ]
  },
  {
   "cell_type": "markdown",
   "metadata": {},
   "source": [
    "### Define turbine locations\n",
    "* parse locations from file into a dataframe\n",
    "* Set initiation mast on each turbine manually"
   ]
  },
  {
   "cell_type": "code",
   "execution_count": null,
   "metadata": {},
   "outputs": [],
   "source": [
    "turbine_name_prefix = \"T\"\n",
    "turbine_count = 0\n",
    "\n",
    "\n",
    "for wind_farm_name in windfarms_df.index:\n",
    "    wind_farm_row = windfarms_df.loc[wind_farm_name]\n",
    "    print(wind_farm_row)\n",
    "    \n",
    "    # add wind farm if it doesn't exist\n",
    "    if wf.Workbook.WindFarms[wind_farm_name] == None:\n",
    "        wf.Workbook.WindFarms.Add( wf.Scripting.WindFarm(wind_farm_name))\n",
    "    \n",
    "    wf.Workbook.WindFarms[wind_farm_name].IsNeighbour = bool(wind_farm_row[\"is_neighbor\"])\n",
    "\n",
    "    turbine_type = wf.Workbook.TurbineTypes[wind_farm_row[\"turbine_type_name\"]]\n",
    "    if turbine_type == None:\n",
    "        turbine_type_name = wind_farm_row[\"turbine_type_name\"]\n",
    "        print(f\"ERROR: Turbine type: {turbine_type_name }, requested doesn't exist in workbook! \" )\n",
    "    \n",
    "    # add the turbines to the wind farm\n",
    "    turbine_locations = wf.Toolbox.ImportLocationsFromShapeFile( wind_farm_row[\"shapefile_path\"])\n",
    "    for location in turbine_locations:\n",
    "        turbine_count = turbine_count +1\n",
    "        turbine_name = f\"{turbine_name_prefix}{turbine_count}\"\n",
    "        wf.Workbook.WindFarms[wind_farm_name].Turbines.Add( \n",
    "            wf.Scripting.Turbine( \n",
    "                turbine_name, \n",
    "                wf.Scripting.Location(location.X, location.Y),\n",
    "                turbine_type))\n",
    "#wf.Scripting.IReadable2DLocation()"
   ]
  },
  {
   "cell_type": "markdown",
   "metadata": {},
   "source": [
    "### Import flow model"
   ]
  },
  {
   "cell_type": "code",
   "execution_count": null,
   "metadata": {},
   "outputs": [],
   "source": [
    "if (wf.Toolbox.IsWaspAvailable(wf.Scripting.WAsPVersion.Version12) == wf.Scripting.WAsPStatus.Available):\n",
    "    print(\"\\t running WAsP 12 flow model\")\n",
    "    wf.Workbook.ModelSettings.FlowSettings.FlowModelType = wf.Scripting.FlowModelType.WaspFromFreqDist\n",
    "    wf.Workbook.ModelSettings.FlowSettings.WAsPParameters.WAsPVersion = wf.Scripting.WAsPVersion.Version11\n",
    "else:\n",
    "    print(\"\\t running simple flow model\")\n",
    "    wf.Workbook.ModelSettings.FlowSettings.FlowModelType = wf.Scripting.FlowModelType.Simple\n",
    "\n",
    "wf.Toolbox.CalculateWindFlow()\n",
    "print(\"Completed wind flow calculation\")"
   ]
  },
  {
   "cell_type": "markdown",
   "metadata": {},
   "source": [
    "### Run energy calculation"
   ]
  },
  {
   "cell_type": "code",
   "execution_count": null,
   "metadata": {},
   "outputs": [],
   "source": [
    "# Set some energy calculation settings\n",
    "energySettings = wf.Workbook.ModelSettings.EnergySettings\n",
    "energySettings.WakeModelType =  wf.Scripting.WakeModelType.EddyViscosity\n",
    "energySettings.ApplyLargeWindFarmCorrection = True\n",
    "energySettings.CalculationToUse = wf.Scripting.EnergyCalculationToUseType.New\n",
    "energySettings.CalculateEfficiencies = True\n",
    "energySettings.LargeWindFarmCorrectionSettings.BaseRoughness = 0.0002\n",
    "energySettings.LargeWindFarmCorrectionSettings.IncreasedRoughness = 0.0192\n",
    "energySettings.LargeWindFarmCorrectionSettings.DistanceInDiametersToStartOfRecovery = 120\n",
    "energySettings.NumberOfDirectionSectors = 180\n"
   ]
  },
  {
   "cell_type": "code",
   "execution_count": null,
   "metadata": {},
   "outputs": [],
   "source": [
    "# set some FPM export settings\n",
    "energySettings.ExportFPMsAfterCalculation = True\n",
    "energySettings.ExportFPMs.FolderPath = os.getcwd()\n",
    "\n",
    "energySettings.ExportFPMs.AmbientTurbulenceAtTurbines_MastBinning.Export = True\n",
    "energySettings.ExportFPMs.AmbientTurbulenceAtTurbines_MastBinning.ExportFilePrefix = \"AmbientTurbulenceAtTurbines_\"\n",
    "energySettings.ExportFPMs.DesignTurbulenceByWindSpeed_TurbineBinning.Export  = False\n",
    "energySettings.ExportFPMs.DesignTurbulenceByWindSpeedAndDirection_TurbineBinning.Export  = False\n",
    "energySettings.ExportFPMs.MastToTurbineSpeedUps.Export  = False\n",
    "energySettings.ExportFPMs.ProbabilityDistribution_MastBinning.Export  = False\n",
    "energySettings.ExportFPMs.TerrainAngle.Export  = False\n",
    "energySettings.ExportFPMs.TotalWindFarmElectricPower.Export  = False\n",
    "energySettings.ExportFPMs.TurbineElectricPower_MastBinning.Export   = False\n",
    "energySettings.ExportFPMs.TurbineHubHeightAmbientWindSpeed_MastBinning.Export  = False\n",
    "energySettings.ExportFPMs.TurbineOperational_MastBinning.Export  = False\n",
    "energySettings.ExportFPMs.WakedTurbulenceAtTurbines_MastBinning.Export  = False\n",
    "\n",
    "wf.Toolbox.CalculateEnergy()"
   ]
  },
  {
   "cell_type": "code",
   "execution_count": null,
   "metadata": {},
   "outputs": [],
   "source": [
    "# Compute the full yield\n",
    "print (f'Computing energy')\n",
    "results_scenario = wf.Toolbox.CalculateEnergy()\n",
    "print ('Finished energy calculation!')\n",
    "\n",
    "\n",
    "# Read some results\n",
    "subject_wind_farm_names = windfarms_df[(windfarms_df[\"is_neighbor\"]== False)].index\n",
    "full_yeild = 0\n",
    "for subject_farm_name in subject_wind_farm_names:\n",
    "    subjectWindFarm = [x for x in results_scenario.WindFarms if x.Name in subject_wind_farm_names][0]\n",
    "    farm_full_yeild = results_scenario.FarmTotalYields.GetVariantResult(\"Full\").GetValueForFarm(subjectWindFarm).Value / 1e6\t\n",
    "    full_yeild = full_yeild + farm_full_yeild\n",
    "    print( str.format(\"Full yield for wind farm {0}:\\t{1:.2f} GWh/annum\\n\", subjectWindFarm.Name, farm_full_yeild))\n",
    "\n",
    "print( str.format(\"Full yield for all subject wind farms = {0:.2f} GWh/annum\\n\", full_yeild))"
   ]
  },
  {
   "cell_type": "code",
   "execution_count": null,
   "metadata": {},
   "outputs": [],
   "source": [
    "print(wf.Toolbox.get_CurrentWorkbookPath())\n",
    "wf.Toolbox.Save()"
   ]
  },
  {
   "cell_type": "markdown",
   "metadata": {},
   "source": [
    "### Power time series\n",
    "To run the power time series calculation, you will need to do some setup that can't be configured by scripting yet.\n",
    "* Open the workbook at the path above\n",
    "* Go to Energy > Power time series\n",
    "* Open \"Select wind climate inputs\" and choose the time series data to fit your initiation strategy for any wind climates listed that initiate at least 1 turbine.\n",
    "\n",
    "Note, performance can be a problem for power time series. You may want to resample time series to hourly data to compute 6 times fewer records. \n",
    "\n",
    "The following settings can be defined in scripting, and you will see them in the GUI:"
   ]
  },
  {
   "cell_type": "code",
   "execution_count": null,
   "metadata": {},
   "outputs": [],
   "source": [
    "wf.Workbook.ModelSettings.PowerTimeSeriesCalculationSettings.UseAirDensitySingleValue = True\n",
    "wf.Workbook.ModelSettings.PowerTimeSeriesCalculationSettings.AirDensityMeanTimeSeries = None \n",
    "# air density settings are then used \n",
    "\n",
    "wf.Workbook.ModelSettings.PowerTimeSeriesCalculationSettings.UseTurbulenceIntensity = True # true means use the turbulence intensity distribution, but you have to define that in the GUI\n",
    "wf.Workbook.ModelSettings.PowerTimeSeriesCalculationSettings.DirectionMeanTimeSeries = M3_wd94_Mean\n",
    "\n",
    "# Exporting the power time series to file. If you don't do this, you can't access it later.\n",
    "# Note there is currently a significant performance impact from exporting the time series to file. We have plans to optimise that \n",
    "# our focus when building this had been more on curtailment estimation with power time series\n",
    "wf.Workbook.ModelSettings.PowerTimeSeriesCalculationSettings.ShouldExportIntermediateResults = True\n",
    "wf.Workbook.ModelSettings.PowerTimeSeriesCalculationSettings.IntermediateResultsFolderPath = os.path.abspath(os.getcwd())\n",
    "\n",
    "wf.Workbook.ModelSettings.PowerTimeSeriesCalculationSettings.ApplyCurtailmentRules = False \n",
    "# these rules can be defined on wind farms, turbines and turbine types, see CurtailmentRule - https://mysoftware.dnv.com/download/public/renewables/windfarmer/manuals/latest/api/Scripting.CurtailmentRule.html\n",
    "# wf.Workbook[\"\"].Turbines[\"\"].CurtailmentRules.Add() "
   ]
  },
  {
   "cell_type": "code",
   "execution_count": null,
   "metadata": {},
   "outputs": [],
   "source": [
    "# You can run the power time series here if you have already defined the inputs in the GUI.\n",
    "#wf.Toolbox.CalculatePowerTimeSeries()"
   ]
  },
  {
   "cell_type": "code",
   "execution_count": null,
   "metadata": {},
   "outputs": [],
   "source": [
    "# calling new workbook closes the workbook previously being editted here.\n",
    "wf.Toolbox.NewWorkbook()"
   ]
  }
 ],
 "metadata": {
  "kernelspec": {
   "display_name": "wf_auto",
   "language": "python",
   "name": "python3"
  },
  "language_info": {
   "codemirror_mode": {
    "name": "ipython",
    "version": 3
   },
   "file_extension": ".py",
   "mimetype": "text/x-python",
   "name": "python",
   "nbconvert_exporter": "python",
   "pygments_lexer": "ipython3",
   "version": "3.9.18"
  }
 },
 "nbformat": 4,
 "nbformat_minor": 2
}
