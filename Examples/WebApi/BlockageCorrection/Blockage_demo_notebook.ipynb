{
 "cells": [
  {
   "cell_type": "markdown",
   "metadata": {},
   "source": [
    "# WindFarmer API demo\n",
    "The WindFarmer API is a web API. You can call it from any coding language, or use tools like Postman. There is an OpenAPI definition which provides\n",
    "documentation, and allows client code to be generated.\n",
    "\n",
    "From python you can call the API directly, using `urllib3` or `requests`.\n",
    "\n",
    "## Using the API directly\n",
    "First, import the necessary modules"
   ]
  },
  {
   "cell_type": "code",
   "execution_count": 1,
   "metadata": {},
   "outputs": [],
   "source": [
    "import os\n",
    "import requests\n",
    "import json\n",
    "import time"
   ]
  },
  {
   "cell_type": "markdown",
   "metadata": {},
   "source": [
    "To access the API you need a authorization token. This should be kept secure - and not added to source control, so I'm getting it from an environment variable.\n",
    "\n",
    "The token should be passed as an Authorization header. We also need to set the `Content-Type` to let the API know that we're sending JSON data."
   ]
  },
  {
   "cell_type": "code",
   "execution_count": 2,
   "metadata": {},
   "outputs": [],
   "source": [
    "api_url = 'https://windfarmer.dnv.com/api/v2/'\n",
    "auth_token = auth_token = os.environ['WINDFARMER_ACCESS_KEY']\n",
    "\n",
    "headers = {\n",
    "    'Authorization': f'Bearer {auth_token}',\n",
    "    'Content-Type': 'application/json'\n",
    "}"
   ]
  },
  {
   "cell_type": "markdown",
   "metadata": {},
   "source": [
    "### Call `Status`\n",
    "Try calling the `Status` endpoint. This verifies that you can access the API and that your token is valid."
   ]
  },
  {
   "cell_type": "code",
   "execution_count": 3,
   "metadata": {},
   "outputs": [
    {
     "name": "stdout",
     "output_type": "stream",
     "text": [
      "Response from Status: 200\n",
      "{\"message\":\"Connection to DNV WindFarmer Services API was successful.\",\"windFarmerServicesAPIVersion\":\"2.3.0\",\"calculationLibraryVersion\":\"2.2.31.0\"}\n"
     ]
    }
   ],
   "source": [
    "response = requests.get(api_url + 'Status', headers = headers)\n",
    "print(f'Response from Status: {response.status_code}')\n",
    "print(response.text)"
   ]
  },
  {
   "cell_type": "markdown",
   "metadata": {},
   "source": [
    "### Call `BlockageCorrection`\n",
    "\n",
    "Prepare the input data for the BlockageCorrection calculation. This could come from elsewhere in your script, but here we're just loading it from a file."
   ]
  },
  {
   "cell_type": "code",
   "execution_count": 4,
   "metadata": {
    "tags": []
   },
   "outputs": [
    {
     "name": "stdout",
     "output_type": "stream",
     "text": [
      "{\n",
      "    \"turbines\": [\n",
      "       { \"easting_m\": 199977, \"northing_m\": 2242510, \"hubHeight_m\": 100, \"rotorDiameter_m\": 80 },\n",
      "       { \"easting_m\": 200556, \"northing_m\": 2242405, \"hubHeight_m\": 100, \"rotorDiameter_m\": 80 },\n",
      "       { \"easting_m\": 199398, \"northing_m\": 2242615, \"hubHeight_m\": 100, \"rotorDiameter_m\": 80 },\n",
      "       { \"easting_m\": 199548, \"northing_m\": 2242300, \"hubHeight_m\": 100, \"rotorDiameter_m\": 80 },\n",
      "       { \"easting_m\": 200127, \"northing_m\": 2242195, \"hubHeight_m\": 100, \"rotorDiameter_...\n"
     ]
    }
   ],
   "source": [
    "with open('input/BlockageCorrection_input_data.json') as f:\n",
    "    json_string = f.read()\n",
    "    input_data = json.loads(json_string)\n",
    "\n",
    "print(json_string[0:500] +  '...')\n"
   ]
  },
  {
   "cell_type": "markdown",
   "metadata": {},
   "source": [
    "The data is now in a dictionary..."
   ]
  },
  {
   "cell_type": "code",
   "execution_count": 5,
   "metadata": {},
   "outputs": [
    {
     "data": {
      "text/plain": [
       "200556"
      ]
     },
     "execution_count": 5,
     "metadata": {},
     "output_type": "execute_result"
    }
   ],
   "source": [
    "input_data['turbines'][1]['easting_m']"
   ]
  },
  {
   "cell_type": "markdown",
   "metadata": {},
   "source": [
    "Send the input data to the Blockage Correction calculation"
   ]
  },
  {
   "cell_type": "code",
   "execution_count": 6,
   "metadata": {},
   "outputs": [
    {
     "name": "stdout",
     "output_type": "stream",
     "text": [
      "Response 200 in 0.60s\n"
     ]
    }
   ],
   "source": [
    "start = time.time()\n",
    "response = requests.post(\n",
    "    api_url + 'BlockageCorrection', \n",
    "    headers=headers,\n",
    "    json = input_data)\n",
    "    \n",
    "print(f'Response {response.status_code} in {time.time() - start:.2f}s')"
   ]
  },
  {
   "cell_type": "markdown",
   "metadata": {},
   "source": [
    "Deserialize the response, and use it..."
   ]
  },
  {
   "cell_type": "markdown",
   "metadata": {},
   "source": []
  },
  {
   "cell_type": "code",
   "execution_count": 7,
   "metadata": {},
   "outputs": [
    {
     "name": "stdout",
     "output_type": "stream",
     "text": [
      "blockage correction = 98.835 % \n"
     ]
    }
   ],
   "source": [
    "result = json.loads(response.content)\n",
    "blockage_correction = float(result['blockageEffect'])* 100\n",
    "print(f\"blockage correction = {blockage_correction:.3f} % \")"
   ]
  }
 ],
 "metadata": {
  "interpreter": {
   "hash": "720ac664810b14341ded5295599f991a957bcf309f170cd7e9e2a67ba5a9e1ab"
  },
  "kernelspec": {
   "display_name": "Python 3.9.13 ('wf_auto')",
   "language": "python",
   "name": "python3"
  },
  "language_info": {
   "codemirror_mode": {
    "name": "ipython",
    "version": 3
   },
   "file_extension": ".py",
   "mimetype": "text/x-python",
   "name": "python",
   "nbconvert_exporter": "python",
   "pygments_lexer": "ipython3",
   "version": "3.9.18"
  },
  "metadata": {
   "interpreter": {
    "hash": "d1e4be30fd4c5a8b3e03d3501a2d81ca2cb313a2f0b670c480ce2a911aa80e36"
   }
  },
  "orig_nbformat": 2
 },
 "nbformat": 4,
 "nbformat_minor": 2
}
