{
 "cells": [
  {
   "attachments": {},
   "cell_type": "markdown",
   "metadata": {},
   "source": [
    "# Calculate blockage corrections with BEET and CFD.ML\n",
    "CFD.ML may be use to derive a blockage correction to a wakes-only, engineering model.\n",
    "This notebook performs the calculation, and provides a comparisson to the BEET blockage correction results!"
   ]
  },
  {
   "cell_type": "code",
   "execution_count": 43,
   "metadata": {},
   "outputs": [],
   "source": [
    "import os\n",
    "import requests\n",
    "import json\n",
    "import time\n",
    "import random\n",
    "import asyncio\n",
    "import pandas as pd\n",
    "from copy import deepcopy\n",
    "from pprint import pp\n",
    "from typing import Tuple"
   ]
  },
  {
   "cell_type": "markdown",
   "metadata": {},
   "source": [
    "### Export script inputs from WindFarmer\n",
    "Export the annual energy production calculation API input settings from within your workbook using an in-app script. Edit the file path and call:\n",
    "\n",
    "```Toolbox.ExportWindFarmerEnergyJson( @\"C:\\folder\\my_aep_calculation_inputs.json\" );```"
   ]
  },
  {
   "cell_type": "markdown",
   "metadata": {},
   "source": [
    "### User inputs\n",
    "Edit below!"
   ]
  },
  {
   "cell_type": "code",
   "execution_count": 44,
   "metadata": {},
   "outputs": [],
   "source": [
    "# Exported AEP input settings from your workbook using an in-app script and calling Toolbox.ExportWindFarmerEnergyJson( input_data_file_path ):\n",
    "AEP_calculation_input_json_file_path = r'..\\..\\..\\DemoData\\TheBowl\\TheBowl.json'\n",
    "# 2 Graph Neural Networks are available in Version 2.3\n",
    "gnn_type = \"offshore\" # \"onshore\" / \"offshore\"\n",
    "\n",
    "number_of_direction_steps = 180\n",
    "blockage_correction_application_method = \"OnEnergy\" #  \"OnEnergy\" / \"OnWindSpeed\" options"
   ]
  },
  {
   "attachments": {},
   "cell_type": "markdown",
   "metadata": {},
   "source": [
    "To access the API you need a authorization token. \n",
    "This should be kept secure - and not added to source control, so I'm getting it from an environment variable. See setup instructions for saving your access key as an environment variable documented [here.](https://myworkspace.dnv.com/download/public/renewables/windfarmer/manuals/latest/WebAPI/Introduction/gettingStarted.html)"
   ]
  },
  {
   "cell_type": "code",
   "execution_count": 45,
   "metadata": {},
   "outputs": [],
   "source": [
    "api_url = 'https://windfarmer.dnv.com/api/v2/'\n",
    "auth_token = os.environ['WINDFARMER_ACCESS_KEY']\n",
    "# The token should be passed as an Authorization header. We also need to set the `Content-Type` to let the API know that we're sending JSON data.\n",
    "headers = {\n",
    "    'Authorization': f'Bearer {auth_token}',\n",
    "    'Content-Type': 'application/json'\n",
    "}"
   ]
  },
  {
   "attachments": {},
   "cell_type": "markdown",
   "metadata": {},
   "source": [
    "### Call `Status` to check your connection\n",
    "If this fails to return status 200 then check your access key is saved in the environment variable above"
   ]
  },
  {
   "cell_type": "code",
   "execution_count": 46,
   "metadata": {},
   "outputs": [
    {
     "name": "stdout",
     "output_type": "stream",
     "text": [
      "Response from Status: 200\n",
      "{\"message\":\"Connection to DNV WindFarmer Services API was successful.\",\"windFarmerServicesAPIVersion\":\"2.6.14\",\"calculationLibraryVersion\":\"2.6.10.0\"}\n"
     ]
    }
   ],
   "source": [
    "response = requests.get(api_url + 'Status', headers = headers)\n",
    "print(f'Response from Status: {response.status_code}')\n",
    "print(response.text)"
   ]
  },
  {
   "attachments": {},
   "cell_type": "markdown",
   "metadata": {},
   "source": [
    "### Blockage calculations - call `AnnualEnergyProduction` endpoint"
   ]
  },
  {
   "cell_type": "code",
   "execution_count": 47,
   "metadata": {},
   "outputs": [
    {
     "name": "stdout",
     "output_type": "stream",
     "text": [
      "wind farms in project contain 110 turbines\n"
     ]
    }
   ],
   "source": [
    "# load the inputs\n",
    "with open(AEP_calculation_input_json_file_path) as f:\n",
    "    json_string = f.read()\n",
    "    json_input = json.loads(json_string)\n",
    "\n",
    "turbines = []\n",
    "for farm in json_input[\"windFarms\"]:\n",
    "    for turbine in farm[\"turbines\"]:\n",
    "        turbines.append(turbine)\n",
    "number_of_turbines = len(turbines)\n",
    "print(f'wind farms in project contain {number_of_turbines} turbines')"
   ]
  },
  {
   "attachments": {},
   "cell_type": "markdown",
   "metadata": {},
   "source": [
    "Define settings required to make a fast evaluation of CFD.ML and BEET blockage correction efficiencies"
   ]
  },
  {
   "cell_type": "code",
   "execution_count": 48,
   "metadata": {},
   "outputs": [],
   "source": [
    "json_input= json.loads(json_string)\n",
    "# general settings for all models\n",
    "json_input['energyEfficienciesSettings']['numberOfDirectionSectorsForWakeCalculation'] = number_of_direction_steps\n",
    "# turn off wake models etc. so only considering blockage for speed of computation\n",
    "json_input['energyEfficienciesSettings']['wakeModel']['wakeModelType'] = 'NoWakeModel'\n",
    "json_input[\"energyEfficienciesSettings\"][\"wakeModel\"][\"noWakeModel\"][\"useLargeWindFarmModel\"] = False\n",
    "json_input[\"energyEfficienciesSettings\"][\"calculateEfficiencies\"] = False\n",
    "json_input[\"energyEfficienciesSettings\"][\"includeHysteresisEffect\"] = False\n",
    "json_input[\"energyEfficienciesSettings\"][\"includeTurbineManagement\"] = False\n",
    "json_input[\"energyEfficienciesSettings\"][\"calculateIdealYield\"] = False\n",
    "json_input[\"energyEfficienciesSettings\"][\"turbineFlowAndPerformanceMatrixOutputSettings\"] = {}\n",
    "\n",
    "beet_stable_inputs = deepcopy(json_input)\n",
    "beet_stable_inputs['energyEfficienciesSettings']['blockageModel']['beet']['blockageCorrectionApplicationMethod'] = blockage_correction_application_method\n",
    "beet_stable_inputs['energyEfficienciesSettings']['blockageModel']['blockageModelType'] = \"BEET\" \n",
    "beet_stable_inputs[\"energyEfficienciesSettings\"][\"blockageModel\"][\"beet\"][\"significantAtmosphericStability\"] = True\n",
    "\n",
    "beet_neutral_unstable_inputs = deepcopy(beet_stable_inputs)\n",
    "beet_neutral_unstable_inputs[\"energyEfficienciesSettings\"][\"blockageModel\"][\"beet\"][\"significantAtmosphericStability\"] = False\n",
    "\n",
    "cfdml_inputs = deepcopy(json_input)\n",
    "cfdml_inputs['energyEfficienciesSettings']['blockageModel']['blockageModelType'] = \"CFDML\" \n",
    "cfdml_inputs[\"energyEfficienciesSettings\"][\"blockageModel\"][\"cfdml\"][\"cfdmlBlockageWindSpeedDependency\"] = \"FromBlockageExtrapolationCurve\" \n",
    "cfdml_inputs['energyEfficienciesSettings']['blockageModel']['cfdml']['blockageCorrectionApplicationMethod'] = blockage_correction_application_method\n",
    "cfdml_inputs[\"energyEfficienciesSettings\"][\"blockageModel\"][\"cfdml\"][\"cfdmlSettings\"][\"gnnType\"] = gnn_type\n",
    "cfdml_inputs[\"energyEfficienciesSettings\"][\"blockageModel\"][\"cfdml\"][\"cfdmlSettings\"][\"gnnVersion\"] = \"1.1\" # This calculator is only for version 1"
   ]
  },
  {
   "cell_type": "markdown",
   "metadata": {},
   "source": [
    "Some methods to make a calls to the WFer Services API and compute the blockage correction regardless of approach.\n",
    "We call the asynchronous AEP method for farms with > 150 turbines"
   ]
  },
  {
   "cell_type": "code",
   "execution_count": 49,
   "metadata": {},
   "outputs": [],
   "source": [
    "# Polling for status for AnnualEnergyProductionAsync calculations\n",
    "async def get_jobstatus( job_id: str) -> Tuple[str, str, str]:\n",
    "    params = {}\n",
    "    params[\"jobId\"] = job_id\n",
    "    result =  requests.get(api_url + 'AnnualEnergyProductionAsync', headers=headers, params= params)\n",
    "    result_json = json.loads(result.content)\n",
    "    message = ' - '.join(x for x in \n",
    "                        [\n",
    "                            str(result_json['progress']) + '%' if 'progress' in result_json else None,\n",
    "                            result_json.get('message'),\n",
    "                            result_json.get('stageMessage')\n",
    "                        ] if x)\n",
    "    \n",
    "    return (result_json['status'], message, result_json['results'] if 'results' in result_json else None)\n",
    "\n",
    "def print_errors(response):\n",
    "    response_json = json.loads(response.content)\n",
    "    if (detail := response_json.get('detail')):\n",
    "        print(detail)\n",
    "    if (errors := response_json.get('errors')):\n",
    "        print(\"Errors:\")\n",
    "        pp(errors)\n",
    "\n",
    "# Aynchronous calculations are slower, but reliable for long running calculations as we implement a job queue.\n",
    "async def call_aep_api_async(api_url, headers, input_data, min_polling_interval_seconds):\n",
    "    start = time.time()\n",
    "    job_id_response = requests.post(\n",
    "        api_url + 'AnnualEnergyProductionAsync', \n",
    "        headers=headers,\n",
    "        json = input_data)    \n",
    "    print(f'Response {job_id_response.status_code} - {job_id_response.reason} in {time.time() - start:.2f}s')\n",
    "    # Print the error detail if we haven't receieved a 200 OK response\n",
    "    if job_id_response.status_code != 202:\n",
    "        print_errors(job_id_response)\n",
    "        raise Exception(\"Error submitting AEP calculation\")\n",
    "    else:\n",
    "        job_ID = json.loads (job_id_response.text)[\"jobId\"]\n",
    "        print ('...Job submitted with ID: ')\n",
    "        print (job_ID)\n",
    "        # Poll for status\n",
    "        status = \"PENDING\"\n",
    "        await ( asyncio.sleep(random.random() + 5))\n",
    "        while(status == 'PENDING' or status == 'RUNNING'):\n",
    "            (status, message, results ) = await get_jobstatus(job_ID)\n",
    "            print(f'...Calculation status @ {time.time() - start:.2f}s: {status} - {message}')\n",
    "            if status == 'FAILED':\n",
    "                raise Exception(f\"Calculation failed: {message}\")\n",
    "            await ( asyncio.sleep(random.random() + min_polling_interval_seconds))\n",
    "        print(f'{status} in {time.time() - start:.2f}s')\n",
    "        return results\n",
    "\n",
    "\n",
    "# Synchronous calculations are faster, but unreliable for large wind farms:\n",
    "def call_aep_api_sync(api_url, headers, input_data):\n",
    "    start = time.time()\n",
    "    response = requests.post(\n",
    "        api_url + 'AnnualEnergyProduction', \n",
    "        headers=headers,\n",
    "        json = input_data)\n",
    "    print(f'Response {response.status_code} - {response.reason} in {time.time() - start:.2f}s')\n",
    "\n",
    "    if response.status_code == 200:\n",
    "        results = json.loads(response.content)\n",
    "        return results\n",
    "    else:\n",
    "        # Print the error detail if we haven't receieved a 200 OK response \n",
    "        print_errors(response)\n",
    "        return None\n",
    "    \n",
    "\n",
    "# Decide whether to call the synchronous or asynchronous end point based on number of turbines\n",
    "async def call_aep_api(api_url, headers, input_data):\n",
    "    turbines = []\n",
    "    for farm in input_data[\"windFarms\"]:\n",
    "        for turbine in farm[\"turbines\"]:\n",
    "            turbines.append(turbine)\n",
    "    number_of_turbines = len(turbines)\n",
    "    blockage_model_type = input_data['energyEfficienciesSettings']['blockageModel']['blockageModelType'] \n",
    "    if number_of_turbines < 1 or blockage_model_type == \"BEET\":\n",
    "        print(f'Calling synchronous AEP API for {blockage_model_type} blockage calculation')\n",
    "        results = call_aep_api_sync(api_url, headers, input_data)\n",
    "    else:\n",
    "        print(f'Calling asynchronous AEP API for {blockage_model_type} blockage calculation')\n",
    "        time_per_turbine = 600 / 1000\n",
    "        min_polling_interval_seconds = number_of_turbines * time_per_turbine / 10\n",
    "        results = await call_aep_api_async(api_url, headers, input_data, min_polling_interval_seconds)\n",
    "    return results\n",
    "\n",
    "\n",
    "def get_blockage_efficiency(results_dict,blockage_correction_application_method):\n",
    "    blockage_correction_efficiency = -1\n",
    "    if blockage_correction_application_method == \"OnEnergy\":\n",
    "        blockage_correction_efficiency = float(results_dict['weightedBlockageEfficiency'])\n",
    "    elif blockage_correction_application_method == \"OnWindSpeed\":\n",
    "        full_aep_MWh_per_year = sum([float(x['fullAnnualEnergyYield_MWh_per_year']) for x in results_dict['windFarmAepOutputs']])\n",
    "        gross_aep_MWh_per_year = sum([float(x['grossAnnualEnergyYield_MWh_per_year']) for x in results_dict['windFarmAepOutputs']])\n",
    "        blockage_correction_efficiency = full_aep_MWh_per_year / gross_aep_MWh_per_year\n",
    "    else:\n",
    "        print(\"blockage_correction_application_method not recognised\")\n",
    "    return blockage_correction_efficiency    "
   ]
  },
  {
   "cell_type": "code",
   "execution_count": null,
   "metadata": {},
   "outputs": [
    {
     "name": "stdout",
     "output_type": "stream",
     "text": [
      "Calling asynchronous AEP API for CFDML blockage calculation\n",
      "Response 400 - Bad Request in 0.23s\n",
      "See the errors property for details.\n",
      "Errors:\n",
      "{'WindFarms[0].Turbines[0].Name': ['The input value is invalid.'],\n",
      " 'WindFarms[0].Turbines[1].Name': ['The input value is invalid.']}\n"
     ]
    },
    {
     "ename": "Exception",
     "evalue": "Error submitting AEP calculation",
     "output_type": "error",
     "traceback": [
      "\u001b[31m---------------------------------------------------------------------------\u001b[39m",
      "\u001b[31mException\u001b[39m                                 Traceback (most recent call last)",
      "\u001b[36mCell\u001b[39m\u001b[36m \u001b[39m\u001b[32mIn[50]\u001b[39m\u001b[32m, line 9\u001b[39m\n\u001b[32m      1\u001b[39m \u001b[38;5;66;03m# Make the API calls\u001b[39;00m\n\u001b[32m      2\u001b[39m \n\u001b[32m      3\u001b[39m \u001b[38;5;66;03m# beet_stable_results= await call_aep_api( api_url, headers, beet_stable_inputs)\u001b[39;00m\n\u001b[32m   (...)\u001b[39m\u001b[32m      6\u001b[39m \u001b[38;5;66;03m# beet_neutral_unstable_results= await call_aep_api( api_url, headers, beet_neutral_unstable_inputs)\u001b[39;00m\n\u001b[32m      7\u001b[39m \u001b[38;5;66;03m# beet_neutral_unstable_blockage_correction_efficiency = get_blockage_efficiency(beet_neutral_unstable_results, blockage_correction_application_method)\u001b[39;00m\n\u001b[32m----> \u001b[39m\u001b[32m9\u001b[39m cfdml_results = \u001b[38;5;28;01mawait\u001b[39;00m call_aep_api( api_url, headers, cfdml_inputs)\n\u001b[32m     10\u001b[39m cfdml_blockage_correction_efficiency = get_blockage_efficiency(cfdml_results, blockage_correction_application_method)\n",
      "\u001b[36mCell\u001b[39m\u001b[36m \u001b[39m\u001b[32mIn[49]\u001b[39m\u001b[32m, line 86\u001b[39m, in \u001b[36mcall_aep_api\u001b[39m\u001b[34m(api_url, headers, input_data)\u001b[39m\n\u001b[32m     84\u001b[39m     time_per_turbine = \u001b[32m600\u001b[39m / \u001b[32m1000\u001b[39m\n\u001b[32m     85\u001b[39m     min_polling_interval_seconds = number_of_turbines * time_per_turbine / \u001b[32m10\u001b[39m\n\u001b[32m---> \u001b[39m\u001b[32m86\u001b[39m     results = \u001b[38;5;28;01mawait\u001b[39;00m call_aep_api_async(api_url, headers, input_data, min_polling_interval_seconds)\n\u001b[32m     87\u001b[39m \u001b[38;5;28;01mreturn\u001b[39;00m results\n",
      "\u001b[36mCell\u001b[39m\u001b[36m \u001b[39m\u001b[32mIn[49]\u001b[39m\u001b[32m, line 35\u001b[39m, in \u001b[36mcall_aep_api_async\u001b[39m\u001b[34m(api_url, headers, input_data, min_polling_interval_seconds)\u001b[39m\n\u001b[32m     33\u001b[39m \u001b[38;5;28;01mif\u001b[39;00m job_id_response.status_code != \u001b[32m202\u001b[39m:\n\u001b[32m     34\u001b[39m     print_errors(job_id_response)\n\u001b[32m---> \u001b[39m\u001b[32m35\u001b[39m     \u001b[38;5;28;01mraise\u001b[39;00m \u001b[38;5;167;01mException\u001b[39;00m(\u001b[33m\"\u001b[39m\u001b[33mError submitting AEP calculation\u001b[39m\u001b[33m\"\u001b[39m)\n\u001b[32m     36\u001b[39m \u001b[38;5;28;01melse\u001b[39;00m:\n\u001b[32m     37\u001b[39m     job_ID = json.loads (job_id_response.text)[\u001b[33m\"\u001b[39m\u001b[33mjobId\u001b[39m\u001b[33m\"\u001b[39m]\n",
      "\u001b[31mException\u001b[39m: Error submitting AEP calculation"
     ]
    }
   ],
   "source": [
    "# Make the API calls\n",
    "\n",
    "beet_stable_results= await call_aep_api( api_url, headers, beet_stable_inputs)\n",
    "beet_stable_blockage_correction_efficiency = get_blockage_efficiency(beet_stable_results, blockage_correction_application_method)\n",
    "\n",
    "beet_neutral_unstable_results= await call_aep_api( api_url, headers, beet_neutral_unstable_inputs)\n",
    "beet_neutral_unstable_blockage_correction_efficiency = get_blockage_efficiency(beet_neutral_unstable_results, blockage_correction_application_method)\n",
    "\n",
    "cfdml_results = await call_aep_api( api_url, headers, cfdml_inputs)\n",
    "cfdml_blockage_correction_efficiency = get_blockage_efficiency(cfdml_results, blockage_correction_application_method)\n"
   ]
  },
  {
   "cell_type": "code",
   "execution_count": 9,
   "metadata": {},
   "outputs": [
    {
     "name": "stdout",
     "output_type": "stream",
     "text": [
      "Blockage correction application method = OnEnergy\n",
      "Note, the BEET model was derived from RANS CFD simulations approapriate to onshore boundary layers \n",
      "CFD.MLv1 has an onshore or offshore option in API v2.3\n",
      "\n"
     ]
    },
    {
     "data": {
      "text/html": [
       "<div>\n",
       "<style scoped>\n",
       "    .dataframe tbody tr th:only-of-type {\n",
       "        vertical-align: middle;\n",
       "    }\n",
       "\n",
       "    .dataframe tbody tr th {\n",
       "        vertical-align: top;\n",
       "    }\n",
       "\n",
       "    .dataframe thead th {\n",
       "        text-align: right;\n",
       "    }\n",
       "</style>\n",
       "<table border=\"1\" class=\"dataframe\">\n",
       "  <thead>\n",
       "    <tr style=\"text-align: right;\">\n",
       "      <th></th>\n",
       "      <th>Model</th>\n",
       "      <th>Atmospheric stability</th>\n",
       "      <th>On/Offshore</th>\n",
       "      <th>Blockage correction efficiency [%]</th>\n",
       "    </tr>\n",
       "  </thead>\n",
       "  <tbody>\n",
       "    <tr>\n",
       "      <th>0</th>\n",
       "      <td>BEET</td>\n",
       "      <td>Stable</td>\n",
       "      <td>onshore</td>\n",
       "      <td>97.118855</td>\n",
       "    </tr>\n",
       "    <tr>\n",
       "      <th>1</th>\n",
       "      <td>BEET</td>\n",
       "      <td>Neutral/Unstable</td>\n",
       "      <td>onshore</td>\n",
       "      <td>98.357485</td>\n",
       "    </tr>\n",
       "    <tr>\n",
       "      <th>2</th>\n",
       "      <td>CFD.ML</td>\n",
       "      <td>Neutral</td>\n",
       "      <td>offshore</td>\n",
       "      <td>96.701366</td>\n",
       "    </tr>\n",
       "  </tbody>\n",
       "</table>\n",
       "</div>"
      ],
      "text/plain": [
       "    Model Atmospheric stability On/Offshore  \\\n",
       "0    BEET                Stable     onshore   \n",
       "1    BEET      Neutral/Unstable     onshore   \n",
       "2  CFD.ML               Neutral    offshore   \n",
       "\n",
       "   Blockage correction efficiency [%]  \n",
       "0                           97.118855  \n",
       "1                           98.357485  \n",
       "2                           96.701366  "
      ]
     },
     "execution_count": 9,
     "metadata": {},
     "output_type": "execute_result"
    }
   ],
   "source": [
    "# Print results:\n",
    "print(f'Blockage correction application method = {blockage_correction_application_method}')\n",
    "print(f'Note, the BEET model was derived from RANS CFD simulations approapriate to onshore boundary layers \\nCFD.MLv1 has an onshore or offshore option in API v2.3\\n')\n",
    "columns = ['Model', 'Atmospheric stability', 'On/Offshore',  'Blockage correction efficiency [%]']\n",
    "results_data = [\n",
    "    ['BEET', 'Stable', 'onshore', beet_stable_blockage_correction_efficiency*100],\n",
    "    ['BEET', 'Neutral/Unstable', 'onshore', beet_neutral_unstable_blockage_correction_efficiency*100],\n",
    "    ['CFD.ML', 'Neutral', gnn_type, cfdml_blockage_correction_efficiency*100],\n",
    "]\n",
    "results_df = pd.DataFrame(results_data, columns=columns)\n",
    "results_df"
   ]
  }
 ],
 "metadata": {
  "kernelspec": {
   "display_name": ".venv (3.11.3)",
   "language": "python",
   "name": "python3"
  },
  "language_info": {
   "codemirror_mode": {
    "name": "ipython",
    "version": 3
   },
   "file_extension": ".py",
   "mimetype": "text/x-python",
   "name": "python",
   "nbconvert_exporter": "python",
   "pygments_lexer": "ipython3",
   "version": "3.11.3"
  },
  "metadata": {
   "interpreter": {
    "hash": "d1e4be30fd4c5a8b3e03d3501a2d81ca2cb313a2f0b670c480ce2a911aa80e36"
   }
  },
  "orig_nbformat": 2
 },
 "nbformat": 4,
 "nbformat_minor": 2
}
