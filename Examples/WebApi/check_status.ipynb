{
 "cells": [
  {
   "cell_type": "code",
   "execution_count": 3,
   "metadata": {},
   "outputs": [],
   "source": [
    "import os\n",
    "import requests\n",
    "import json"
   ]
  },
  {
   "cell_type": "markdown",
   "metadata": {},
   "source": [
    "### Call `Status` to check your API connection\n",
    "\n",
    "To access the API you need a authorization token. \n",
    "This should be kept secure - and not added to source control, so I'm getting it from an environment variable called `WINDFARMER_ACCESS_KEY`. See setup instructions for saving your access key as an environment variable documented [here.](https://mysoftware.dnv.com/download/public/renewables/windfarmer/manuals/latest/WebAPI/Introduction/apiAccessKeys.html)"
   ]
  },
  {
   "cell_type": "code",
   "execution_count": 4,
   "metadata": {},
   "outputs": [
    {
     "name": "stdout",
     "output_type": "stream",
     "text": [
      "Response from Status: 200\n",
      "Connection to DNV WindFarmer Services API was successful. You are ready to run calculations!\n",
      "  WindFarmer API version = 2.4.15-hotfix-v2-4-14-1.1\n",
      "  Calculations version = 2.4.32.0\n"
     ]
    }
   ],
   "source": [
    "# this is the URL of the WindFarmer API\n",
    "api_url = 'https://windfarmer.dnv.com/api/v2/'\n",
    "\n",
    "#here we load the access key from the environment variable\n",
    "auth_token = os.environ['WINDFARMER_ACCESS_KEY']\n",
    "\n",
    "# The token is passed to the API as an Authorization header.\n",
    "# We also need to set the `Content-Type` in the header to let the API know that we're sending JSON data.\n",
    "headers = {\n",
    "    'Authorization': f'Bearer {auth_token}',\n",
    "    'Content-Type': 'application/json'\n",
    "}\n",
    "\n",
    "# We can now make a request to the API to check that everything is working.\n",
    "response = requests.get(api_url + 'Status', headers = headers)\n",
    "print(f'Response from Status: {response.status_code}')\n",
    "if response.status_code == 200:\n",
    "    text = json.loads(response.text)\n",
    "    print(f'{text[\"message\"]} You are ready to run calculations!')\n",
    "    print(f'  WindFarmer API version = {text[\"windFarmerServicesAPIVersion\"]}')\n",
    "    print(f'  Calculations version = {text[\"calculationLibraryVersion\"]}')\n",
    "else:\n",
    "    print(response.text)\n",
    "    print('Check your access key is saved in the environment variable specified above, and up to date')"
   ]
  }
 ],
 "metadata": {
  "kernelspec": {
   "display_name": "wf_auto_geopandas",
   "language": "python",
   "name": "python3"
  },
  "language_info": {
   "codemirror_mode": {
    "name": "ipython",
    "version": 3
   },
   "file_extension": ".py",
   "mimetype": "text/x-python",
   "name": "python",
   "nbconvert_exporter": "python",
   "pygments_lexer": "ipython3",
   "version": "3.9.18"
  }
 },
 "nbformat": 4,
 "nbformat_minor": 2
}
