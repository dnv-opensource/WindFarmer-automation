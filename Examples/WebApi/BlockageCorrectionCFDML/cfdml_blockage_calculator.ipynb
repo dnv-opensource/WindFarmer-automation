{
 "cells": [
  {
   "attachments": {},
   "cell_type": "markdown",
   "metadata": {},
   "source": [
    "# Calculate blockage corrections with BEET and CFD.ML\n",
    "CFD.ML may be use to derive a blockage correction to a wakes-only, engineering model.\n",
    "This notebook performs the calculation, and provides a comparisson to the BEET blockage correction results!"
   ]
  },
  {
   "cell_type": "code",
   "execution_count": 1,
   "metadata": {},
   "outputs": [],
   "source": [
    "import os\n",
    "import requests\n",
    "import json\n",
    "import time\n",
    "import random\n",
    "import asyncio\n",
    "from copy import deepcopy"
   ]
  },
  {
   "cell_type": "markdown",
   "metadata": {},
   "source": [
    "### User inputs\n",
    "Export annual energy production calculation API input settings from your workbook using an in-app script calling ```Toolbox.ExportWindFarmerEnergyJson( \"C:\\folder\\my_aep_calculation_inputs.json\" );```"
   ]
  },
  {
   "cell_type": "code",
   "execution_count": 2,
   "metadata": {},
   "outputs": [],
   "source": [
    "# Exported AEP input settings from your workbook using an in-app script and calling Toolbox.ExportWindFarmerEnergyJson( input_data_file_path ):\n",
    "AEP_calculation_input_json_file_path = r'..\\..\\..\\DemoData\\TheBowl\\TheBowl.json'\n",
    "# 2 Graph Neural Networks are available in Version 2.3\n",
    "gnn_type = \"offshore\" # \"onshore\" / \"offshore\"\n",
    "\n",
    "number_of_direction_steps = 180\n",
    "blockage_correction_application_method = \"OnEnergy\" #  \"OnEnergy\" / \"OnWindSpeed\" options"
   ]
  },
  {
   "attachments": {},
   "cell_type": "markdown",
   "metadata": {},
   "source": [
    "To access the API you need a authorization token. \n",
    "This should be kept secure - and not added to source control, so I'm getting it from an environment variable. See setup instructions for saving your access key as an environment variable documented [here.](https://myworkspace.dnv.com/download/public/renewables/windfarmer/manuals/latest/WebAPI/Introduction/gettingStarted.html)"
   ]
  },
  {
   "cell_type": "code",
   "execution_count": 3,
   "metadata": {},
   "outputs": [],
   "source": [
    "api_url = 'https://windfarmer.uat.dnv.com/api/v2/'\n",
    "auth_token = auth_token = os.environ['WINDFARMER_ACCESS_KEY']\n",
    "# The token should be passed as an Authorization header. We also need to set the `Content-Type` to let the API know that we're sending JSON data.\n",
    "headers = {\n",
    "    'Authorization': f'Bearer {auth_token}',\n",
    "    'Content-Type': 'application/json'\n",
    "}"
   ]
  },
  {
   "attachments": {},
   "cell_type": "markdown",
   "metadata": {},
   "source": [
    "### Call `Status` to check your connection\n",
    "If this fails to return status 200 then check your access key is saved in the environment variable above"
   ]
  },
  {
   "cell_type": "code",
   "execution_count": 4,
   "metadata": {},
   "outputs": [
    {
     "name": "stdout",
     "output_type": "stream",
     "text": [
      "Response from Status: 200\n",
      "{\"message\":\"Connection to DNV WindFarmer Services API was successful.\",\"windFarmerServicesAPIVersion\":\"2.3.0\",\"calculationLibraryVersion\":\"2.2.31.0\"}\n"
     ]
    }
   ],
   "source": [
    "response = requests.get(api_url + 'Status', headers = headers)\n",
    "print(f'Response from Status: {response.status_code}')\n",
    "print(response.text)"
   ]
  },
  {
   "attachments": {},
   "cell_type": "markdown",
   "metadata": {},
   "source": [
    "### Blockage calculations - call `AnnualEnergyProduction` endpoint"
   ]
  },
  {
   "cell_type": "code",
   "execution_count": 5,
   "metadata": {},
   "outputs": [
    {
     "name": "stdout",
     "output_type": "stream",
     "text": [
      "wind farms in project contain 110 turbines\n"
     ]
    }
   ],
   "source": [
    "# load the inputs\n",
    "with open(AEP_calculation_input_json_file_path) as f:\n",
    "    json_string = f.read()\n",
    "    json_input = json.loads(json_string)\n",
    "\n",
    "turbines = []\n",
    "for farm in json_input[\"windFarms\"]:\n",
    "    for turbine in farm[\"turbines\"]:\n",
    "        turbines.append(turbine)\n",
    "number_of_turbines = len(turbines)\n",
    "print(f'wind farms in project contain {number_of_turbines} turbines')"
   ]
  },
  {
   "attachments": {},
   "cell_type": "markdown",
   "metadata": {},
   "source": [
    "Define settings required to make a fast evaluation of CFD.ML and BEET blockage correction efficiencies"
   ]
  },
  {
   "cell_type": "code",
   "execution_count": 6,
   "metadata": {},
   "outputs": [],
   "source": [
    "json_input= json.loads(json_string)\n",
    "# general settings for all models\n",
    "json_input['energyEfficienciesSettings']['numberOfDirectionSectorsForWakeCalculation'] = number_of_direction_steps\n",
    "# turn off wake models etc. so only considering blockage for speed of computation\n",
    "json_input['energyEfficienciesSettings']['wakeModel']['wakeModelType'] = 'NoWakeModel'\n",
    "json_input[\"energyEfficienciesSettings\"][\"wakeModel\"][\"noWakeModel\"][\"useLargeWindFarmModel\"] = False\n",
    "json_input[\"energyEfficienciesSettings\"][\"calculateEfficiencies\"] = False\n",
    "json_input[\"energyEfficienciesSettings\"][\"includeHysteresisEffect\"] = False\n",
    "json_input[\"energyEfficienciesSettings\"][\"includeTurbineManagement\"] = False\n",
    "json_input[\"energyEfficienciesSettings\"][\"calculateIdealYield\"] = False\n",
    "json_input[\"energyEfficienciesSettings\"][\"turbineFlowAndPerformanceMatrixOutputSettings\"] = {}\n",
    "\n",
    "beet_stable_inputs = deepcopy(json_input)\n",
    "beet_stable_inputs['energyEfficienciesSettings']['blockageModel']['beet']['blockageCorrectionApplicationMethod'] = blockage_correction_application_method\n",
    "beet_stable_inputs['energyEfficienciesSettings']['blockageModel']['blockageModelType'] = \"BEET\" \n",
    "beet_stable_inputs[\"energyEfficienciesSettings\"][\"blockageModel\"][\"beet\"][\"significantAtmosphericStability\"] = True\n",
    "\n",
    "beet_neutral_unstable_inputs = deepcopy(beet_stable_inputs)\n",
    "beet_neutral_unstable_inputs[\"energyEfficienciesSettings\"][\"blockageModel\"][\"beet\"][\"significantAtmosphericStability\"] = False\n",
    "\n",
    "cfdml_inputs = deepcopy(json_input)\n",
    "cfdml_inputs['energyEfficienciesSettings']['blockageModel']['blockageModelType'] = \"CFDML\" \n",
    "cfdml_inputs[\"energyEfficienciesSettings\"][\"blockageModel\"][\"cfdml\"][\"cfdmlBlockageWindSpeedDependency\"] = \"FromBlockageExtrapolationCurve\" \n",
    "cfdml_inputs['energyEfficienciesSettings']['blockageModel']['cfdml']['blockageCorrectionApplicationMethod'] = blockage_correction_application_method\n",
    "cfdml_inputs[\"energyEfficienciesSettings\"][\"blockageModel\"][\"cfdml\"][\"cfdmlSettings\"][\"gnnType\"] = gnn_type"
   ]
  },
  {
   "cell_type": "markdown",
   "metadata": {},
   "source": [
    "Some methods to make a calls to the WFer Services API and compute the blockage correction regardless of approach.\n",
    "We call the asynchronous AEP method for farms with > 150 turbines"
   ]
  },
  {
   "cell_type": "code",
   "execution_count": 7,
   "metadata": {},
   "outputs": [],
   "source": [
    "# Polling for status for AnnualEnergyProductionAsync calculations\n",
    "async def get_jobstatus( job_id: str) -> (str, str):\n",
    "    params = {}\n",
    "    params[\"jobId\"] = job_id\n",
    "    result =  requests.get(api_url + 'AnnualEnergyProductionAsync', headers=headers, params= params)\n",
    "    result_json = json.loads(result.content)\n",
    "    return (result_json['status'], result_json['results'] if 'results' in result_json else None)\n",
    "\n",
    "\n",
    "# Aynchronous calculations are slower, but reliable for long running calculations as we implement a job queue.\n",
    "async def call_aep_api_async(api_url, headers, input_data, min_polling_interval_seconds):\n",
    "    start = time.time()\n",
    "    job_id_response = requests.post(\n",
    "        api_url + 'AnnualEnergyProductionAsync', \n",
    "        headers=headers,\n",
    "        json = input_data)    \n",
    "    print(f'Response {job_id_response.status_code} - {job_id_response.reason} in {time.time() - start:.2f}s')\n",
    "    # Print the error detail if we haven't receieved a 200 OK response\n",
    "    if job_id_response.status_code != 202:\n",
    "        print(json.loads(job_id_response.content)['detail'])\n",
    "    else:\n",
    "        job_ID = json.loads (job_id_response.text)[\"jobId\"]\n",
    "        print ('...Job sumbimitted with ID: ')\n",
    "        print (job_ID)\n",
    "        # Poll for status\n",
    "        status = \"PENDING\"\n",
    "        await ( asyncio.sleep(random.random() + 5))\n",
    "        while(status == 'PENDING' or status == 'RUNNING'):\n",
    "            (status, results ) = await get_jobstatus( job_ID)\n",
    "            print(f'...Calculation status @ {time.time() - start:.2f}s: {status}')\n",
    "            if status == 'FAILED':\n",
    "                raise Exception(\"Calculation failed\")\n",
    "            await ( asyncio.sleep(random.random() + min_polling_interval_seconds))\n",
    "        print(f'{status} in {time.time() - start:.2f}s')\n",
    "        return results\n",
    "\n",
    "\n",
    "# Synchronous calculations are faster, but unreliable for large wind farms:\n",
    "def call_aep_api_sync(api_url, headers, input_data):\n",
    "    start = time.time()\n",
    "    response = requests.post(\n",
    "        api_url + 'AnnualEnergyProduction', \n",
    "        headers=headers,\n",
    "        json = input_data)\n",
    "    print(f'Response {response.status_code} - {response.reason} in {time.time() - start:.2f}s')\n",
    "\n",
    "    if response.status_code == 200:\n",
    "        results = json.loads(response.content)\n",
    "        return results\n",
    "    else:\n",
    "        # Print the error detail if we haven't receieved a 200 OK response \n",
    "        print(json.loads(response.content)['detail'])\n",
    "        return None\n",
    "    \n",
    "\n",
    "# Decide whether to call the synchronous or asynchronous end point based on number of turbines\n",
    "async def call_aep_api(api_url, headers, input_data):\n",
    "    turbines = []\n",
    "    for farm in input_data[\"windFarms\"]:\n",
    "        for turbine in farm[\"turbines\"]:\n",
    "            turbines.append(turbine)\n",
    "    number_of_turbines = len(turbines)\n",
    "    blockage_model_type = input_data['energyEfficienciesSettings']['blockageModel']['blockageModelType'] \n",
    "    if number_of_turbines < 150 or blockage_model_type == \"BEET\":\n",
    "        print(f'Calling synchronous AEP API for {blockage_model_type} blockage calculation')\n",
    "        results = call_aep_api_sync(api_url, headers, input_data)\n",
    "    else:\n",
    "        print(f'Calling asynchronous AEP API for {blockage_model_type} blockage calculation')\n",
    "        time_per_turbine = 600 / 1000\n",
    "        min_polling_interval_seconds = number_of_turbines * time_per_turbine / 10\n",
    "        results = await call_aep_api_async(api_url, headers, input_data, min_polling_interval_seconds)\n",
    "    return results\n",
    "\n",
    "\n",
    "def get_blockage_efficinecy(results_dict,blockage_correction_application_method):\n",
    "    blockage_correction_efficiency = -1\n",
    "    if blockage_correction_application_method == \"OnEnergy\":\n",
    "        blockage_correction_efficiency = float(results_dict['weightedBlockageEfficiency'])\n",
    "    elif blockage_correction_application_method == \"OnWindSpeed\":\n",
    "        full_aep_MWh_per_year = sum([float(x['fullAnnualEnergyYield_MWh_per_year']) for x in results_dict['windFarmAepOutputs']])\n",
    "        gross_aep_MWh_per_year = sum([float(x['grossAnnualEnergyYield_MWh_per_year']) for x in results_dict['windFarmAepOutputs']])\n",
    "        blockage_correction_efficiency = full_aep_MWh_per_year / gross_aep_MWh_per_year\n",
    "    else:\n",
    "        print(\"blockage_correction_application_method not recognised\")\n",
    "    return blockage_correction_efficiency    "
   ]
  },
  {
   "cell_type": "code",
   "execution_count": 8,
   "metadata": {},
   "outputs": [
    {
     "name": "stdout",
     "output_type": "stream",
     "text": [
      "Calling synchronous AEP API for BEET blockage calculation\n",
      "Response 200 - OK in 2.21s\n",
      "Calling synchronous AEP API for BEET blockage calculation\n",
      "Response 200 - OK in 2.33s\n",
      "Calling synchronous AEP API for CFDML blockage calculation\n",
      "Response 200 - OK in 28.90s\n"
     ]
    }
   ],
   "source": [
    "# Make the API calls\n",
    "beet_stable_results= await call_aep_api( api_url, headers, beet_stable_inputs)\n",
    "beet_stable_blockage_correction_efficiency = get_blockage_efficinecy(beet_stable_results, blockage_correction_application_method)\n",
    "\n",
    "beet_neutral_unstable_results= await call_aep_api( api_url, headers, beet_neutral_unstable_inputs)\n",
    "beet_neutral_unstable_blockage_correction_efficiency = get_blockage_efficinecy(beet_neutral_unstable_results, blockage_correction_application_method)\n",
    "\n",
    "cfdml_results = await call_aep_api( api_url, headers, cfdml_inputs)\n",
    "cfdml_blockage_correction_efficiency = get_blockage_efficinecy(cfdml_results, blockage_correction_application_method)"
   ]
  },
  {
   "cell_type": "code",
   "execution_count": 12,
   "metadata": {},
   "outputs": [
    {
     "name": "stdout",
     "output_type": "stream",
     "text": [
      "Blockage correction application method = OnEnergy\n",
      "Note, the BEET model was derived from RANS CFD simulations approapriate to onshore boundary layers \n",
      "With CFD.ML you have an onshore or offshore option in API v2.3\n",
      "\n",
      "Model    Atmospheric stability   On/Offshore  Blockage correction efficiency [%]\n",
      "BEET     Stable                  onshore      97.119 %\n",
      "BEET     Neutral/Unstable        onshore      98.357 %\n",
      "CFD.ML   Neutral                 offshore     96.706 %\n"
     ]
    }
   ],
   "source": [
    "# Print results:\n",
    "print(f'Blockage correction application method = {blockage_correction_application_method}')\n",
    "print(f'Note, the BEET model was derived from RANS CFD simulations approapriate to onshore boundary layers \\nWith CFD.ML you have an onshore or offshore option in API v2.3\\n')\n",
    "print('Model    Atmospheric stability   On/Offshore  Blockage correction efficiency [%]')\n",
    "print(f'BEET     Stable                  onshore      {beet_stable_blockage_correction_efficiency*100:.3f} %')\n",
    "print(f'BEET     Neutral/Unstable        onshore      {beet_neutral_unstable_blockage_correction_efficiency*100:.3f} %')\n",
    "print(f'CFD.ML   Neutral                 {gnn_type}     {cfdml_blockage_correction_efficiency*100:.3f} %')"
   ]
  }
 ],
 "metadata": {
  "interpreter": {
   "hash": "720ac664810b14341ded5295599f991a957bcf309f170cd7e9e2a67ba5a9e1ab"
  },
  "kernelspec": {
   "display_name": "Python 3.9.13 ('wf_auto')",
   "language": "python",
   "name": "python3"
  },
  "language_info": {
   "codemirror_mode": {
    "name": "ipython",
    "version": 3
   },
   "file_extension": ".py",
   "mimetype": "text/x-python",
   "name": "python",
   "nbconvert_exporter": "python",
   "pygments_lexer": "ipython3",
   "version": "3.9.18"
  },
  "metadata": {
   "interpreter": {
    "hash": "d1e4be30fd4c5a8b3e03d3501a2d81ca2cb313a2f0b670c480ce2a911aa80e36"
   }
  },
  "orig_nbformat": 2
 },
 "nbformat": 4,
 "nbformat_minor": 2
}
