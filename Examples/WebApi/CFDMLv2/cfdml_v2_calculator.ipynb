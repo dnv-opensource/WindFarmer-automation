{
 "cells": [
  {
   "cell_type": "markdown",
   "metadata": {},
   "source": [
    "![CFD.ML v.20](<CFD.ML v2.0.png>)\n",
    "\n",
    "CFD.ML is delivered via DNV WindFarmer's web API. It is a machine learning model that can predict turbine interaction loss factors, both wake and blockage correction losses together. Find out more in the [WindFarmer documentation](https://myworkspace.dnv.com/download/public/renewables/windfarmer/manuals/latest/CalcRef/TurbineInteractions/CFDML/CFDML.html).\n",
    "\n",
    "With this notebook you can:\n",
    "1. import the wind farm data model as a json file, exported from WindFarmer, or converted from Openwind json or other formats.\n",
    "1. define calculation settings\n",
    "1. run the calculation and diagnose errors\n",
    "1. interogate and visualise the results, comparing them to those from traditional engineering models. "
   ]
  },
  {
   "cell_type": "code",
   "execution_count": null,
   "metadata": {},
   "outputs": [],
   "source": [
    "import os\n",
    "import requests\n",
    "import json\n",
    "import time\n",
    "import random\n",
    "import asyncio\n",
    "import math\n",
    "import pandas as pd\n",
    "from copy import deepcopy\n",
    "from matplotlib import pyplot as plt\n",
    "from typing import Tuple\n",
    "import numpy as np\n"
   ]
  },
  {
   "cell_type": "markdown",
   "metadata": {},
   "source": [
    "# Import the API inputs as a json file\n",
    "The easiest and most reliable way to web API inputs is via the WindFarmer desktop application. \n",
    "Export the annual energy production calculation API input settings from within your workbook using an in-app script. Edit the file path and call:\n",
    "\n",
    "```Toolbox.ExportWindFarmerEnergyJson( @\"C:\\folder\\my_aep_calculation_inputs.json\" );```\n",
    "\n",
    "If you wish to construct the inputs yourself, see the datamodel described in our [API documentation and OpenAPI specification](https://myworkspace.dnv.com/download/public/renewables/windfarmer/manuals/latest/WebAPI/Introduction/Introduction.html). \n",
    "\n",
    "Download the atmospheric conditions presets from [here](https://mysoftware.dnv.com/download/renewables/windfarmer/Downloads/cfdml_preset_atmospheric_conditions.json) [login with veracity account] and save it in this folder, or specify the `atmospheric_conditions_presets_file_path` to the downloaded JSON file below.\n",
    "\n",
    "We can also asist with a script to convert the workbook JSON file exported from OpenWind to the WindFarmer format."
   ]
  },
  {
   "cell_type": "code",
   "execution_count": null,
   "metadata": {},
   "outputs": [],
   "source": [
    "# Export AEP input settings from your Windfarmer workbook using an in-app script and calling Toolbox.ExportWindFarmerEnergyJson( input_data_file_path ):\n",
    "input_json_file_path = r'..\\..\\..\\DemoData\\TheBowl\\TheBowl.json'\n",
    "# The json file containing pre-set atmospheric conditions, available to WindFarmer customers\n",
    "atmospheric_conditions_presets_file_path = r\".\\preset_atmospheric_conditions.json\"\n",
    "\n",
    "# project Info:\n",
    "projectInfo = { \"projectId\": \"TheBowl\",\n",
    "                \"siteLatitude\": 36.5,\n",
    "                \"siteLongitude\": -75.1} "
   ]
  },
  {
   "cell_type": "markdown",
   "metadata": {},
   "source": [
    "### load the workbook JSON inputs"
   ]
  },
  {
   "cell_type": "code",
   "execution_count": null,
   "metadata": {},
   "outputs": [],
   "source": [
    "with open(input_json_file_path) as f:\n",
    "    json_string = f.read()\n",
    "    json_input = json.loads(json_string)\n",
    "\n",
    "turbines = []\n",
    "for farm in json_input[\"windFarms\"]:\n",
    "    for turbine in farm[\"turbines\"]:\n",
    "        turbines.append(turbine)\n",
    "number_of_turbines = len(turbines)\n",
    "print(f'The project contains {number_of_turbines} turbines accross {len(json_input[\"windFarms\"])} wind farms')\n",
    "\n",
    "fig1, ax = plt.subplots(figsize=(10,7))\n",
    "for wt in turbines:\n",
    "    ax.scatter(wt['location']['easting_m'], wt['location']['northing_m'], c='b')\n",
    "    ax.set_xlabel(\"Easting [m]\")\n",
    "    ax.set_ylabel(\"Northing [m]\")\n",
    "    ax.set_aspect('equal', adjustable='box')\n",
    "    ax.annotate(wt['name'],[wt['location']['easting_m'], wt['location']['northing_m']] )\n",
    "ax.set_title(f'{projectInfo[\"projectId\"]}')"
   ]
  },
  {
   "attachments": {},
   "cell_type": "markdown",
   "metadata": {},
   "source": [
    "# API setup\n",
    "To access the API you need a authorization token. \n",
    "This should be kept secure - and not added to source control, so I'm getting it from an environment variable. See setup instructions for saving your access key as an environment variable documented [here.](https://myworkspace.dnv.com/download/public/renewables/windfarmer/manuals/latest/WebAPI/Introduction/gettingStarted.html)"
   ]
  },
  {
   "cell_type": "code",
   "execution_count": null,
   "metadata": {},
   "outputs": [],
   "source": [
    "api_url = 'https://windfarmer.dnv.com/api/v2/'\n",
    "auth_token = os.environ['WINDFARMER_ACCESS_KEY']\n",
    "# The token should be passed as an Authorization header. We also need to set the `Content-Type` to let the API know that we're sending JSON data.\n",
    "headers = {\n",
    "    'Authorization': f'Bearer {auth_token}',\n",
    "    'Content-Type': 'application/json'\n",
    "}"
   ]
  },
  {
   "attachments": {},
   "cell_type": "markdown",
   "metadata": {},
   "source": [
    "### Call `Status` to check your API connection"
   ]
  },
  {
   "cell_type": "code",
   "execution_count": null,
   "metadata": {},
   "outputs": [],
   "source": [
    "response = requests.get(api_url + 'Status', headers = headers)\n",
    "print(f'Response from Status: {response.status_code}')\n",
    "if response.status_code == 200:\n",
    "    text = json.loads(response.text)\n",
    "    print(f'{text[\"message\"]} You are ready to run calculations!')\n",
    "    print(f'  WindFarmer API version = {text[\"windFarmerServicesAPIVersion\"]}')\n",
    "    print(f'  Calculations version = {text[\"calculationLibraryVersion\"]}')\n",
    "else:\n",
    "    print(response.text)\n",
    "    print('Check your access key is saved in the environment variable specified above, and up to date')"
   ]
  },
  {
   "cell_type": "markdown",
   "metadata": {},
   "source": [
    "# Choose model inputs "
   ]
  },
  {
   "cell_type": "markdown",
   "metadata": {},
   "source": [
    "**Note**: the part responsible for model settings in the input jsons contained in the ```input_json_file_path```  will get overwritten by the settings specified"
   ]
  },
  {
   "cell_type": "code",
   "execution_count": null,
   "metadata": {},
   "outputs": [],
   "source": [
    "# specify the desired model combination\n",
    "WAKE_MODEL_CHOICE = \"CFDML\" # EddyViscosity/ModifiedPark/TurbOPark/CFDML    # Note CFDML wakes calculates the full TILF (wakes + blockage)\n",
    "BLOCKAGE_MODEL_CHOICE = \"CFDML\" # BEET/CFDML                                # Note if you choose CFDML wakes, you can only choose CFD.ML blockage. \n",
    "CALCULATE_EFFICIENCIES = True #True/False                                   # Calculating efficiencies gives you a full breakdown of wakes, blockage, neighbour wakes etc. but takes longer to compute\n",
    "CFDML_VERSION = \"2.2.0\"\n",
    "BLOCKAGE_APPLICATION_METHOD = \"OnWindSpeed\" # OnWindSpeed / OnEnergy\n",
    "NUMBER_OF_DIRECTION_STEPS = 180\n",
    "\n",
    "# Note that the large wind farm correction settings are used in the by-wind speed extrapolation of cfd.ml, \n",
    "# so set these settings as required for your project.\n",
    "lwf_paramters = { # LWF's default offshore settings\n",
    "                    \"baseRoughnessZ01\": 0.0004,\n",
    "                    \"increasedRoughnessZ02\": 0.0192,\n",
    "                    \"geometricWidthDiameters\": 1.0,\n",
    "                    \"recoveryStartDiameters\": 120.0,\n",
    "                    \"fiftyPercentRecoveryDiameters\": 40.0\n",
    "                }"
   ]
  },
  {
   "cell_type": "markdown",
   "metadata": {},
   "source": [
    "## Load and select atmospheric condition pre-sets for your site\n",
    "You will need to define a stablity rose, defining the proportion of conditions in each class for each direction sector"
   ]
  },
  {
   "cell_type": "code",
   "execution_count": null,
   "metadata": {},
   "outputs": [],
   "source": [
    "with open(atmospheric_conditions_presets_file_path, \"r\") as f:\n",
    "    atmospheric_condition_presets = json.load(f)\n",
    "atmospheric_condition_presets_df = pd.DataFrame(atmospheric_condition_presets).T\n",
    "atmospheric_condition_presets_df"
   ]
  },
  {
   "cell_type": "markdown",
   "metadata": {},
   "source": [
    "The training has been performed over a wide range of wind farms and atmospheric conditions as can be seen in the plots below.\n",
    "| Wind farm parameters | Atmopsheric conditions |\n",
    "|-|-|\n",
    "|![alt text](trainingset_metadata.png) |![alt text](trainingset_metadata_atmos.png)|"
   ]
  },
  {
   "cell_type": "markdown",
   "metadata": {},
   "source": [
    "### Define the proportion of each atmospheric condition class by wind direction\n",
    "Edit the direction sectors and proportion of data that falls in each atmospheric condition class for each. \n",
    "\n",
    "We support custom direction sectors, so no need to specify 12 equal sectors. \n",
    "\n",
    "If you do not want to vary the distribution by direction, simply add one bin, 0 to 360 e.g:\n",
    "```\n",
    "atmosphericConditionProbabilityDistribution = [{\n",
    "    \"fromDirection_degrees\": 0,\n",
    "    \"toDirection_degrees\":   360, \n",
    "    \"atmosphericConditionClassIds\": [stable_ID, unstable_ID],\n",
    "    \"probabilityForClasses\": [0.6, 0.4]\n",
    "}\n",
    "]\n",
    "```"
   ]
  },
  {
   "cell_type": "code",
   "execution_count": null,
   "metadata": {},
   "outputs": [],
   "source": [
    "# selected atmospheric condition pre-sets to use in simulation: \n",
    "stable_ID = \"onshore-stable\"\n",
    "unstable_ID = \"onshore-unstable\"\n",
    "\n",
    "atmosphericConditionProbabilityDistribution = [{\n",
    "    \"fromDirection_degrees\": 345,\n",
    "    \"toDirection_degrees\":   115, \n",
    "    \"atmosphericConditionClassIds\": [stable_ID, unstable_ID],\n",
    "    \"probabilityForClasses\": [0.6, 0.4]\n",
    "},\n",
    "{\n",
    "    \"fromDirection_degrees\": 115,  \n",
    "    \"toDirection_degrees\": 285, \n",
    "    \"atmosphericConditionClassIds\": [stable_ID, unstable_ID],\n",
    "    \"probabilityForClasses\": [0.45, 0.55]\n",
    "},\n",
    "{\n",
    "    \"fromDirection_degrees\": 285,\n",
    "    \"toDirection_degrees\"  : 345,\n",
    "    \"atmosphericConditionClassIds\": [stable_ID, unstable_ID],\n",
    "    \"probabilityForClasses\": [0.5, 0.5]\n",
    "},\n",
    "]\n"
   ]
  },
  {
   "cell_type": "code",
   "execution_count": null,
   "metadata": {},
   "outputs": [],
   "source": [
    "# Plot the frequency distribution of atmospheric conditions\n",
    "all_atmos_classes = []\n",
    "for sector in atmosphericConditionProbabilityDistribution:\n",
    "    for class_id in sector[\"atmosphericConditionClassIds\"]:\n",
    "        if class_id not in all_atmos_classes:\n",
    "            all_atmos_classes.append(class_id)\n",
    "print(f'Distinct atmospheric conditions classes to simulate:\\n {all_atmos_classes}')\n",
    "\n",
    "def average_angles(angles_in_radians):\n",
    "    #Calculate the sum of sine and cosine components\n",
    "    sin_sum = sum(math.sin(angle) for angle in angles_in_radians)\n",
    "    cos_sum = sum(math.cos(angle) for angle in angles_in_radians)\n",
    "    \n",
    "    # Calculate the average angle in radians\n",
    "    result = math.atan2(sin_sum, cos_sum)\n",
    "    # ensure within 0-2pi\n",
    "    if result < 0:\n",
    "        result = 2*math.pi +result\n",
    "    elif result > 2*math.pi:\n",
    "        result = result - 2*math.pi\n",
    "    return result\n",
    "\n",
    "def angle_difference(to_angle_in_radians, from_angle_in_radians):\n",
    "    if to_angle_in_radians < from_angle_in_radians:\n",
    "        from_angle_in_radians = from_angle_in_radians - 2*math.pi\n",
    "    angle_difference = to_angle_in_radians - from_angle_in_radians\n",
    "    return  angle_difference \n",
    "\n",
    "\n",
    "temp = pd.DataFrame(atmosphericConditionProbabilityDistribution)\n",
    "df_for_stability_rose_plot = pd.DataFrame()\n",
    "for i in range(0,2):\n",
    "    temp2 = temp.copy()\n",
    "    temp2['atmosphericConditionClassIds'] = temp2['atmosphericConditionClassIds'].apply(lambda x: x[i])\n",
    "    temp2['probabilityForClasses'] = temp2['probabilityForClasses'].apply(lambda x: x[i])\n",
    "    df_for_stability_rose_plot = pd.concat([df_for_stability_rose_plot, temp2], axis=0)\n",
    "df_for_stability_rose_plot['angular_bin_center'] = pd.Series([average_angles([math.radians(x[\"toDirection_degrees\"]), math.radians(x[\"fromDirection_degrees\"])]) for x in atmosphericConditionProbabilityDistribution])#  pd.Series([50, 200, 315, 40, 130, 315])\n",
    "df_for_stability_rose_plot['angular_bin_center_degrees'] = df_for_stability_rose_plot['angular_bin_center'].map(lambda x: math.degrees(x))\n",
    "df_for_stability_rose_plot['angular_bin_width'] = pd.Series([angle_difference(math.radians(x[\"toDirection_degrees\"]),math.radians(x[\"fromDirection_degrees\"])) for x in atmosphericConditionProbabilityDistribution])#  pd.Series([50, 200, 315, 40, 130, 315])\n",
    "df_for_stability_rose_plot['angular_bin_width_degrees'] = df_for_stability_rose_plot['angular_bin_width'].map(lambda x: math.degrees(x))\n",
    "df_for_stability_rose_plot['cumulative_probability'] = df_for_stability_rose_plot.groupby('angular_bin_center')['probabilityForClasses'].cumsum()\n",
    "\n",
    "df_for_stability_rose_plot\n",
    "\n",
    "fig, ax = plt.subplots(subplot_kw={'projection':'polar','theta_offset': np.pi / 2, 'theta_direction': -1})\n",
    "for key in all_atmos_classes:\n",
    "    group = df_for_stability_rose_plot[df_for_stability_rose_plot['atmosphericConditionClassIds']==key]\n",
    "    ax.bar(group['angular_bin_center'], group['probabilityForClasses'], bottom=group['cumulative_probability']-group['probabilityForClasses'],  width=group['angular_bin_width'], label=f'Class {key}', edgecolor='black')\n",
    "ax.set_ylim([-0.2, 1.0])\n",
    "fig.suptitle(\"Frequency of atmospheric conditions by wind direction\")\n",
    "fig.legend(loc='lower center')"
   ]
  },
  {
   "cell_type": "code",
   "execution_count": null,
   "metadata": {},
   "outputs": [],
   "source": [
    "# the below dictionaries contain various settings, of which we make a selection for the particular run  (inside set_model_settings)\n",
    "wake_models = {\"EddyViscosity\": {\"model_key\":\"eddyViscosity\", \"model_settings\":{\"useLargeWindFarmModel\": True, \"largeWindFarmCorrectionParameters\": lwf_paramters}},\n",
    "               \"ModifiedPark\":  {\"model_key\":\"modifiedPark\", \"model_settings\": {\"useLargeWindFarmModel\": True, \"largeWindFarmCorrectionParameters\": lwf_paramters}},\n",
    "               \"TurbOPark\": {\"model_key\":\"turbOPark\", \"model_settings\": {\"wakeExpansion\": 0.04}},\n",
    "               \"CFDML\": {\"model_key\":\"cfdml\", \"model_settings\":{\"gnnType\": \"Offshore\", \"gnnVersion\": CFDML_VERSION, \"extrapolationModel\":\"EddyViscosity\"}}}\n",
    "blockage_models = {\"BEET\": {\"model_key\":\"beet\", \"model_settings\":{\"significantAtmosphericStability\": False,\n",
    "                                                                  \"inclusionOfNeighborsBufferZoneInMeters\": 1000.0,\n",
    "                                                                  \"blockageCorrectionApplicationMethod\": BLOCKAGE_APPLICATION_METHOD }},\n",
    "                   \"CFDML\": {\"model_key\":\"cfdml\", \"model_settings\":{\"cfdmlSettings\": {\"gnnType\": \"Offshore\", \"gnnVersion\": CFDML_VERSION}, \n",
    "                                                                    \"blockageCorrectionApplicationMethod\": BLOCKAGE_APPLICATION_METHOD,\n",
    "                                                                    \"cfdmlBlockageWindSpeedDependency\": \"FromBlockageExtrapolationCurve\"}}}"
   ]
  },
  {
   "cell_type": "code",
   "execution_count": null,
   "metadata": {},
   "outputs": [],
   "source": [
    "# the below functions help setup inputs specific to running cfd.ml\n",
    "def switch_off_fpm_export(input_json):\n",
    "    # this function makes sure fpm export is switched off - to speed up API response time\n",
    "    for fpm in input_json[\"energyEfficienciesSettings\"][\"turbineFlowAndPerformanceMatrixOutputSettings\"].keys():\n",
    "        if fpm != \"localTurbineWindSpeedsOutputSettings\":\n",
    "            input_json[\"energyEfficienciesSettings\"][\"turbineFlowAndPerformanceMatrixOutputSettings\"][fpm] = False\n",
    "        else:\n",
    "            input_json[\"energyEfficienciesSettings\"][\"turbineFlowAndPerformanceMatrixOutputSettings\"][fpm] = None\n",
    "\n",
    "def configure_fpm_export(input_json):\n",
    "    input_json[\"energyEfficienciesSettings\"][\"turbineFlowAndPerformanceMatrixOutputSettings\"][\"outputAmbientWindSpeed\"] = True\n",
    "    input_json[\"energyEfficienciesSettings\"][\"turbineFlowAndPerformanceMatrixOutputSettings\"][\"outputWakedWindSpeed\"] = True\n",
    "    #input_json[\"energyEfficienciesSettings\"][\"turbineFlowAndPerformanceMatrixOutputSettings\"][\"outputPowerOutput\"] = True\n",
    "\n",
    "def set_model_settings(input_json):\n",
    "    # let's set the modeling options contained in the json\n",
    "    input_json[\"energyEfficienciesSettings\"][\"calculateEfficiencies\"] = CALCULATE_EFFICIENCIES\n",
    "    json_input[\"energyEfficienciesSettings\"][\"includeHysteresisEffect\"] = False\n",
    "    json_input[\"energyEfficienciesSettings\"][\"includeTurbineManagement\"] = False\n",
    "    json_input[\"energyEfficienciesSettings\"][\"calculateIdealYield\"] = False\n",
    "\n",
    "    json_input['energyEfficienciesSettings']['numberOfDirectionSectorsForWakeCalculation'] = NUMBER_OF_DIRECTION_STEPS\n",
    "    # pull the relevant default settings from the dicts predefined above\n",
    "    input_json[\"energyEfficienciesSettings\"][\"wakeModel\"][\"wakeModelType\"] = WAKE_MODEL_CHOICE\n",
    "    input_json[\"energyEfficienciesSettings\"][\"wakeModel\"][wake_models[WAKE_MODEL_CHOICE][\"model_key\"]] = wake_models[WAKE_MODEL_CHOICE][\"model_settings\"]\n",
    "    if WAKE_MODEL_CHOICE == \"CFDML\":\n",
    "        extrapolation_model = wake_models[\"CFDML\"][\"model_settings\"][\"extrapolationModel\"]\n",
    "        if extrapolation_model != \"BasicFlat\":\n",
    "            input_json[\"energyEfficienciesSettings\"][\"wakeModel\"][wake_models[extrapolation_model][\"model_key\"]] = wake_models[extrapolation_model][\"model_settings\"]\n",
    "    input_json[\"energyEfficienciesSettings\"][\"blockageModel\"][\"blockageModelType\"] = BLOCKAGE_MODEL_CHOICE\n",
    "    input_json[\"energyEfficienciesSettings\"][\"blockageModel\"][blockage_models[BLOCKAGE_MODEL_CHOICE][\"model_key\"]] = blockage_models[BLOCKAGE_MODEL_CHOICE][\"model_settings\"]\n",
    "\n",
    "def get_avg_hub_and_tip_heights_for_subject_windfarms(input_json):\n",
    "    hub_heights = []\n",
    "    tip_heights = []\n",
    "    turbine_model_heights = {}\n",
    "    for turbine_model in input_json[\"turbineModels\"]:\n",
    "        turbine_model_heights[turbine_model[\"id\"]] = {\n",
    "            \"hub_height\": turbine_model[\"hubHeight_m\"],\n",
    "            \"tip_height\": turbine_model[\"hubHeight_m\"] + turbine_model[\"rotorDiameter_m\"] / 2.0,\n",
    "        }\n",
    "\n",
    "    for subject_wind_farm in input_json[\"windFarms\"]: \n",
    "        if subject_wind_farm[\"isNeighbor\"] == False:\n",
    "            for turbine in subject_wind_farm[\"turbines\"]:\n",
    "                id = turbine[\"turbineModelId\"]\n",
    "                hub_heights.append(turbine_model_heights[id][\"hub_height\"])\n",
    "                tip_heights.append(turbine_model_heights[id][\"tip_height\"])\n",
    "    avg_tip_heights = np.average(tip_heights)\n",
    "    avg_hub_heights = np.average(hub_heights)\n",
    "    return avg_hub_heights, avg_tip_heights\n",
    "\n",
    "\n",
    "def interpolate_profile_at_height( z, zs, profile_values):\n",
    "    ## we may want something better than linear interpolation?\n",
    "    # cubicspline_interpolator = scipy.interpolate.CubicSpline(zs, profile_values)\n",
    "    # value_at_z = cubicspline_interpolator(standard_zs)\n",
    "    value_at_z = np.interp(z, zs, profile_values)\n",
    "    return value_at_z\n",
    "\n",
    "\n",
    "def construct_atmospheric_conditions(atmosphericConditionProbabilityDistribution, atmosperhic_condition_presets, hub_height, tip_height):\n",
    "    # constructing the whole atmospheric conditions object\n",
    "    selected_preset_classes = []\n",
    "    for bin in atmosphericConditionProbabilityDistribution:\n",
    "        selected_preset_classes.extend(bin[\"atmosphericConditionClassIds\"])\n",
    "    selected_preset_classes = list(set(selected_preset_classes))\n",
    "    \n",
    "    atmosphericConditionClasses = []\n",
    "    for preset in selected_preset_classes:\n",
    "        atmosphericConditionClass = {} \n",
    "        atmosphericConditionClass[\"id\"] = preset\n",
    "        \n",
    "        parameters = {}\n",
    "        # read tip and hub height data from profiles\n",
    "        zs = atmosperhic_condition_presets[preset][\"z\"]\n",
    "        dvdzs = atmosperhic_condition_presets[preset][\"dvdz\"]\n",
    "        tis = atmosperhic_condition_presets[preset][\"ti\"]\n",
    "        parameters[\"turbulenceIntensityAtHubHeight\"] = interpolate_profile_at_height(hub_height, zs, tis)\n",
    "        parameters[\"turbulenceIntensityAtTipHeight\"] = interpolate_profile_at_height(tip_height, zs, tis)\n",
    "        parameters[\"windSpeedVerticalGradientHubHeight_per_m\"] = interpolate_profile_at_height(hub_height, zs, dvdzs)\n",
    "        parameters[\"windSpeedVerticalGradientTipHeight_per_m\"] = interpolate_profile_at_height(tip_height, zs, dvdzs)\n",
    "        parameters[\"boundaryLayerHeight_m\"] = atmosperhic_condition_presets[preset][\"boundaryLayerHeight_m\"]\n",
    "        parameters[\"lapseRate_K_per_100m\"] = atmosperhic_condition_presets[preset][\"lapseRate_K_per_100m\"]\n",
    "        parameters[\"deltaThetaAcrossInversionLayer_K\"] = atmosperhic_condition_presets[preset][\"deltaThetaAcrossInversionLayer_K\"]\n",
    "        parameters[\"heightInversionLayer_m\"] = atmosperhic_condition_presets[preset][\"heightInversionLayer_m\"]\n",
    "\n",
    "        atmosphericConditionClass[\"parameters\"] = parameters\n",
    "        atmosphericConditionClasses.append(atmosphericConditionClass)\n",
    "\n",
    "    atmosphericConditions = {\n",
    "        \"atmosphericConditionClasses\": atmosphericConditionClasses,\n",
    "        \"atmosphericConditionProbabilityDistribution\": atmosphericConditionProbabilityDistribution\n",
    "    }\n",
    "    return atmosphericConditions\n",
    "\n",
    "\n",
    "def set_model_settings_for_blockage_only_runs(input_json):\n",
    "    # turn off wake models etc. so only considering blockage for speed of computation of AEP calculation\n",
    "    input_json['energyEfficienciesSettings']['wakeModel']['wakeModelType'] = 'NoWakeModel'\n",
    "    input_json[\"energyEfficienciesSettings\"][\"wakeModel\"][\"noWakeModel\"][\"useLargeWindFarmModel\"] = False\n",
    "    input_json[\"energyEfficienciesSettings\"][\"calculateEfficiencies\"] = False\n",
    "    input_json[\"energyEfficienciesSettings\"][\"includeHysteresisEffect\"] = False\n",
    "    input_json[\"energyEfficienciesSettings\"][\"includeTurbineManagement\"] = False\n",
    "    input_json[\"energyEfficienciesSettings\"][\"calculateIdealYield\"] = False\n",
    "    switch_off_fpm_export(input_json)\n"
   ]
  },
  {
   "cell_type": "code",
   "execution_count": null,
   "metadata": {},
   "outputs": [],
   "source": [
    "# Defining the model inputs\n",
    "set_model_settings(json_input)\n",
    "switch_off_fpm_export(json_input)\n",
    "configure_fpm_export(json_input) # activate wind speed fpms for the flow case visualisations\n",
    "\n",
    "hub_height, tip_height = get_avg_hub_and_tip_heights_for_subject_windfarms(json_input)\n",
    "json_input[\"atmosphericConditions\"] = construct_atmospheric_conditions(atmosphericConditionProbabilityDistribution, atmospheric_condition_presets, hub_height, tip_height)\n",
    "json_input[\"projectInfo\"] = projectInfo\n"
   ]
  },
  {
   "cell_type": "code",
   "execution_count": null,
   "metadata": {},
   "outputs": [],
   "source": [
    "# write inputs to file\n",
    "inputs_file_name = f'cfdmlv2apiinputs_{projectInfo[\"projectId\"]}.json' \n",
    "with open(inputs_file_name, 'w') as f:\n",
    "    json.dump(json_input, f, indent=4, allow_nan=False)"
   ]
  },
  {
   "attachments": {},
   "cell_type": "markdown",
   "metadata": {},
   "source": [
    "### Call `AnnualEnergyProduction` endpoint to calculate results"
   ]
  },
  {
   "attachments": {},
   "cell_type": "markdown",
   "metadata": {},
   "source": [
    "Define settings required to make a fast evaluation of CFD.ML and BEET blockage correction efficiencies"
   ]
  },
  {
   "cell_type": "markdown",
   "metadata": {},
   "source": [
    "Some methods to make a calls to the WFer Services API and compute the blockage correction regardless of approach.\n",
    "We call the asynchronous AEP method for farms with > 150 turbines"
   ]
  },
  {
   "cell_type": "code",
   "execution_count": null,
   "metadata": {},
   "outputs": [],
   "source": [
    "# functions for calling the API\n",
    "\n",
    "# Polling for status for AnnualEnergyProductionAsync calculations\n",
    "async def get_jobstatus( job_id: str) -> Tuple[str, str, dict]:\n",
    "    params = {}\n",
    "    params[\"jobId\"] = job_id\n",
    "    result =  requests.get(api_url + 'AnnualEnergyProductionAsync', headers=headers, params= params)\n",
    "    result_json = json.loads(result.content)\n",
    "    if result_json['status'] == \"FAILED\":\n",
    "        message = result_json.get('message', 'Unknown error')\n",
    "    else:\n",
    "        message = ' - '.join(x for x in \n",
    "                            [\n",
    "                                str(result_json['progress']) + '%' if 'progress' in result_json else None,\n",
    "                                result_json.get('message'),\n",
    "                                result_json.get('stageMessage')\n",
    "                            ] if x)\n",
    "    return (result_json['status'], message, result_json['results'] if 'results' in result_json else None)\n",
    "\n",
    "async def poll_for_status( job_id: str, min_polling_interval_seconds = 20, start_time = None) -> Tuple[str, str, dict]:\n",
    "    if start_time == None:\n",
    "        start_time = time.time()\n",
    "    status = \"PENDING\"\n",
    "    await ( asyncio.sleep(random.random() + 5))\n",
    "    while(status == 'PENDING' or status == 'RUNNING'):\n",
    "        (status, message, results ) = await get_jobstatus(job_id)\n",
    "        print(f'...Calculation status @ {time.time() - start_time:.2f}s: {status} - {message}')\n",
    "        await ( asyncio.sleep(random.random() + min_polling_interval_seconds))\n",
    "    return status, message, results\n",
    "\n",
    "\n",
    "# Aynchronous calculations are slower, but reliable for long running calculations as we implement a job queue.\n",
    "async def call_aep_api_async(api_url, headers, input_data, min_polling_interval_seconds):\n",
    "    start = time.time()\n",
    "    job_id_response = requests.post(\n",
    "        api_url + 'AnnualEnergyProductionAsync', \n",
    "        headers=headers,\n",
    "        json = input_data)    \n",
    "    print(f'Response {job_id_response.status_code} - {job_id_response.reason} in {time.time() - start:.2f}s')\n",
    "    # Print the error detail if we haven't receieved a 200 OK response\n",
    "    if job_id_response.status_code != 202:\n",
    "        print(json.loads(job_id_response.content)['detail'])\n",
    "    else:\n",
    "        job_ID = json.loads (job_id_response.text)[\"jobId\"]\n",
    "        print ('...Job submitted with ID: ')\n",
    "        print (job_ID)\n",
    "        status, message, results = await poll_for_status(job_ID, min_polling_interval_seconds )\n",
    "        if status == 'FAILED':\n",
    "            print(f'Calculation failed: {message}')\n",
    "            raise Exception(f\"Calculation failed: {message}\")\n",
    "        print(f'{status} in {time.time() - start:.2f}s')\n",
    "        return results\n",
    "\n",
    "\n",
    "# Synchronous calculations are faster, but unreliable for large wind farms:\n",
    "def call_aep_api_sync(api_url, headers, input_data):\n",
    "    start = time.time()\n",
    "    response = requests.post(\n",
    "        api_url + 'AnnualEnergyProduction', \n",
    "        headers=headers,\n",
    "        json = input_data)\n",
    "    print(f'Response {response.status_code} - {response.reason} in {time.time() - start:.2f}s')\n",
    "\n",
    "    if response.status_code == 200:\n",
    "        results = json.loads(response.content)\n",
    "        return results\n",
    "    else:\n",
    "        # Print the error detail if we haven't receieved a 200 OK response \n",
    "        content = json.loads(response.content)\n",
    "        print(content[\"title\"])\n",
    "        print(content)\n",
    "        errors = content[\"errors\"]\n",
    "        if errors != None:\n",
    "            for key in errors:\n",
    "                print(f'Error:\\t{key}:\\t{errors[key]}')\n",
    "        return None\n",
    "    \n",
    "\n",
    "# Decide whether to call the synchronous or asynchronous end point based on number of turbines\n",
    "async def call_aep_api(api_url, headers, input_data):\n",
    "    turbines = []\n",
    "    for farm in input_data[\"windFarms\"]:\n",
    "        for turbine in farm[\"turbines\"]:\n",
    "            turbines.append(turbine)\n",
    "    number_of_turbines = len(turbines)\n",
    "    \n",
    "    if number_of_turbines < 100:\n",
    "        print(f'Calling synchronous AEP API')\n",
    "        results = call_aep_api_sync(api_url, headers, input_data)\n",
    "    else:\n",
    "        print(f'Calling asynchronous AEP API')\n",
    "        time_per_turbine = 1200 / 1000\n",
    "        min_polling_interval_seconds = number_of_turbines * time_per_turbine / 5\n",
    "        results = await call_aep_api_async(api_url, headers, input_data, min_polling_interval_seconds)\n",
    "    return results\n"
   ]
  },
  {
   "cell_type": "code",
   "execution_count": null,
   "metadata": {},
   "outputs": [],
   "source": [
    "# reload inputs from file\n",
    "with open(inputs_file_name, 'r') as f:\n",
    "    json_input = json.load(f)"
   ]
  },
  {
   "cell_type": "code",
   "execution_count": null,
   "metadata": {},
   "outputs": [],
   "source": [
    "# Make the API call, \n",
    "api_response = await call_aep_api( api_url, headers, json_input)"
   ]
  },
  {
   "cell_type": "code",
   "execution_count": null,
   "metadata": {},
   "outputs": [],
   "source": [
    "# If want to try getting results after interupting the script, \n",
    "# you can uncomment the below, enter your job ID printed above, then try and get the results\n",
    "\n",
    "# job_id = \"772b948e-f31e-49aa-9684-c3ab26d43e85\"\n",
    "# status, api_response = await poll_for_status(job_id)"
   ]
  },
  {
   "cell_type": "code",
   "execution_count": null,
   "metadata": {},
   "outputs": [],
   "source": [
    "# write results to file\n",
    "results_file_name = f'cfdmlv2api_results_{projectInfo[\"projectId\"]}.json' \n",
    "with open(results_file_name, 'w') as f:\n",
    "    f.write(json.dumps(api_response, indent=4))\n",
    "\n",
    "time.sleep(1)"
   ]
  },
  {
   "cell_type": "markdown",
   "metadata": {},
   "source": [
    "# Review results\n",
    "### Report Gross + Full AEP + Wake + Blockage loss factors"
   ]
  },
  {
   "cell_type": "markdown",
   "metadata": {},
   "source": [
    "Read results back in from file (in case you wish to run plotting and reporting again without recalculation )"
   ]
  },
  {
   "cell_type": "code",
   "execution_count": null,
   "metadata": {},
   "outputs": [],
   "source": [
    "with open(results_file_name, 'r') as f:\n",
    "    results = json.load(f)"
   ]
  },
  {
   "cell_type": "code",
   "execution_count": null,
   "metadata": {},
   "outputs": [],
   "source": [
    "# functions for reviewing results\n",
    "def get_hysteresis_efficiency(results_dict):\n",
    "    hysteresisAdjustmentOnAnnualEnergyYield_MWh_per_year = sum([float(x['hysteresisAdjustmentOnAnnualEnergyYield_MWh_per_year']) for x in results_dict['windFarmAepOutputs']])\n",
    "    internalWakesOnAnnualEnergyYield_MWh_per_year = sum([float(x['internalWakesOnAnnualEnergyYield_MWh_per_year']) for x in results_dict['windFarmAepOutputs']])\n",
    "    return hysteresisAdjustmentOnAnnualEnergyYield_MWh_per_year / internalWakesOnAnnualEnergyYield_MWh_per_year\n",
    "\n",
    "def get_external_wake_efficiency(results_dict):\n",
    "    largeWindFarmCorrectionOnAnnualEnergyYield_MWh_per_year = sum([float(x['largeWindFarmCorrectionOnAnnualEnergyYield_MWh_per_year']) for x in results_dict['windFarmAepOutputs']])\n",
    "    neighborsWakesOnAnnualEnergyYield_MWh_per_year = sum([float(x['neighborsWakesOnAnnualEnergyYield_MWh_per_year']) for x in results_dict['windFarmAepOutputs']])\n",
    "    return neighborsWakesOnAnnualEnergyYield_MWh_per_year / largeWindFarmCorrectionOnAnnualEnergyYield_MWh_per_year\n",
    "\n",
    "def get_internal_wake_efficiency(results_dict):\n",
    "    internalWakesOnAnnualEnergyYield_MWh_per_year = sum([float(x['internalWakesOnAnnualEnergyYield_MWh_per_year']) for x in results_dict['windFarmAepOutputs']])\n",
    "    blockageOnAnnualEnergyYield_MWh_per_year = sum([float(x['blockageOnAnnualEnergyYield_MWh_per_year']) for x in results_dict['windFarmAepOutputs']])\n",
    "    return internalWakesOnAnnualEnergyYield_MWh_per_year / blockageOnAnnualEnergyYield_MWh_per_year\n",
    "\n",
    "def get_blockage_efficiency(results_dict, blockage_correction_application_method):\n",
    "    blockage_correction_efficiency = -1\n",
    "    if blockage_correction_application_method == \"OnEnergy\":\n",
    "        blockage_correction_efficiency = float(results_dict['weightedBlockageEfficiency'])\n",
    "    elif blockage_correction_application_method == \"OnWindSpeed\":\n",
    "        if CALCULATE_EFFICIENCIES == False:\n",
    "            print(\"You must set CALCULATE_EFFICIENCIES = True to compute blockage corrections OnWindSpeed\")\n",
    "        else:\n",
    "            blockage_on_aep_MWh_per_year = sum([float(x['blockageOnAnnualEnergyYield_MWh_per_year']) for x in results_dict['windFarmAepOutputs']])\n",
    "            gross_aep_MWh_per_year = sum([float(x['grossAnnualEnergyYield_MWh_per_year']) for x in results_dict['windFarmAepOutputs']])\n",
    "            blockage_correction_efficiency = blockage_on_aep_MWh_per_year / gross_aep_MWh_per_year\n",
    "    else:\n",
    "        print(\"blockage_correction_application_method not recognised\")\n",
    "    return blockage_correction_efficiency    "
   ]
  },
  {
   "cell_type": "markdown",
   "metadata": {},
   "source": [
    "Headline results"
   ]
  },
  {
   "cell_type": "code",
   "execution_count": null,
   "metadata": {},
   "outputs": [],
   "source": [
    "# Print results:\n",
    "print(f'Wake model type = {WAKE_MODEL_CHOICE}')\n",
    "print(f'Blockage model type = {BLOCKAGE_MODEL_CHOICE}')\n",
    "print(f'Blockage correction application method = {BLOCKAGE_APPLICATION_METHOD}')\n",
    "\n",
    "wind_farm_names = str.join(\", \", [x['windFarmName'] for x in results['windFarmAepOutputs']])\n",
    "\n",
    "# summing yields over all subject farms:\n",
    "full_yield = sum([float(x['fullAnnualEnergyYield_MWh_per_year']) for x in results['windFarmAepOutputs']]) / 1e3\n",
    "gross_yield = sum([float(x['grossAnnualEnergyYield_MWh_per_year']) for x in results['windFarmAepOutputs']]) / 1e3\n",
    "total_losses = full_yield / gross_yield\n",
    "blockage_eff = get_blockage_efficiency(results, BLOCKAGE_APPLICATION_METHOD)\n",
    "\n",
    "# make a dataframe for reporting\n",
    "case_summary = pd.DataFrame()\n",
    "case_summary.index = [wind_farm_names]\n",
    "case_summary[\"Gross Yield [GWh/Annum]\"] = [gross_yield]\n",
    "if CALCULATE_EFFICIENCIES:\n",
    "    internal_wake_eff = get_internal_wake_efficiency(results)\n",
    "    external_wake_eff = get_external_wake_efficiency(results)\n",
    "    total_turbine_interaction_efficiency = blockage_eff * internal_wake_eff * external_wake_eff\n",
    "    case_summary[\"Blockage efficiency [%]\"] = [blockage_eff * 100]\n",
    "    case_summary[\"Internal wake efficiency [%]\"] = [internal_wake_eff * 100]\n",
    "    case_summary[\"External wake efficiency [%]\"] = [external_wake_eff * 100]\n",
    "    case_summary[\"Total turbine interaction efficiency [%]\"] = [total_turbine_interaction_efficiency * 100]\n",
    "    case_summary[\"Total modelled losses [%]\"] = [total_losses *100]\n",
    "else: \n",
    "    case_summary[\"Blockage efficiency [%]\"] = [get_blockage_efficiency(results, BLOCKAGE_APPLICATION_METHOD) * 100]\n",
    "    case_summary[\"Total modelled losses [%]\"] = [total_losses *100]\n",
    "case_summary[\"Full Yield [GWh/Annum]\"] = [full_yield]\n",
    "\n",
    "case_summary.T.round(1)"
   ]
  },
  {
   "cell_type": "markdown",
   "metadata": {},
   "source": [
    "Note:\n",
    "* Total turbine interaction efficiency = blockage * internal_wake * external_wake\n",
    "* The total losses can also include hysteresis and curtailment efficiencies, depending on the chosen calculation settings"
   ]
  },
  {
   "cell_type": "markdown",
   "metadata": {},
   "source": [
    "## Pattern of production\n",
    "The annual energy production pattern accross the farm"
   ]
  },
  {
   "cell_type": "code",
   "execution_count": null,
   "metadata": {},
   "outputs": [],
   "source": [
    "# Pattern of production - Full yield\n",
    "per_turbine_results = pd.DataFrame.from_dict(results['windFarmAepOutputs'][0]['turbineResults'])\n",
    "per_turbine_results.set_index('turbineName', drop=True, inplace=True)\n",
    "per_turbine_results['easting'] = per_turbine_results['turbineLocation'].map(lambda x: dict(x)['easting_m'])\n",
    "per_turbine_results['northing'] = per_turbine_results['turbineLocation'].map(lambda x: dict(x)['northing_m'])\n",
    "fig, ax = plt.subplots(figsize=(10,4))\n",
    "im = ax.scatter(per_turbine_results['easting'], per_turbine_results['northing'], c=per_turbine_results['fullAnnualYield_MWh_per_year'], cmap='viridis')\n",
    "ax.set_title(\"Per turbine energy production (blockage & wakes affected) [MWh/yr]\")\n",
    "ax.set_xlabel(\"Easting [m]\")\n",
    "ax.set_ylabel(\"Northing [m]\")\n",
    "ax.set_aspect('equal', adjustable='box')\n",
    "fig.colorbar(im)"
   ]
  },
  {
   "cell_type": "markdown",
   "metadata": {},
   "source": [
    "## TILF pattern for selected wind directions"
   ]
  },
  {
   "cell_type": "code",
   "execution_count": null,
   "metadata": {},
   "outputs": [],
   "source": [
    "# Select the wind direction and wind speed flow case you wish to review:\n",
    "wind_direction = 0\n",
    "wind_speed = 8.0"
   ]
  },
  {
   "cell_type": "code",
   "execution_count": null,
   "metadata": {},
   "outputs": [],
   "source": [
    "def get_atmos_classes_for_direction (wind_direction, atmosphericConditionProbabilityDistribution):\n",
    "    for sector in atmosphericConditionProbabilityDistribution:\n",
    "        to_direction = sector[\"toDirection_degrees\"]\n",
    "        from_direction = sector[\"fromDirection_degrees\"]\n",
    "        if  from_direction > to_direction :\n",
    "            to_direction = to_direction + 360.0\n",
    "            test_wind_direction = wind_direction + 360.0\n",
    "        if (from_direction <= test_wind_direction and to_direction > wind_direction):\n",
    "            classes_for_direction = sector[\"atmosphericConditionClassIds\"]\n",
    "            print(f\"atmospheric conditions {classes_for_direction} found for wind direction {wind_direction}\")\n",
    "            return classes_for_direction\n",
    "    print (\"No atmospheric conditions found for wind direction!\")\n",
    "    return None\n",
    "\n",
    "atmos_classes_for_direction = get_atmos_classes_for_direction(wind_direction, atmosphericConditionProbabilityDistribution)"
   ]
  },
  {
   "cell_type": "code",
   "execution_count": null,
   "metadata": {},
   "outputs": [],
   "source": [
    "# wind speed turbine interaction loss factor plotting accross array\n",
    "wind_direction_index = int(wind_direction/ (360.0 / NUMBER_OF_DIRECTION_STEPS))\n",
    "wind_speed_index = int(wind_speed)\n",
    "\n",
    "waked_windspeed_cfdml = pd.DataFrame(results['windFarmAepOutputs'][0]['turbineFlowAndPerformanceMatricesWithMastBinning'])\n",
    "waked_windspeed_cfdml.set_index('turbineName',drop=True, inplace=True)\n",
    "for atmos_class in atmos_classes_for_direction:\n",
    "    waked_windspeed_cfdml['atmosphericConditionAwareWakedWindSpeed_m_per_s{}'.format(atmos_class)] = waked_windspeed_cfdml['atmosphericConditionAwareWakedWindSpeed_m_per_s'].map(lambda x: x[atmos_class][wind_direction_index][wind_speed_index])\n",
    "\n",
    "# Plot\n",
    "waked_windspeed_cfdml['northing'] = per_turbine_results['northing']\n",
    "waked_windspeed_cfdml['easting'] = per_turbine_results['easting']\n",
    "\n",
    "vmin = 1.0\n",
    "for atmos_class in atmos_classes_for_direction:\n",
    "    waked_windspeed_cfdml['TILF {}'.format(atmos_class)] = waked_windspeed_cfdml['atmosphericConditionAwareWakedWindSpeed_m_per_s{}'.format(atmos_class)] / wind_speed\n",
    "    bl_vmin = waked_windspeed_cfdml['TILF {}'.format(atmos_class)].min()\n",
    "    if bl_vmin < vmin:\n",
    "        vmin = bl_vmin\n",
    "for atmos_class in atmos_classes_for_direction:\n",
    "    fig3, ax3 = plt.subplots(figsize=(10,4))\n",
    "    im2 = ax3.scatter(waked_windspeed_cfdml['easting'], waked_windspeed_cfdml['northing'], c=waked_windspeed_cfdml['TILF {}'.format(atmos_class)], cmap='viridis', vmin=vmin, vmax=1.0)\n",
    "    fig3.colorbar(im2)\n",
    "    ax3.set_title(f\"TILF - CFD.ML\\n Free stream: {wind_speed} m/s, {wind_direction} deg\\nAtmospheric condition class: {atmos_class}\")\n",
    "    ax3.set_xlabel(\"Easting [m]\")\n",
    "    ax3.set_ylabel(\"Northing [m]\")\n",
    "    ax3.set_aspect('equal', adjustable='box')"
   ]
  },
  {
   "cell_type": "code",
   "execution_count": null,
   "metadata": {},
   "outputs": [],
   "source": [
    "# Plot wind speed pattern for user specified turbines\n",
    "northern_edge = ['T95', 'T61', 'T48', 'T36', 'T24', 'T14', 'T10', 'T6', 'T3', 'T1', 'T2', 'T4', 'T9', 'T26', 'T33', 'T53', 'T74', 'T96']\n",
    "#southern_edge = ['T95', 'T104', 'T99', 'T107', 'T102', 'T110', 'T97', 'T105', 'T100', 'T108', 'T103', 'T98', 'T106', 'T101', 'T109', 'T96']\n",
    "\n",
    "fix, ax = plt.subplots(figsize=(7,4))\n",
    "for atmos_class in atmos_classes_for_direction:\n",
    "    (waked_windspeed_cfdml.loc[northern_edge]['atmosphericConditionAwareWakedWindSpeed_m_per_s{}'.format(atmos_class)]).plot(marker='o', ax=ax )\n",
    "    handles, labels = ax.get_legend_handles_labels()\n",
    "    ax.set_title(f'TILF CFD.ML at selected turbines\\n Free stream: {wind_speed} m/s, {wind_direction} deg')\n",
    "    ax.set_ylabel('Normalised Power')\n",
    "    ax.set_xlabel('turbine label')\n",
    "ax.legend(handles, atmos_classes_for_direction)\n"
   ]
  }
 ],
 "metadata": {
  "kernelspec": {
   "display_name": ".venv (3.11.3)",
   "language": "python",
   "name": "python3"
  },
  "language_info": {
   "codemirror_mode": {
    "name": "ipython",
    "version": 3
   },
   "file_extension": ".py",
   "mimetype": "text/x-python",
   "name": "python",
   "nbconvert_exporter": "python",
   "pygments_lexer": "ipython3",
   "version": "3.11.3"
  },
  "metadata": {
   "interpreter": {
    "hash": "d1e4be30fd4c5a8b3e03d3501a2d81ca2cb313a2f0b670c480ce2a911aa80e36"
   }
  },
  "orig_nbformat": 2
 },
 "nbformat": 4,
 "nbformat_minor": 2
}
