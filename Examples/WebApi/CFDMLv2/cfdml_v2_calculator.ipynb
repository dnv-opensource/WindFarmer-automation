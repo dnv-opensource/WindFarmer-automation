{
 "cells": [
  {
   "cell_type": "markdown",
   "metadata": {},
   "source": [
    "![CFD.ML v.20](<CFD.ML v2.0.png>)\n",
    "\n",
    "CFD.ML is delivered via DNV WindFarmer's web API. It is a machine learning model that can predict turbine interaction loss factors, both wake and blockage correction losses together. Find out more in the [WindFarmer documentation](https://myworkspace.dnv.com/download/public/renewables/windfarmer/manuals/latest/CalcRef/TurbineInteractions/CFDML/CFDML.html).\n",
    "\n",
    "With this notebook you can:\n",
    "1. import the wind farm data model as a json file, exported from WindFarmer, or converted from Openwind json or other formats.\n",
    "1. define calculation settings\n",
    "1. run the calculation and diagnose errors\n",
    "1. interogate and visualise the results, comparing them to those from traditional engineering models. "
   ]
  },
  {
   "cell_type": "code",
   "execution_count": null,
   "metadata": {},
   "outputs": [],
   "source": [
    "import os\n",
    "import requests\n",
    "import json\n",
    "import time\n",
    "import random\n",
    "import asyncio\n",
    "import math\n",
    "import pandas as pd\n",
    "from copy import deepcopy\n",
    "from matplotlib import pyplot as plt\n",
    "import numpy as np\n",
    "\n",
    "from script_lib import cfdml_v2\n",
    "from script_lib import api_calls\n",
    "from script_lib import aep_results"
   ]
  },
  {
   "cell_type": "markdown",
   "metadata": {},
   "source": [
    "# Import the API inputs as a json file\n",
    "The easiest and most reliable way to web API inputs is via the WindFarmer desktop application. \n",
    "Export the annual energy production calculation API input settings from within your workbook using an in-app script. Edit the file path and call:\n",
    "\n",
    "```Toolbox.ExportWindFarmerEnergyJson( @\"C:\\folder\\my_aep_calculation_inputs.json\" );```\n",
    "\n",
    "If you wish to construct the inputs yourself, see the datamodel described in our [API documentation and OpenAPI specification](https://myworkspace.dnv.com/download/public/renewables/windfarmer/manuals/latest/WebAPI/Introduction/Introduction.html). \n",
    "\n",
    "Download the atmospheric conditions presets from [here](https://mysoftware.dnv.com/download/renewables/windfarmer/Downloads/cfdml_preset_atmospheric_conditions.json) [login with veracity account] and save it in this folder, or specify the `atmospheric_conditions_presets_file_path` to the downloaded JSON file below.\n",
    "\n",
    "We can also asist with a script to convert the workbook JSON file exported from OpenWind to the WindFarmer format."
   ]
  },
  {
   "cell_type": "code",
   "execution_count": null,
   "metadata": {},
   "outputs": [],
   "source": [
    "input_folder = './'\n",
    "projectId = 'TheBowl'\n",
    "\n",
    "# Export AEP input settings from your Windfarmer workbook using an in-app script and calling Toolbox.ExportWindFarmerEnergyJson( input_data_file_path ):\n",
    "input_json_file_path = os.path.join(input_folder, 'TheBowl_with_neighbours_api_inputs_from_wfa_desktop.json')\n",
    "\n",
    "# The json file containing pre-set atmospheric conditions, available to WindFarmer customers\n",
    "atmospheric_conditions_presets_file_path = os.path.join(input_folder, \"default_atmospheric_conditions.json.\")\n",
    "\n",
    "inputs_file_name = os.path.join(input_folder, f'cfdmlv2api_inputs_{projectId}.json')\n",
    "results_file_name = os.path.join(f'cfdmlv2api_results_{projectId}.json')\n",
    "results_file_name_no_neighbours = os.path.join(f'cfdmlv2api_no_neighbours_results_{projectId}.json')\n",
    "per_turbine_results_file_name = os.path.join(f'cfdmlv2api_per_turbine_results_{projectId}.csv')\n",
    "\n",
    "# project Info:\n",
    "projectInfo = { \"projectId\": \"TheBowl\",\n",
    "                \"siteLatitude\": 36.5,\n",
    "                \"siteLongitude\": -75.1} "
   ]
  },
  {
   "cell_type": "markdown",
   "metadata": {},
   "source": [
    "### load the workbook JSON inputs"
   ]
  },
  {
   "cell_type": "code",
   "execution_count": null,
   "metadata": {},
   "outputs": [],
   "source": [
    "with open(input_json_file_path) as f:\n",
    "    json_string = f.read()\n",
    "    json_input = json.loads(json_string)\n",
    "# Assign a color to each wind farm\n",
    "farm_names = [farm[\"windFarmName\"] if \"windFarmName\" in farm else f\"Farm_{i}\" for i, farm in enumerate(json_input[\"windFarms\"])]\n",
    "color_map = plt.get_cmap('tab20')\n",
    "farm_colors = {name: color_map(i % 20) for i, name in enumerate(farm_names)}\n",
    "\n",
    "turbines = []\n",
    "for farm, farm_name in zip(json_input[\"windFarms\"], farm_names):\n",
    "    for turbine in farm[\"turbines\"]:\n",
    "        new_turbine = deepcopy(turbine)\n",
    "        new_turbine[\"farm_name\"] = farm_name\n",
    "        turbines.append(new_turbine)\n",
    "number_of_turbines = len(turbines)\n",
    "print(f'The project contains {number_of_turbines} turbines accross {len(json_input[\"windFarms\"])} wind farms')\n",
    "\n",
    "fig1, ax = plt.subplots(figsize=(10,7))\n",
    "for wt in turbines:\n",
    "    color = farm_colors[wt[\"farm_name\"]]\n",
    "    ax.scatter(wt['location']['easting_m'], wt['location']['northing_m'], c=[color], label=wt[\"farm_name\"])\n",
    "    ax.set_xlabel(\"Easting [m]\")\n",
    "    ax.set_ylabel(\"Northing [m]\")\n",
    "    ax.set_aspect('equal', adjustable='box')\n",
    "    ax.annotate(wt['name'], [wt['location']['easting_m'], wt['location']['northing_m']])\n",
    "ax.set_title(f'{projectId}')\n",
    "\n",
    "# Add legend with unique farm names\n",
    "handles, labels = ax.get_legend_handles_labels()\n",
    "by_label = dict(zip(labels, handles))\n",
    "ax.legend(by_label.values(), by_label.keys(), title=\"Wind Farm\")"
   ]
  },
  {
   "cell_type": "markdown",
   "metadata": {},
   "source": [
    "# Choose model inputs "
   ]
  },
  {
   "cell_type": "markdown",
   "metadata": {},
   "source": [
    "**Note**: the part responsible for model settings in the input jsons contained in the ```input_json_file_path```  will get overwritten by the settings specified"
   ]
  },
  {
   "cell_type": "code",
   "execution_count": null,
   "metadata": {},
   "outputs": [],
   "source": [
    "# specify the desired model combination\n",
    "WAKE_MODEL_CHOICE = \"CFDML\" # EddyViscosity/ModifiedPark/TurbOPark/CFDML    # Note CFDML wakes calculates the full TILF (wakes + blockage)\n",
    "BLOCKAGE_MODEL_CHOICE = \"CFDML\" # BEET/CFDML                                # Note if you choose CFDML wakes, you can only choose CFD.ML blockage. \n",
    "CALCULATE_EFFICIENCIES = True #True/False                                   # Calculating efficiencies gives you a full breakdown of wakes, blockage, neighbour wakes etc. but takes longer to compute\n",
    "CFDML_VERSION = \"2.6.0\"\n",
    "BLOCKAGE_APPLICATION_METHOD = \"OnWindSpeed\" # OnWindSpeed / OnEnergy\n",
    "NUMBER_OF_DIRECTION_STEPS = 180\n",
    "\n",
    "# For WAKE_MODEL_CHOICE = CFD.ML  we currently reccomend not applying any large wind farm correction in by-wind-speed extrapolation of CFD.ML results.\n",
    "EXTRAPOLATE_CFDML_USING_LARGE_WIND_FARM_CORRECTION = False # True/False\n",
    "\n",
    "# However, should you wish to use this notebook with a WAKE_MODEL_CHOICE of EddyViscosity, \n",
    "# you should define your large wind farm correction settings \n",
    "# The below values are defaults for an offshore project\n",
    "lwf_paramters = { \n",
    "                    \"baseRoughnessZ01\": 0.0004,\n",
    "                    \"increasedRoughnessZ02\": 0.0192,\n",
    "                    \"geometricWidthDiameters\": 1.0,\n",
    "                    \"recoveryStartDiameters\": 120.0,\n",
    "                    \"fiftyPercentRecoveryDiameters\": 40.0\n",
    "                }"
   ]
  },
  {
   "cell_type": "markdown",
   "metadata": {},
   "source": [
    "## Load and select atmospheric condition pre-sets for your site\n",
    "You will need to define a stablity rose, defining the proportion of conditions in each class for each direction sector"
   ]
  },
  {
   "cell_type": "code",
   "execution_count": null,
   "metadata": {},
   "outputs": [],
   "source": [
    "with open(atmospheric_conditions_presets_file_path, \"r\") as f:\n",
    "    atmosperhic_condition_presets = json.load(f)\n",
    "atmosperhic_condition_presets_df = pd.DataFrame(atmosperhic_condition_presets).T\n",
    "atmosperhic_condition_presets_df"
   ]
  },
  {
   "cell_type": "markdown",
   "metadata": {},
   "source": [
    "The training has been performed over a wide range of wind farms and atmospheric conditions as can be seen in the plots below.\n",
    "| Wind farm parameters | Atmopsheric conditions |\n",
    "|-|-|\n",
    "|![alt text](trainingset_metadata.png) |![alt text](trainingset_metadata_atmos.png)|"
   ]
  },
  {
   "cell_type": "markdown",
   "metadata": {},
   "source": [
    "### Define the proportion of each atmospheric condition class by wind direction\n",
    "Edit the direction sectors and proportion of data that falls in each atmospheric condition class for each. \n",
    "\n",
    "We support custom direction sectors, so no need to specify 12 equal sectors. \n",
    "\n",
    "If you do not want to vary the distribution by direction, simply add one bin, 0 to 360 e.g:\n",
    "```\n",
    "atmosphericConditionProbabilityDistribution = [{\n",
    "    \"fromDirection_degrees\": 0,\n",
    "    \"toDirection_degrees\":   360, \n",
    "    \"atmosphericConditionClassIds\": [stable_ID, unstable_ID],\n",
    "    \"probabilityForClasses\": [0.6, 0.4]\n",
    "}\n",
    "]\n",
    "```"
   ]
  },
  {
   "cell_type": "code",
   "execution_count": null,
   "metadata": {},
   "outputs": [],
   "source": [
    "# selected atmospheric condition pre-sets to use in simulation: \n",
    "stable_ID = \"onshore_stable_idealized\"\n",
    "unstable_ID = \"onshore_unstable_idealized\"\n",
    "\n",
    "atmosphericConditionProbabilityDistribution = [{\n",
    "    \"fromDirection_degrees\": 345,\n",
    "    \"toDirection_degrees\":   115, \n",
    "    \"atmosphericConditionClassIds\": [stable_ID, unstable_ID],\n",
    "    \"probabilityForClasses\": [0.6, 0.4]\n",
    "},\n",
    "{\n",
    "    \"fromDirection_degrees\": 115,  \n",
    "    \"toDirection_degrees\": 285, \n",
    "    \"atmosphericConditionClassIds\": [stable_ID, unstable_ID],\n",
    "    \"probabilityForClasses\": [0.45, 0.55]\n",
    "},\n",
    "{\n",
    "    \"fromDirection_degrees\": 285,\n",
    "    \"toDirection_degrees\"  : 345,\n",
    "    \"atmosphericConditionClassIds\": [stable_ID, unstable_ID],\n",
    "    \"probabilityForClasses\": [0.5, 0.5]\n",
    "},\n",
    "]"
   ]
  },
  {
   "cell_type": "code",
   "execution_count": null,
   "metadata": {},
   "outputs": [],
   "source": [
    "from script_lib import cfdml_v2\n",
    "cfdml_v2.plot_atmoshperic_conditions_rose(atmosphericConditionProbabilityDistribution)\n",
    "pd.DataFrame(atmosphericConditionProbabilityDistribution)"
   ]
  },
  {
   "cell_type": "code",
   "execution_count": null,
   "metadata": {},
   "outputs": [],
   "source": [
    "# Import utility functions\n",
    "from script_lib.input_json_prep import (\n",
    "    set_model_settings, \n",
    "    switch_off_fpm_export, \n",
    "    configure_fpm_export,\n",
    "    get_avg_hub_and_tip_heights_for_subject_windfarms,\n",
    "    construct_atmospheric_conditions\n",
    ")\n",
    "\n",
    "# Defining the model inputs\n",
    "set_model_settings(\n",
    "    json_input,\n",
    "    wake_model_choice=WAKE_MODEL_CHOICE,\n",
    "    blockage_model_choice=BLOCKAGE_MODEL_CHOICE,\n",
    "    calculate_efficiencies=CALCULATE_EFFICIENCIES,\n",
    "    number_of_direction_steps=NUMBER_OF_DIRECTION_STEPS,\n",
    "    cfdml_version=CFDML_VERSION,\n",
    "    blockage_application_method=BLOCKAGE_APPLICATION_METHOD\n",
    ")\n",
    "\n",
    "switch_off_fpm_export(json_input)\n",
    "configure_fpm_export(json_input)  # activate wind speed fpms for the flow case visualisations\n",
    "\n",
    "hub_height, tip_height = get_avg_hub_and_tip_heights_for_subject_windfarms(json_input)\n",
    "json_input[\"atmosphericConditions\"] = construct_atmospheric_conditions(\n",
    "    atmosphericConditionProbabilityDistribution, \n",
    "    atmosperhic_condition_presets, \n",
    "    hub_height, \n",
    "    tip_height\n",
    ")\n",
    "json_input[\"projectInfo\"] = projectInfo"
   ]
  },
  {
   "cell_type": "code",
   "execution_count": null,
   "metadata": {},
   "outputs": [],
   "source": [
    "# write inputs to file\n",
    "inputs_file_name = f'cfdmlv2apiinputs_{projectInfo[\"projectId\"]}.json' \n",
    "with open(inputs_file_name, 'w') as f:\n",
    "    json.dump(json_input, f, indent=4, allow_nan=False)"
   ]
  },
  {
   "attachments": {},
   "cell_type": "markdown",
   "metadata": {},
   "source": [
    "## API setup and calling\n",
    "To access the API you need a authorization token. \n",
    "This should be kept secure - and not added to source control, so I'm getting it from an environment variable. See setup instructions for saving your access key as an environment variable documented [here.](https://myworkspace.dnv.com/download/public/renewables/windfarmer/manuals/latest/WebAPI/Introduction/gettingStarted.html)"
   ]
  },
  {
   "cell_type": "code",
   "execution_count": null,
   "metadata": {},
   "outputs": [],
   "source": [
    "api_url = 'https://windfarmer.dnv.com/api/v2/'\n",
    "auth_token = os.environ['WINDFARMER_ACCESS_KEY']\n",
    "\n",
    "# The token should be passed as an Authorization header.\n",
    "#  We also need to set the `Content-Type` to let the API know that we're sending JSON data.\n",
    "\n",
    "wf_api = api_calls.WindFarmerAPI(auth_token, api_url)"
   ]
  },
  {
   "cell_type": "markdown",
   "metadata": {},
   "source": [
    "### Call `AnnualEnergyProduction` endpoint to calculate results"
   ]
  },
  {
   "cell_type": "code",
   "execution_count": null,
   "metadata": {},
   "outputs": [],
   "source": [
    "# reload inputs from file\n",
    "with open(inputs_file_name, 'r') as f:\n",
    "    json_input = json.load(f)\n",
    "\n",
    "json_input_no_neighbours = cfdml_v2.generate_no_neighbours_inputs(json_input)"
   ]
  },
  {
   "cell_type": "code",
   "execution_count": null,
   "metadata": {},
   "outputs": [],
   "source": [
    "# Make the API call, \n",
    "if cfdml_v2.check_if_neighbours(json_input):\n",
    "    api_response_no_neighbours = await wf_api.call_aep_api( json_input_no_neighbours)\n",
    "else:\n",
    "    api_response_no_neighbours = None\n",
    "api_response = await wf_api.call_aep_api( json_input)"
   ]
  },
  {
   "cell_type": "code",
   "execution_count": null,
   "metadata": {},
   "outputs": [],
   "source": [
    "# # If want to try getting results after interupting the script, \n",
    "# # you can uncomment the below, enter your job ID printed above, then try and get the results\n",
    "\n",
    "# job_id = \"772b948e-f31e-49aa-9684-c3ab26d43e85\"\n",
    "# status, api_response = await wf_api.poll_for_status(job_id)"
   ]
  },
  {
   "cell_type": "code",
   "execution_count": null,
   "metadata": {},
   "outputs": [],
   "source": [
    "with open(results_file_name, 'w') as f:\n",
    "    f.write(json.dumps(api_response, indent=4))\n",
    "\n",
    "if cfdml_v2.check_if_neighbours(json_input):\n",
    "    with open(results_file_name_no_neighbours, 'w') as f:\n",
    "        f.write(json.dumps(api_response_no_neighbours, indent=4))\n",
    "\n",
    "time.sleep(1)"
   ]
  },
  {
   "cell_type": "markdown",
   "metadata": {},
   "source": [
    "# Review results\n",
    "### Report Gross + Full AEP + Wake + Blockage loss factors"
   ]
  },
  {
   "cell_type": "markdown",
   "metadata": {},
   "source": [
    "Read results back in from file (in case you wish to run plotting and reporting again without recalculation )"
   ]
  },
  {
   "cell_type": "code",
   "execution_count": null,
   "metadata": {},
   "outputs": [],
   "source": [
    "with open(results_file_name, 'r') as f:\n",
    "    results = json.load(f)\n",
    "if cfdml_v2.check_if_neighbours(json_input):\n",
    "    with open(results_file_name_no_neighbours, 'r') as f:\n",
    "        results_no_neighbours = json.load(f)\n",
    "else:\n",
    "    results_no_neighbours = None"
   ]
  },
  {
   "cell_type": "code",
   "execution_count": null,
   "metadata": {},
   "outputs": [],
   "source": [
    "results_processor = aep_results.AEPResultsProcessor(json_input, results, results_no_neighbours)\n",
    "results_summary_df = results_processor.get_results_summary_df()\n",
    "results_summary_df.T    "
   ]
  },
  {
   "cell_type": "markdown",
   "metadata": {},
   "source": [
    "Note:\n",
    "* Total turbine interaction efficiency = blockage * internal_wake * external_wake\n",
    "* The total losses can also include hysteresis and curtailment efficiencies, depending on the chosen calculation settings"
   ]
  },
  {
   "cell_type": "markdown",
   "metadata": {},
   "source": [
    "## Pattern of production\n",
    "The annual energy production pattern accross the farm"
   ]
  },
  {
   "cell_type": "code",
   "execution_count": null,
   "metadata": {},
   "outputs": [],
   "source": [
    "# Pattern of production - Full yield\n",
    "per_turbine_results = pd.DataFrame.from_dict(results['windFarmAepOutputs'][0]['turbineResults'])\n",
    "per_turbine_results.set_index('turbineName', drop=True, inplace=True)\n",
    "per_turbine_results['easting'] = per_turbine_results['turbineLocation'].map(lambda x: dict(x)['easting_m'])\n",
    "per_turbine_results['northing'] = per_turbine_results['turbineLocation'].map(lambda x: dict(x)['northing_m'])\n",
    "fig, ax = plt.subplots(figsize=(10,4))\n",
    "im = ax.scatter(per_turbine_results['easting'], per_turbine_results['northing'], c=per_turbine_results['fullAnnualYield_MWh_per_year'], cmap='viridis')\n",
    "ax.set_title(\"Per turbine energy production (blockage & wakes affected) [MWh/yr]\")\n",
    "ax.set_xlabel(\"Easting [m]\")\n",
    "ax.set_ylabel(\"Northing [m]\")\n",
    "ax.set_aspect('equal', adjustable='box')\n",
    "fig.colorbar(im)"
   ]
  },
  {
   "cell_type": "markdown",
   "metadata": {},
   "source": [
    "## TILF pattern for selected wind directions"
   ]
  },
  {
   "cell_type": "code",
   "execution_count": null,
   "metadata": {},
   "outputs": [],
   "source": [
    "# Select the wind direction and wind speed flow case you wish to review:\n",
    "wind_direction = 220\n",
    "wind_speed = 8.0"
   ]
  },
  {
   "cell_type": "code",
   "execution_count": null,
   "metadata": {},
   "outputs": [],
   "source": [
    "def get_atmos_classes_for_direction (wind_direction, atmosphericConditionProbabilityDistribution):\n",
    "    for sector in atmosphericConditionProbabilityDistribution:\n",
    "        to_direction = sector[\"toDirection_degrees\"]\n",
    "        from_direction = sector[\"fromDirection_degrees\"]\n",
    "        if  from_direction > to_direction :\n",
    "            to_direction = to_direction + 360.0\n",
    "            test_wind_direction = wind_direction + 360.0\n",
    "        if (from_direction <= test_wind_direction and to_direction > wind_direction):\n",
    "            classes_for_direction = sector[\"atmosphericConditionClassIds\"]\n",
    "            print(f\"atmospheric conditions {classes_for_direction} found for wind direction {wind_direction}\")\n",
    "            return classes_for_direction\n",
    "    print (\"No atmospheric conditions found for wind direction!\")\n",
    "    return None\n",
    "\n",
    "atmos_classes_for_direction = get_atmos_classes_for_direction(wind_direction, atmosphericConditionProbabilityDistribution)"
   ]
  },
  {
   "cell_type": "code",
   "execution_count": null,
   "metadata": {},
   "outputs": [],
   "source": [
    "# wind speed turbine interaction loss factor plotting accross array\n",
    "wind_direction_index = int(wind_direction/ (360.0 / NUMBER_OF_DIRECTION_STEPS))\n",
    "wind_speed_index = int(wind_speed)\n",
    "\n",
    "waked_windspeed_cfdml = pd.DataFrame(results['windFarmAepOutputs'][0]['turbineFlowAndPerformanceMatricesWithMastBinning'])\n",
    "waked_windspeed_cfdml.set_index('turbineName',drop=True, inplace=True)\n",
    "for atmos_class in atmos_classes_for_direction:\n",
    "    waked_windspeed_cfdml['atmosphericConditionAwareWakedWindSpeed_m_per_s{}'.format(atmos_class)] = waked_windspeed_cfdml['atmosphericConditionAwareWakedWindSpeed_m_per_s'].map(lambda x: x[atmos_class][wind_direction_index][wind_speed_index])\n",
    "\n",
    "# Plot\n",
    "waked_windspeed_cfdml['northing'] = per_turbine_results['northing']\n",
    "waked_windspeed_cfdml['easting'] = per_turbine_results['easting']\n",
    "\n",
    "vmin = 1.0\n",
    "for atmos_class in atmos_classes_for_direction:\n",
    "    waked_windspeed_cfdml['TILF {}'.format(atmos_class)] = waked_windspeed_cfdml['atmosphericConditionAwareWakedWindSpeed_m_per_s{}'.format(atmos_class)] / wind_speed\n",
    "    bl_vmin = waked_windspeed_cfdml['TILF {}'.format(atmos_class)].min()\n",
    "    if bl_vmin < vmin:\n",
    "        vmin = bl_vmin\n",
    "for atmos_class in atmos_classes_for_direction:\n",
    "    fig3, ax3 = plt.subplots(figsize=(10,4))\n",
    "    im2 = ax3.scatter(waked_windspeed_cfdml['easting'], waked_windspeed_cfdml['northing'], c=waked_windspeed_cfdml['TILF {}'.format(atmos_class)], cmap='viridis', vmin=vmin, vmax=1.0)\n",
    "    fig3.colorbar(im2)\n",
    "    ax3.set_title(f\"TILF - CFD.ML\\n Free stream: {wind_speed} m/s, {wind_direction} deg\\nAtmospheric condition class: {atmos_class}\")\n",
    "    ax3.set_xlabel(\"Easting [m]\")\n",
    "    ax3.set_ylabel(\"Northing [m]\")\n",
    "    ax3.set_aspect('equal', adjustable='box')"
   ]
  },
  {
   "cell_type": "code",
   "execution_count": null,
   "metadata": {},
   "outputs": [],
   "source": [
    "# Plot wind speed pattern for user specified turbines\n",
    "northern_edge = ['T14', 'T10', 'T6', 'T3', 'T1', 'T2', 'T4', 'T9', 'T26', 'T33', 'T53', 'T74', 'T96']\n",
    "#southern_edge = ['T95', 'T104', 'T99', 'T107', 'T102', 'T110', 'T97', 'T105', 'T100', 'T108', 'T103', 'T98', 'T106', 'T101', 'T109', 'T96']\n",
    "\n",
    "fix, ax = plt.subplots(figsize=(7,4))\n",
    "for atmos_class in atmos_classes_for_direction:\n",
    "    (waked_windspeed_cfdml.loc[northern_edge]['atmosphericConditionAwareWakedWindSpeed_m_per_s{}'.format(atmos_class)]).plot(marker='o', ax=ax )\n",
    "    handles, labels = ax.get_legend_handles_labels()\n",
    "    ax.set_title(f'TILF CFD.ML at selected turbines\\n Free stream: {wind_speed} m/s, {wind_direction} deg')\n",
    "    ax.set_ylabel('Normalised Power')\n",
    "    ax.set_xlabel('turbine label')\n",
    "ax.legend(handles, atmos_classes_for_direction)\n"
   ]
  }
 ],
 "metadata": {
  "kernelspec": {
   "display_name": "wf_auto_geopandas",
   "language": "python",
   "name": "python3"
  },
  "language_info": {
   "codemirror_mode": {
    "name": "ipython",
    "version": 3
   },
   "file_extension": ".py",
   "mimetype": "text/x-python",
   "name": "python",
   "nbconvert_exporter": "python",
   "pygments_lexer": "ipython3",
   "version": "3.9.21"
  },
  "metadata": {
   "interpreter": {
    "hash": "d1e4be30fd4c5a8b3e03d3501a2d81ca2cb313a2f0b670c480ce2a911aa80e36"
   }
  },
  "orig_nbformat": 2
 },
 "nbformat": 4,
 "nbformat_minor": 2
}
