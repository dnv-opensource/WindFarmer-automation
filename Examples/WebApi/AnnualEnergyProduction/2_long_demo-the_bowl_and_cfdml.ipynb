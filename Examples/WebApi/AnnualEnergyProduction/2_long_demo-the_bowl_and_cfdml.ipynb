{
 "cells": [
  {
   "attachments": {},
   "cell_type": "markdown",
   "metadata": {},
   "source": [
    "# WindFarmer API demo: AnnualEnergyProduction of The Bowl Wind Farm\n",
    "The WindFarmer API is a web API. You can call it from any coding language, or use tools like Postman.\n",
    "\n",
    "There is an OpenAPI definition which provides\n",
    "documentation, and allows client code to be generated.\n",
    "\n",
    "From python you can call the API directly, using `urllib3` or `requests`.\n",
    "\n",
    "This script will compute AEP, wakes and blockage for a small wind farm using, firstly, the eddy viscosity wake model and BEET blockage model, then CFD.ML v1, then compare results from the two approaches. \n",
    "\n",
    "## Using the API directly\n",
    "First, import the necessary modules"
   ]
  },
  {
   "cell_type": "code",
   "execution_count": 1,
   "metadata": {},
   "outputs": [],
   "source": [
    "import os\n",
    "import requests\n",
    "import json\n",
    "import time\n",
    "from matplotlib import pyplot as plt\n",
    "import pandas as pd\n",
    "from copy import deepcopy"
   ]
  },
  {
   "attachments": {},
   "cell_type": "markdown",
   "metadata": {},
   "source": [
    "To access the API you need a authorization token. This should be kept secure - and not added to source control, so I'm getting it from an environment variable.\n",
    "\n",
    "The token should be passed as an Authorization header. We also need to set the `Content-Type` to let the API know that we're sending JSON data."
   ]
  },
  {
   "cell_type": "code",
   "execution_count": 2,
   "metadata": {},
   "outputs": [],
   "source": [
    "api_url = 'https://windfarmer.dnv.com/api/v2/'\n",
    "auth_token = os.environ['WINDFARMER_ACCESS_KEY']\n",
    "headers = {\n",
    "    'Authorization': f'Bearer {auth_token}',\n",
    "    'Content-Type': 'application/json'\n",
    "}"
   ]
  },
  {
   "attachments": {},
   "cell_type": "markdown",
   "metadata": {},
   "source": [
    "### Call `Status`\n",
    "Try calling the `Status` endpoint. This verifies that you can access the API and that your token is valid.\n",
    "\n",
    "If you get errors try `pip install pip-system-certs` for your environment. That allows python to use the Windows certificates store."
   ]
  },
  {
   "cell_type": "code",
   "execution_count": 3,
   "metadata": {},
   "outputs": [],
   "source": [
    "response = requests.get(api_url + 'Status', headers = headers)\n",
    "print(f'Response from Status: {response.status_code}')\n",
    "print(response.text)"
   ]
  },
  {
   "attachments": {},
   "cell_type": "markdown",
   "metadata": {},
   "source": [
    "### Hypothetical wind farm in flat terrain: `The Bowl`"
   ]
  },
  {
   "attachments": {},
   "cell_type": "markdown",
   "metadata": {},
   "source": [
    "The json containing inputs necessary to run an energy calculation in the cloud can be easiy generated in DNV's WindFarmer:Analyst, or can be compiled manually. \n",
    "\n",
    "The formal API spec is available here: https://windfarmer.dnv.com/documents "
   ]
  },
  {
   "cell_type": "code",
   "execution_count": 4,
   "metadata": {},
   "outputs": [],
   "source": [
    "with open('..\\..\\..\\DemoData\\TheBowl\\TheBowl.json') as f:\n",
    "    json_string = f.read()\n",
    "    input_data = json.loads(json_string)\n",
    "\n",
    "print(json_string[0:500] +  '...')"
   ]
  },
  {
   "attachments": {},
   "cell_type": "markdown",
   "metadata": {},
   "source": [
    "Let's plot the layout"
   ]
  },
  {
   "cell_type": "code",
   "execution_count": 5,
   "metadata": {},
   "outputs": [],
   "source": [
    "fig1, ax = plt.subplots(figsize=(10,7))\n",
    "for wt in input_data['windFarms'][0]['turbines']:\n",
    "    ax.scatter(wt['location']['easting_m'], wt['location']['northing_m'], c='b')\n",
    "    ax.set_xlabel(\"Easting [m]\")\n",
    "    ax.set_ylabel(\"Northing [m]\")\n",
    "    ax.set_aspect('equal', adjustable='box')\n",
    "    ax.annotate(wt['name'],[wt['location']['easting_m'], wt['location']['northing_m']] )\n",
    "ax.set_title('The Bowl - a hypothetical wind farm')\n",
    "southern_edge = ['T95', 'T104', 'T99', 'T107', 'T102', 'T110', 'T97', 'T105', 'T100', 'T108', 'T103', 'T98', 'T106', 'T101', 'T109', 'T96']\n"
   ]
  },
  {
   "cell_type": "code",
   "execution_count": 6,
   "metadata": {},
   "outputs": [],
   "source": [
    "print(\"The turbine type is: \" + input_data['turbineModels'][0]['id'])"
   ]
  },
  {
   "attachments": {},
   "cell_type": "markdown",
   "metadata": {},
   "source": [
    "The wind:\n",
    "\n",
    "![windrose](images/windrose.png)\n",
    "\n",
    "![fd](images/fd.png)"
   ]
  },
  {
   "attachments": {},
   "cell_type": "markdown",
   "metadata": {},
   "source": [
    "The turbine interaction model settings:"
   ]
  },
  {
   "cell_type": "code",
   "execution_count": 7,
   "metadata": {},
   "outputs": [],
   "source": [
    "#change blockage application method relative to the default from the file\n",
    "input_data['energyEfficienciesSettings']['blockageModel']['beet']['blockageCorrectionApplicationMethod'] = \"OnWindSpeed\" \n",
    "# and print the final settings\n",
    "print('wake calculation type: ' + input_data['energyEfficienciesSettings']['wakeModel']['wakeModelType'])\n",
    "print('\\twake model settings: ')\n",
    "for setting, value in input_data['energyEfficienciesSettings']['wakeModel']['eddyViscosity'].items():\n",
    "    print('\\t\\t'+str(setting)+': '+str(value))\n",
    "print('blockage calculation type: ' + input_data['energyEfficienciesSettings']['blockageModel']['blockageModelType'])\n",
    "print('\\tblockage model settings: ')\n",
    "for setting, value in input_data['energyEfficienciesSettings']['blockageModel']['beet'].items():\n",
    "    print('\\t\\t'+str(setting)+': '+str(value))\n"
   ]
  },
  {
   "attachments": {},
   "cell_type": "markdown",
   "metadata": {},
   "source": [
    "### Call `AnnualEnergyProduction` endpoint"
   ]
  },
  {
   "attachments": {},
   "cell_type": "markdown",
   "metadata": {},
   "source": [
    "Send the input data to the Annual Energy Production calculation"
   ]
  },
  {
   "cell_type": "code",
   "execution_count": 8,
   "metadata": {},
   "outputs": [],
   "source": [
    "start = time.time()\n",
    "response = requests.post(\n",
    "    api_url + 'AnnualEnergyProduction', \n",
    "    headers=headers,\n",
    "    json = input_data)\n",
    "    \n",
    "print(f'Response {response.status_code} - {response.reason} in {time.time() - start:.2f}s')\n",
    "# Print the error detail if we haven't receieved a 200 OK response\n",
    "if response.status_code != 200:\n",
    "    print(json.loads(response.content)['detail'])"
   ]
  },
  {
   "attachments": {},
   "cell_type": "markdown",
   "metadata": {},
   "source": [
    "### Inspect and plot the results"
   ]
  },
  {
   "cell_type": "code",
   "execution_count": 9,
   "metadata": {},
   "outputs": [],
   "source": [
    "#extract the most important farm-level numbers\n",
    "result = json.loads(response.content)\n",
    "full_aep_MWh_per_year = float(result['windFarmAepOutputs'][0]['fullAnnualEnergyYield_MWh_per_year'])\n",
    "beet_result = float(result['weightedBlockageEfficiency'])\n",
    "print(f'Wake Affected Annual Energy Production = {full_aep_MWh_per_year:.1f} MWh / year')\n",
    "\n",
    "#plot  per-turbine yield\n",
    "per_turbine_results = pd.DataFrame.from_dict(result['windFarmAepOutputs'][0]['turbineResults'])\n",
    "per_turbine_results['easting'] = per_turbine_results['turbineLocation'].map(lambda x: dict(x)['easting_m'])\n",
    "per_turbine_results['northing'] = per_turbine_results['turbineLocation'].map(lambda x: dict(x)['northing_m'])\n",
    "fig, ax = plt.subplots(figsize=(10,7))\n",
    "im = ax.scatter(per_turbine_results['easting'], per_turbine_results['northing'], c=per_turbine_results['fullAnnualYield_MWh_per_year'], cmap='BuGn')\n",
    "ax.set_title(\"Per turbine energy production (affected by wakes only) [MWh/yr]\")\n",
    "ax.set_xlabel(\"Easting [m]\")\n",
    "ax.set_ylabel(\"Northing [m]\")\n",
    "ax.set_aspect('equal', adjustable='box')\n",
    "fig.colorbar(im)"
   ]
  },
  {
   "attachments": {},
   "cell_type": "markdown",
   "metadata": {},
   "source": [
    "### How to capture the `impact of blockage on a per-turbine basis`?"
   ]
  },
  {
   "attachments": {},
   "cell_type": "markdown",
   "metadata": {},
   "source": [
    "Let's modify the settings and switch to `CFD.ML`, DNV's new turbine interaction model capable of capturing wakes & blockage together, on a per-turbine basis."
   ]
  },
  {
   "cell_type": "code",
   "execution_count": 10,
   "metadata": {},
   "outputs": [],
   "source": [
    "input_data_cfdml = deepcopy(input_data)\n",
    "input_data_cfdml['energyEfficienciesSettings']['wakeModel']['wakeModelType'] = 'CFDML'\n",
    "input_data_cfdml[\"energyEfficienciesSettings\"][\"wakeModel\"][\"cfdml\"][\"gnnVersion\"] = \"1.1\" # This calculator is only for version 1\n",
    "# CFD.ML models wake&blockage together, so we always compute CFD.ML blockage if computing CFD.ML wakes, and it is best computed OnWindSpeed\n",
    "input_data_cfdml['energyEfficienciesSettings']['blockageModel']['blockageModelType'] = \"CFDML\"\n",
    "input_data_cfdml['energyEfficienciesSettings']['blockageModel']['cfdml']['blockageCorrectionApplicationMethod'] = \"OnWindSpeed\"\n",
    "print(\"CFDML settings: \" + str(input_data['energyEfficienciesSettings']['wakeModel']['cfdml']))\n",
    "\n",
    "input_data_no_interactions = deepcopy(input_data)\n",
    "input_data_no_interactions['energyEfficienciesSettings']['blockageModel']['blockageModelType'] = \"NoBlockageModel\" \n",
    "input_data_no_interactions['energyEfficienciesSettings']['wakeModel']['wakeModelType'] = 'NoWakeModel'"
   ]
  },
  {
   "attachments": {},
   "cell_type": "markdown",
   "metadata": {},
   "source": [
    "### Call the `AnnualEnergyProduction` API again"
   ]
  },
  {
   "cell_type": "code",
   "execution_count": 11,
   "metadata": {},
   "outputs": [],
   "source": [
    "start = time.time()\n",
    "response_cfdml = requests.post(\n",
    "    api_url + 'AnnualEnergyProduction', \n",
    "    headers=headers,\n",
    "    json = input_data_cfdml)\n",
    "    \n",
    "print(f'Response {response_cfdml.status_code} - {response_cfdml.reason} in {time.time() - start:.2f}s')\n",
    "# Print the error detail if we haven't receieved a 200 OK response\n",
    "if response_cfdml.status_code != 200:\n",
    "    print(json.loads(response_cfdml.content)['detail'])\n",
    "\n",
    "start = time.time()\n",
    "response_no_interactions = requests.post(\n",
    "    api_url + 'AnnualEnergyProduction', \n",
    "    headers=headers,\n",
    "    json = input_data_no_interactions)\n",
    "    \n",
    "print(f'Response {response_no_interactions.status_code} - {response_no_interactions.reason} in {time.time() - start:.2f}s')\n",
    "# Print the error detail if we haven't receieved a 200 OK response\n",
    "if response_no_interactions.status_code != 200:\n",
    "    print(json.loads(response_no_interactions.content)['detail'])"
   ]
  },
  {
   "attachments": {},
   "cell_type": "markdown",
   "metadata": {},
   "source": [
    "### Inspect & plot the results"
   ]
  },
  {
   "cell_type": "code",
   "execution_count": null,
   "metadata": {},
   "outputs": [],
   "source": [
    "#extract the most important farm-level numbers\n",
    "result_cfdml = json.loads(response_cfdml.content)\n",
    "full_aep_MWh_per_year = float(result_cfdml['windFarmAepOutputs'][0]['fullAnnualEnergyYield_MWh_per_year'])\n",
    "print(f'Wake and Blockage Affected Annual Energy Production = {full_aep_MWh_per_year:.1f} MWh / year')\n",
    "\n",
    "per_turbine_results = pd.DataFrame.from_dict(result_cfdml['windFarmAepOutputs'][0]['turbineResults'])\n",
    "per_turbine_results.set_index('turbineName', drop=True, inplace=True)\n",
    "per_turbine_results['easting'] = per_turbine_results['turbineLocation'].map(lambda x: dict(x)['easting_m'])\n",
    "per_turbine_results['northing'] = per_turbine_results['turbineLocation'].map(lambda x: dict(x)['northing_m'])\n",
    "fig, ax = plt.subplots(figsize=(10,4))\n",
    "im = ax.scatter(per_turbine_results['easting'], per_turbine_results['northing'], c=per_turbine_results['fullAnnualYield_MWh_per_year'], cmap='BuGn')\n",
    "ax.set_title(\"Per turbine energy production (blockage & wakes affected) [MWh/yr]\")\n",
    "ax.set_xlabel(\"Easting [m]\")\n",
    "ax.set_ylabel(\"Northing [m]\")\n",
    "ax.set_aspect('equal', adjustable='box')\n",
    "fig.colorbar(im)"
   ]
  },
  {
   "attachments": {},
   "cell_type": "markdown",
   "metadata": {},
   "source": [
    "### Windspeeds predicted by both models"
   ]
  },
  {
   "cell_type": "code",
   "execution_count": null,
   "metadata": {},
   "outputs": [],
   "source": [
    "# EV + LWF\n",
    "waked_windspeeds = pd.DataFrame(result['windFarmAepOutputs'][0]['turbineFlowAndPerformanceMatricesWithMastBinning'])\n",
    "waked_windspeeds.set_index('turbineName',drop=True, inplace=True)\n",
    "waked_windspeeds['wakedWindSpeed_at_8_m_per_s_at_180_deg'] = waked_windspeeds['wakedWindSpeed_m_per_s'].map(lambda x: round(x[90][8],3))\n",
    "waked_windspeeds['wakedWindSpeed_at_8_m_per_s_at_90_deg'] = waked_windspeeds['wakedWindSpeed_m_per_s'].map(lambda x: round(x[45][8],3))\n",
    "# CFD.ML\n",
    "waked_windspeeds_cfdml = pd.DataFrame(result_cfdml['windFarmAepOutputs'][0]['turbineFlowAndPerformanceMatricesWithMastBinning'])\n",
    "waked_windspeeds_cfdml.set_index('turbineName',drop=True, inplace=True)\n",
    "waked_windspeeds_cfdml['wakedWindSpeed_at_8_m_per_s_at_180_deg'] = waked_windspeeds_cfdml['wakedWindSpeed_m_per_s'].map(lambda x: x[90][8])\n",
    "waked_windspeeds_cfdml['wakedWindSpeed_at_8_m_per_s_at_90_deg'] = waked_windspeeds_cfdml['wakedWindSpeed_m_per_s'].map(lambda x: x[45][8])\n",
    "# Plot\n",
    "fix, ax = plt.subplots(figsize=(7,4))\n",
    "waked_windspeeds.loc[southern_edge]['wakedWindSpeed_at_8_m_per_s_at_180_deg'].plot(marker='o', ax=ax)\n",
    "waked_windspeeds_cfdml.loc[southern_edge]['wakedWindSpeed_at_8_m_per_s_at_180_deg'].plot(marker='o', ax=ax)\n",
    "handles, labels = ax.get_legend_handles_labels()\n",
    "ax.legend(handles, ['EV+LWF+BEET', 'CFD.ML'])\n",
    "ax.set_title('Wake and blockage affected wind speeds at turbines\\n Southern edge of the farm.\\n Free stream: 8 m/s, 180 deg')\n",
    "ax.set_ylabel('Wind speed [m/s]')\n",
    "ax.set_xlabel('turbine label')"
   ]
  },
  {
   "cell_type": "code",
   "execution_count": null,
   "metadata": {},
   "outputs": [],
   "source": [
    "fix, ax = plt.subplots(figsize=(7,4))\n",
    "waked_windspeeds.loc[southern_edge]['wakedWindSpeed_at_8_m_per_s_at_90_deg'].plot(marker='o', ax=ax)\n",
    "waked_windspeeds_cfdml.loc[southern_edge]['wakedWindSpeed_at_8_m_per_s_at_90_deg'].plot(marker='o', ax=ax)\n",
    "handles, labels = ax.get_legend_handles_labels()\n",
    "ax.legend(handles, ['EV+LWF+BEET', 'CFD.ML'])\n",
    "ax.set_title('Wake and blockage affected wind speeds at turbines\\n Southern edge of the farm.\\n Free stream: 8 m/s, 90 deg')\n",
    "ax.set_ylabel('Wind speed [m/s]')\n",
    "ax.set_xlabel('turbine label')"
   ]
  },
  {
   "attachments": {},
   "cell_type": "markdown",
   "metadata": {},
   "source": [
    "### Pattern of production for a selected flowcase"
   ]
  },
  {
   "cell_type": "markdown",
   "metadata": {},
   "source": [
    "Let's take a look at the production patterns predicted by both models and cross-correlate."
   ]
  },
  {
   "cell_type": "code",
   "execution_count": null,
   "metadata": {},
   "outputs": [],
   "source": [
    "# EV + LWF\n",
    "spot_power = pd.DataFrame(result['windFarmAepOutputs'][0]['turbineFlowAndPerformanceMatricesWithMastBinning'])\n",
    "spot_power.set_index('turbineName',drop=True, inplace=True)\n",
    "spot_power['spotPower_at_8_m_per_s_at_180_deg'] = spot_power['spotPowerOutput_W'].map(lambda x: round(x[90][8],3))\n",
    "spot_power['spotPower_at_8_m_per_s_at_90_deg'] = spot_power['spotPowerOutput_W'].map(lambda x: round(x[45][8],3))\n",
    "# CFD.ML\n",
    "spot_power_cfdml = pd.DataFrame(result_cfdml['windFarmAepOutputs'][0]['turbineFlowAndPerformanceMatricesWithMastBinning'])\n",
    "spot_power_cfdml.set_index('turbineName',drop=True, inplace=True)\n",
    "spot_power_cfdml['spotPower_at_8_m_per_s_at_180_deg'] = spot_power_cfdml['spotPowerOutput_W'].map(lambda x: x[90][8])\n",
    "spot_power_cfdml['spotPower_at_8_m_per_s_at_90_deg'] = spot_power_cfdml['spotPowerOutput_W'].map(lambda x: x[45][8])\n",
    "\n",
    "# Plot\n",
    "spot_power['northing'] = per_turbine_results['northing']\n",
    "spot_power['easting'] = per_turbine_results['easting']\n",
    "spot_power_cfdml['northing'] = per_turbine_results['northing']\n",
    "spot_power_cfdml['easting'] = per_turbine_results['easting']\n",
    "\n",
    "result_no_interactions = json.loads(response_no_interactions.content)\n",
    "spot_power_no_interactions = pd.DataFrame(result_no_interactions['windFarmAepOutputs'][0]['turbineFlowAndPerformanceMatricesWithMastBinning'])\n",
    "spot_power_no_interactions.set_index('turbineName',drop=True, inplace=True)\n",
    "spot_power_no_interactions['spotPower_at_8_m_per_s_at_180_deg'] = spot_power_no_interactions['spotPowerOutput_W'].map(lambda x: x[90][8])\n",
    "scale = spot_power_no_interactions['spotPower_at_8_m_per_s_at_180_deg'].max()\n",
    "fig, ax = plt.subplots(figsize=(10,4))\n",
    "im = ax.scatter(spot_power['easting'], spot_power['northing'], c=spot_power['spotPower_at_8_m_per_s_at_180_deg'], cmap='BuGn', vmin=0.5*scale, vmax=scale)\n",
    "ax.set_title(\"Pattern of production EV+LWF+BEET\\n Free stream: 8 m/s, 180 deg\")\n",
    "ax.set_xlabel(\"Easting [m]\")\n",
    "ax.set_ylabel(\"Northing [m]\")\n",
    "ax.set_aspect('equal', adjustable='box')\n",
    "\n",
    "fig2, ax2 = plt.subplots(figsize=(10,4))\n",
    "im = ax2.scatter(spot_power_cfdml['easting'], spot_power_cfdml['northing'], c=spot_power_cfdml['spotPower_at_8_m_per_s_at_180_deg'], cmap='BuGn', vmin=0.5*scale, vmax=scale)\n",
    "ax2.set_title(\"Pattern of production CFD.ML\\n Free stream: 8 m/s, 180 deg\")\n",
    "ax2.set_xlabel(\"Easting [m]\")\n",
    "ax2.set_ylabel(\"Northing [m]\")\n",
    "ax2.set_aspect('equal', adjustable='box')\n",
    "\n",
    "fig, ax = plt.subplots(figsize=(7,7))\n",
    "ax.scatter(x=spot_power['spotPower_at_8_m_per_s_at_180_deg']/scale, y=spot_power_cfdml['spotPower_at_8_m_per_s_at_180_deg']/scale)\n",
    "ax.set_title(\"Correlation of normalized power\\nCFD.ML vs EV+LWF+BEET at The Bowl\\nFree stream: 8 m/s, 180 deg\")\n",
    "ax.set_xlabel(\"EV+LWF+BEET\")\n",
    "ax.set_ylabel(\"CFD.ML\")\n",
    "ax.set_aspect('equal', adjustable='box')\n",
    "ax.set_xlim((0.4,1))\n",
    "ax.set_ylim((0.4,1))\n",
    "ax.axline([0, 0], [1, 1])"
   ]
  },
  {
   "attachments": {},
   "cell_type": "markdown",
   "metadata": {},
   "source": [
    "The agreement isn't particularly good. \n",
    "\n",
    "Meanwhile we have strong evidence that CFD.ML replicates high-fidelity CFD modeling well at this site. \n",
    "So in the case of The Bowl, chances are high, that CFD.ML is closer to the truth. \n",
    "\n",
    "For more info see our recent [webinar](https://brandcentral.dnv.com/mars/embed?o=04B1B5EF7C529B02&c=10651&a=N), or presentation from WindEurope Tech 2023 Workshop in Lyon. \n",
    "\n",
    "Note: We drop the bowl from the CFD.ML training for the verification comparisson below."
   ]
  },
  {
   "attachments": {},
   "cell_type": "markdown",
   "metadata": {},
   "source": [
    "![cfdml_replicates_cfd](images/cfdml_replicates_cfd.png)"
   ]
  }
 ],
 "metadata": {
  "interpreter": {
   "hash": "720ac664810b14341ded5295599f991a957bcf309f170cd7e9e2a67ba5a9e1ab"
  },
  "kernelspec": {
   "display_name": "Python 3.9.13 ('wf_auto')",
   "language": "python",
   "name": "python3"
  },
  "language_info": {
   "codemirror_mode": {
    "name": "ipython",
    "version": 3
   },
   "file_extension": ".py",
   "mimetype": "text/x-python",
   "name": "python",
   "nbconvert_exporter": "python",
   "pygments_lexer": "ipython3",
   "version": "3.9.18"
  },
  "metadata": {
   "interpreter": {
    "hash": "d1e4be30fd4c5a8b3e03d3501a2d81ca2cb313a2f0b670c480ce2a911aa80e36"
   }
  },
  "orig_nbformat": 2
 },
 "nbformat": 4,
 "nbformat_minor": 2
}
