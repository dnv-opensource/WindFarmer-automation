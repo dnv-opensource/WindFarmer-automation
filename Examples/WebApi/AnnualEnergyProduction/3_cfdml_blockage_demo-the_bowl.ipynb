{
 "cells": [
  {
   "attachments": {},
   "cell_type": "markdown",
   "metadata": {},
   "source": [
    "# WindFarmer API demo: How to use CFD.ML solely for blockage correction?\n",
    "CFD.ML may be use to derive a blockage correction to a wakes-only, engineering model.\n",
    "This demo demonstrated how to do it.  "
   ]
  },
  {
   "cell_type": "code",
   "execution_count": 1,
   "metadata": {},
   "outputs": [],
   "source": [
    "import os\n",
    "import requests\n",
    "import json\n",
    "import time\n",
    "from copy import deepcopy"
   ]
  },
  {
   "attachments": {},
   "cell_type": "markdown",
   "metadata": {},
   "source": [
    "To access the API you need a authorization token. This should be kept secure - and not added to source control, so I'm getting it from an environment variable.\n",
    "\n",
    "The token should be passed as an Authorization header. We also need to set the `Content-Type` to let the API know that we're sending JSON data."
   ]
  },
  {
   "cell_type": "code",
   "execution_count": 2,
   "metadata": {},
   "outputs": [],
   "source": [
    "api_url = 'https://windfarmer.dnv.com/api/v2/'\n",
    "auth_token = os.environ['WINDFARMER_ACCESS_KEY']\n",
    "headers = {\n",
    "    'Authorization': f'Bearer {auth_token}',\n",
    "    'Content-Type': 'application/json'\n",
    "}"
   ]
  },
  {
   "attachments": {},
   "cell_type": "markdown",
   "metadata": {},
   "source": [
    "### Call `Status`"
   ]
  },
  {
   "cell_type": "code",
   "execution_count": 3,
   "metadata": {},
   "outputs": [
    {
     "name": "stdout",
     "output_type": "stream",
     "text": [
      "Response from Status: 200\n",
      "{\"message\":\"Connection to DNV WindFarmer Services API was successful.\",\"windFarmerServicesAPIVersion\":\"2.3.0\",\"calculationLibraryVersion\":\"2.2.31.0\"}\n"
     ]
    }
   ],
   "source": [
    "response = requests.get(api_url + 'Status', headers = headers)\n",
    "print(f'Response from Status: {response.status_code}')\n",
    "print(response.text)"
   ]
  },
  {
   "attachments": {},
   "cell_type": "markdown",
   "metadata": {},
   "source": [
    "### Hypothetical wind farm in flat terrain: `The Bowl`"
   ]
  },
  {
   "cell_type": "code",
   "execution_count": 4,
   "metadata": {},
   "outputs": [],
   "source": [
    "# load the inputs\n",
    "with open('..\\..\\..\\DemoData\\TheBowl\\TheBowl.json') as f:\n",
    "    json_string = f.read()\n",
    "    input_data = json.loads(json_string)"
   ]
  },
  {
   "attachments": {},
   "cell_type": "markdown",
   "metadata": {},
   "source": [
    "The wind farm case is presented in more detail in demo notebook: \"2_long_demo-the_bowl.ipynb\", skipping the layout plotting here"
   ]
  },
  {
   "attachments": {},
   "cell_type": "markdown",
   "metadata": {},
   "source": [
    "### Call `AnnualEnergyProduction` endpoint"
   ]
  },
  {
   "attachments": {},
   "cell_type": "markdown",
   "metadata": {},
   "source": [
    "Let's use EddyViscosity+LWF for wake modeling, but use CFD.ML to (bulk) correct for the impact of blockage."
   ]
  },
  {
   "cell_type": "code",
   "execution_count": 5,
   "metadata": {},
   "outputs": [],
   "source": [
    "input_data['energyEfficienciesSettings']['blockageModel']['blockageModelType'] = \"CFDML\" \n",
    "input_data['energyEfficienciesSettings']['blockageModel']['cfdml']['blockageCorrectionApplicationMethod'] = \"OnEnergy\" \n",
    "input_data['energyEfficienciesSettings']['wakeModel']['wakeModelType'] = 'EddyViscosity'\n"
   ]
  },
  {
   "cell_type": "markdown",
   "metadata": {},
   "source": [
    "Making a call to the WFer Services API"
   ]
  },
  {
   "cell_type": "code",
   "execution_count": 6,
   "metadata": {},
   "outputs": [
    {
     "name": "stdout",
     "output_type": "stream",
     "text": [
      "Response 200 - OK in 251.46s\n"
     ]
    }
   ],
   "source": [
    "start = time.time()\n",
    "response = requests.post(\n",
    "    api_url + 'AnnualEnergyProduction', \n",
    "    headers=headers,\n",
    "    json = input_data)\n",
    "print(f'Response {response.status_code} - {response.reason} in {time.time() - start:.2f}s')\n",
    "# Print the error detail if we haven't receieved a 200 OK response\n",
    "if response.status_code != 200:\n",
    "    print(json.loads(response.content)['detail'])"
   ]
  },
  {
   "attachments": {},
   "cell_type": "markdown",
   "metadata": {},
   "source": [
    "### Results"
   ]
  },
  {
   "cell_type": "code",
   "execution_count": 7,
   "metadata": {},
   "outputs": [
    {
     "name": "stdout",
     "output_type": "stream",
     "text": [
      "Wake Affected Annual Energy Production = 1440430.8 MWh / year\n",
      "CFD.ML Blockage correction efficiency = 0.981 \n",
      "Wake & Blockage Affected Annual Energy Production = 1412504.6 MWh / year\n"
     ]
    }
   ],
   "source": [
    "#extract the most important farm-level numbers\n",
    "result = json.loads(response.content)\n",
    "full_aep_MWh_per_year = float(result['windFarmAepOutputs'][0]['fullAnnualEnergyYield_MWh_per_year'])\n",
    "cfdml_correction = float(result['weightedBlockageEfficiency'])\n",
    "print(f'Wake Affected Annual Energy Production = {full_aep_MWh_per_year:.1f} MWh / year')\n",
    "print(f'CFD.ML Blockage correction efficiency = {cfdml_correction:.3f} ')\n",
    "print(f'Wake & Blockage Affected Annual Energy Production = {full_aep_MWh_per_year * cfdml_correction:.1f} MWh / year')"
   ]
  }
 ],
 "metadata": {
  "interpreter": {
   "hash": "720ac664810b14341ded5295599f991a957bcf309f170cd7e9e2a67ba5a9e1ab"
  },
  "kernelspec": {
   "display_name": "Python 3.9.13 ('wf_auto')",
   "language": "python",
   "name": "python3"
  },
  "language_info": {
   "codemirror_mode": {
    "name": "ipython",
    "version": 3
   },
   "file_extension": ".py",
   "mimetype": "text/x-python",
   "name": "python",
   "nbconvert_exporter": "python",
   "pygments_lexer": "ipython3",
   "version": "3.9.18"
  },
  "metadata": {
   "interpreter": {
    "hash": "d1e4be30fd4c5a8b3e03d3501a2d81ca2cb313a2f0b670c480ce2a911aa80e36"
   }
  },
  "orig_nbformat": 2
 },
 "nbformat": 4,
 "nbformat_minor": 2
}
