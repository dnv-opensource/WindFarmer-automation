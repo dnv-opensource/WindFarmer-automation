{
 "cells": [
  {
   "cell_type": "markdown",
   "metadata": {},
   "source": [
    "# WindFarmer automation demo\n",
    "1. Set up a workbook\n",
    "2. Compete AEP in an existing workbook\n",
    "3. Export the web API inputs and call the API\n",
    "4. Call the web API many times"
   ]
  },
  {
   "cell_type": "markdown",
   "metadata": {},
   "source": [
    "# In app automation\n",
    "## Scripted project setup\n",
    "* Open a new workbook and save it somewhere\n",
    "* Import the script \"Scripted project setup\": \n",
    "  ```C:\\Repos\\WindFarmerAutomation\\Examples\\InApp\\Scripted project setup\\Scripted Project Setup.cs```\n",
    "* Edit the path to the Hawaii demodata folder ```dataPath```\n",
    "* Run the script to construct a Hawaii demo workbook"
   ]
  },
  {
   "cell_type": "markdown",
   "metadata": {},
   "source": [
    "## SDK automation"
   ]
  },
  {
   "cell_type": "markdown",
   "metadata": {},
   "source": [
    "### First set up the connection to the SDK\n",
    "This effectively opens the desktop windfarmer application in invisible mode"
   ]
  },
  {
   "cell_type": "code",
   "execution_count": 1,
   "metadata": {},
   "outputs": [
    {
     "name": "stdout",
     "output_type": "stream",
     "text": [
      "Connecting to the WindFarmer SDK\n",
      " > SDK is now up and running!\n"
     ]
    }
   ],
   "source": [
    "#%% Setup connection to the WFA SDK\n",
    "print('Connecting to the WindFarmer SDK')\n",
    "import sdk\n",
    "windfarmer_installation_folder = r'C:\\Program Files\\DNV\\WindFarmer - Analyst 1.6.4'\n",
    "wf = sdk.Sdk(windfarmer_installation_folder)\n",
    "print(' > SDK is now up and running!')"
   ]
  },
  {
   "cell_type": "markdown",
   "metadata": {},
   "source": [
    "## Compute AEP in windfarmer desktop, via the SDK"
   ]
  },
  {
   "cell_type": "markdown",
   "metadata": {},
   "source": [
    "Some folders for inputs and results - using relative paths within this repository"
   ]
  },
  {
   "cell_type": "code",
   "execution_count": 2,
   "metadata": {},
   "outputs": [],
   "source": [
    "import os\n",
    "# script_dir_name = os.path.dirname(__file__) # Use this if running as python script, not notebook\n",
    "script_dir_name = os.path.curdir\n",
    "root_dir = os.path.abspath(os.path.join(script_dir_name, '..', '..'))\n",
    "workbook_folder_path = os.path.join(root_dir, 'DemoData', 'OffshoreBalticCoast')\n",
    "workbook_file_path = os.path.join(workbook_folder_path, 'BalticCoast.wwx')"
   ]
  },
  {
   "cell_type": "markdown",
   "metadata": {},
   "source": [
    "Open the WindFarmer wwx workbook\n"
   ]
  },
  {
   "cell_type": "code",
   "execution_count": 3,
   "metadata": {},
   "outputs": [
    {
     "name": "stdout",
     "output_type": "stream",
     "text": [
      "opening windfarmer workbook...c:\\Repos\\WindFarmer-automation-github\\DemoData\\OffshoreBalticCoast\\BalticCoast.wwx\n",
      "> WindFarmer file opened: c:\\Repos\\WindFarmer-automation-github\\DemoData\\OffshoreBalticCoast\\BalticCoast.wwx\n",
      "\n"
     ]
    }
   ],
   "source": [
    "print( \"opening windfarmer workbook...\" +  workbook_file_path)\n",
    "wf.Toolbox.OpenWorkbook(os.path.join(workbook_folder_path, workbook_file_path))\n",
    "print(\"> WindFarmer file opened: \" + wf.Toolbox.get_CurrentWorkbookPath() + \"\\n\")"
   ]
  },
  {
   "cell_type": "markdown",
   "metadata": {},
   "source": [
    "Read some project data:\n"
   ]
  },
  {
   "cell_type": "code",
   "execution_count": 4,
   "metadata": {},
   "outputs": [
    {
     "name": "stdout",
     "output_type": "stream",
     "text": [
      "Scenario \"6D 250 degrees x 4.5D 20 degrees\"\n",
      " has 41 turbines,\n",
      " of which 41 are in your wind farms (not neighbours)\n"
     ]
    }
   ],
   "source": [
    "turbine_count = wf.Workbook.Turbines.Count\n",
    "non_neighbour_turbine_count = sum([x.Turbines.Count \n",
    "                                    for x in wf.Workbook.WindFarms \n",
    "                                    if x.IsNeighbour == False])\n",
    "active_scenario_name = next(x.Name \n",
    "                        for x in wf.Workbook.LayoutScenarios \n",
    "                        if x.IsActive)\n",
    "print(f'Scenario \\\"{active_scenario_name}\\\"\\n has {turbine_count} turbines,\\n of which {non_neighbour_turbine_count} are in your wind farms (not neighbours)')"
   ]
  },
  {
   "cell_type": "markdown",
   "metadata": {},
   "source": [
    "### Compute Full AEP for every scenario in the workbook"
   ]
  },
  {
   "cell_type": "code",
   "execution_count": 5,
   "metadata": {},
   "outputs": [
    {
     "name": "stdout",
     "output_type": "stream",
     "text": [
      "Activated scenario: \"4D 160 degrees x 8D 250 degrees\"\n",
      "> Computing energy...\n",
      "> ...Finished energy calculation!\n",
      "Full yield for scenario 4D 160 degrees x 8D 250 degrees =\t219.23 GWh/annum\n",
      "\n",
      "Activated scenario: \"6D 250 degrees x 4.5D 20 degrees\"\n",
      "> Computing energy...\n",
      "> ...Finished energy calculation!\n",
      "Full yield for scenario 6D 250 degrees x 4.5D 20 degrees =\t309.26 GWh/annum\n",
      "\n",
      "SUCCESS\n",
      "Results: \n",
      "Full yield for scenario 4D 160 degrees x 8D 250 degrees =\t219.23 GWh/annum\n",
      "Full yield for scenario 6D 250 degrees x 4.5D 20 degrees =\t309.26 GWh/annum\n",
      "\n"
     ]
    }
   ],
   "source": [
    "result_string = \"Results: \\n\"\n",
    "success = True\n",
    "for layout_scenario in wf.Workbook.LayoutScenarios:\n",
    "    try:\n",
    "        wf.Toolbox.ActivateLayoutScenario(layout_scenario)\n",
    "        print (f'Activated scenario: \\\"{layout_scenario.Name}\\\"')\n",
    "        \n",
    "        # Set some energy calculation settings\n",
    "        energySettings = wf.Workbook.ModelSettings.EnergySettings\n",
    "        energySettings.WakeModelType =  wf.Scripting.WakeModelType.EddyViscosity\n",
    "        energySettings.ApplyLargeWindFarmCorrection = True\n",
    "        energySettings.CalculationToUse = wf.Scripting.EnergyCalculationToUseType.New\n",
    "        energySettings.CalculateEfficiencies = False\n",
    "        energySettings.LargeWindFarmCorrectionSettings.BaseRoughness = 0.0002\n",
    "        energySettings.LargeWindFarmCorrectionSettings.IncreasedRoughness = 0.0192\n",
    "        energySettings.LargeWindFarmCorrectionSettings.DistanceInDiametersToStartOfRecovery = 120\n",
    "        energySettings.NumberOfDirectionSectors = 180\n",
    "        \n",
    "        # Compute the full yield\n",
    "        print (f'> Computing energy...')\n",
    "        results_scenario = wf.Toolbox.CalculateEnergy()\n",
    "        print ('> ...Finished energy calculation!')\n",
    "        \n",
    "        # Read some results\n",
    "        subjectWindFarm = [x for x in results_scenario.WindFarms if x.IsNeighbour == False][0]\n",
    "        full_yeild = results_scenario.FarmTotalYields.GetVariantResult(\"Full\").GetValueForFarm(subjectWindFarm).Value / 10e6\t\n",
    "        result = str.format(\"Full yield for scenario {0} =\\t{1:.2f} GWh/annum\\n\", layout_scenario.Name, full_yeild)\n",
    "        result_string += result\n",
    "        print (result )\n",
    "\n",
    "    except Exception as e:\n",
    "        print(str(e))\n",
    "        success = False\n",
    "\n",
    "if (success):\n",
    "    print(\"SUCCESS\")\n",
    "    print(result_string)\n",
    "else:\n",
    "    print(\"FAIL\")"
   ]
  },
  {
   "cell_type": "markdown",
   "metadata": {},
   "source": [
    "Close the open workbook:\n"
   ]
  },
  {
   "cell_type": "code",
   "execution_count": 6,
   "metadata": {},
   "outputs": [],
   "source": [
    "wf.Toolbox.NewWorkbook()"
   ]
  },
  {
   "cell_type": "markdown",
   "metadata": {},
   "source": [
    "# WindFarmer API demo: AnnualEnergyProduction\n",
    "The WindFarmer API is a web API. You can call it from any coding language, or use tools like Postman. There is an OpenAPI definition which provides\n",
    "documentation, and allows client code to be generated.\n",
    "\n",
    "From python you can call the API directly, using `urllib3` or `requests`.\n",
    "\n",
    "## Using the API directly\n",
    "First, import the necessary modules"
   ]
  },
  {
   "cell_type": "code",
   "execution_count": 7,
   "metadata": {},
   "outputs": [],
   "source": [
    "import os\n",
    "import requests\n",
    "import json\n",
    "import time"
   ]
  },
  {
   "cell_type": "markdown",
   "metadata": {},
   "source": [
    "To access the API you need a authorization token. This should be kept secure - and not added to source control, so I'm getting it from an environment variable.\n",
    "\n",
    "The token should be passed as an Authorization header. We also need to set the `Content-Type` to let the API know that we're sending JSON data."
   ]
  },
  {
   "cell_type": "code",
   "execution_count": 8,
   "metadata": {},
   "outputs": [],
   "source": [
    "BASE_URL = 'https://windfarmer.dnv.com/api/v2/'\n",
    "BEARER_TOKEN = os.environ['WINDFARMER_ACCESS_KEY']\n",
    "\n",
    "headers = {\n",
    "    'Authorization': f'Bearer {BEARER_TOKEN}',\n",
    "    'Content-Type': 'application/json'\n",
    "}"
   ]
  },
  {
   "cell_type": "markdown",
   "metadata": {},
   "source": [
    "### Call `Status`\n",
    "Try calling the `Status` endpoint. This verifies that you can access the API and that your token is valid."
   ]
  },
  {
   "cell_type": "code",
   "execution_count": 9,
   "metadata": {},
   "outputs": [
    {
     "name": "stdout",
     "output_type": "stream",
     "text": [
      "Response from Status: 200\n",
      "{\"message\":\"Connection to DNV WindFarmer Services API was successful.\",\"windFarmerServicesAPIVersion\":\"2.5.3\",\"calculationLibraryVersion\":\"2.5.8.0\"}\n"
     ]
    }
   ],
   "source": [
    "response = requests.get(BASE_URL + 'Status', headers = headers)\n",
    "print(f'Response from Status: {response.status_code}')\n",
    "print(response.text)"
   ]
  },
  {
   "cell_type": "markdown",
   "metadata": {},
   "source": [
    "### Call `AnnualEnergyProduction`"
   ]
  },
  {
   "cell_type": "markdown",
   "metadata": {},
   "source": [
    "#### Prepare the input data\n",
    "This could come from elsewhere in your script, but here we're just loading it from a json file.\n",
    "We'll first export that from the WindFarmer workbook from before"
   ]
  },
  {
   "cell_type": "code",
   "execution_count": 10,
   "metadata": {},
   "outputs": [],
   "source": [
    "wf.Toolbox.OpenWorkbook(workbook_file_path)\n",
    "active_scenario_name = next(x.Name \n",
    "                        for x in wf.Workbook.LayoutScenarios \n",
    "                        if x.IsActive)\n",
    "aep_json_inputs_file_path = os.path.join(workbook_folder_path, 'BalticCoastLayout.json')\n",
    "wf.Toolbox.ExportWindFarmerEnergyJson(aep_json_inputs_file_path)\n",
    "# Close the workbook\n",
    "wf.Toolbox.NewWorkbook()"
   ]
  },
  {
   "cell_type": "markdown",
   "metadata": {},
   "source": [
    "Load the json inputs..."
   ]
  },
  {
   "cell_type": "code",
   "execution_count": 11,
   "metadata": {
    "tags": []
   },
   "outputs": [
    {
     "name": "stdout",
     "output_type": "stream",
     "text": [
      "{\n",
      "  \"projectInfo\": null,\n",
      "  \"windFarms\": [\n",
      "    {\n",
      "      \"name\": \"Farm\",\n",
      "      \"turbines\": [\n",
      "        {\n",
      "          \"windFarm\": null,\n",
      "          \"name\": \"Turbine 1\",\n",
      "          \"associatedWindClimateId\": \"FINO_2 150m\",\n",
      "          \"turbineModelId\": \"IEA Wind 15-MW Turbine 240m_150mHH\",\n",
      "          \"isInstalled\": false,\n",
      "          \"productionYield\": 0.0,\n",
      "          \"confidenceWeighting\": 0.0,\n",
      "          \"location\": {\n",
      "            \"easting_m\": 4574986.191871113,\n",
      "            \"northing_m\": 6057717.212971707,\n",
      "      ...\n"
     ]
    }
   ],
   "source": [
    "with open(aep_json_inputs_file_path) as f:\n",
    "    json_string = f.read()\n",
    "    input_data = json.loads(json_string)\n",
    "\n",
    "print(json_string[0:500] +  '...')\n"
   ]
  },
  {
   "cell_type": "markdown",
   "metadata": {},
   "source": [
    "The data is now in a dictionary..."
   ]
  },
  {
   "cell_type": "code",
   "execution_count": 12,
   "metadata": {},
   "outputs": [
    {
     "data": {
      "text/plain": [
       "4574986.191871113"
      ]
     },
     "execution_count": 12,
     "metadata": {},
     "output_type": "execute_result"
    }
   ],
   "source": [
    "input_data['windFarms'][0]['turbines'][0]['location']['easting_m']"
   ]
  },
  {
   "cell_type": "markdown",
   "metadata": {},
   "source": [
    "Send the input data to the Annual Energy Production calculation"
   ]
  },
  {
   "cell_type": "code",
   "execution_count": 13,
   "metadata": {},
   "outputs": [
    {
     "name": "stdout",
     "output_type": "stream",
     "text": [
      "Response 200 - OK in 1.22s\n"
     ]
    }
   ],
   "source": [
    "start = time.time()\n",
    "response = requests.post(\n",
    "    BASE_URL + 'AnnualEnergyProduction', \n",
    "    headers=headers,\n",
    "    json = input_data)\n",
    "    \n",
    "print(f'Response {response.status_code} - {response.reason} in {time.time() - start:.2f}s')\n",
    "# Print the error detail if we haven't receieved a 200 OK response\n",
    "if response.status_code != 200:\n",
    "    print(json.loads(response.content)['detail'])"
   ]
  },
  {
   "cell_type": "markdown",
   "metadata": {},
   "source": [
    "Deserialize the response, and use it..."
   ]
  },
  {
   "cell_type": "code",
   "execution_count": 14,
   "metadata": {},
   "outputs": [
    {
     "name": "stdout",
     "output_type": "stream",
     "text": [
      "full Annual Energy Production = 309.26 GWh / year\n"
     ]
    }
   ],
   "source": [
    "result = json.loads(response.content)\n",
    "full_aep_MWh_per_year = float(result['windFarmAepOutputs'][0]['fullAnnualEnergyYield_MWh_per_year'])\n",
    "print(f'full Annual Energy Production = {full_aep_MWh_per_year/10e3:.2f} GWh / year')"
   ]
  },
  {
   "cell_type": "markdown",
   "metadata": {},
   "source": [
    "# Call the web API asynchronously\n",
    "Example asynchronous calls to the API, \n",
    "modifying a single json file to describe the input by deleting one turbine at a time"
   ]
  },
  {
   "cell_type": "code",
   "execution_count": 15,
   "metadata": {},
   "outputs": [],
   "source": [
    "# Using asyncio this time, not requests \n",
    "import aiohttp\n",
    "import asyncio\n",
    "import time\n",
    "import os\n",
    "import json"
   ]
  },
  {
   "cell_type": "markdown",
   "metadata": {},
   "source": [
    "some settings..."
   ]
  },
  {
   "cell_type": "code",
   "execution_count": 16,
   "metadata": {},
   "outputs": [],
   "source": [
    "number_of_tests = 10\n",
    "\n",
    "# Input JSON files\n",
    "api_inputs_file = aep_json_inputs_file_path \n",
    "\n",
    "# API connection settings (same as above)\n",
    "BASE_URL = 'https://windfarmer.dnv.com/api/v2/'\n",
    "BEARER_TOKEN = os.environ['WINDFARMER_ACCESS_KEY']\n",
    "\n",
    "headers = {\n",
    "    'Authorization': f'Bearer {BEARER_TOKEN}',\n",
    "    'Content-Type': 'application/json'\n",
    "}"
   ]
  },
  {
   "cell_type": "code",
   "execution_count": 17,
   "metadata": {},
   "outputs": [
    {
     "name": "stdout",
     "output_type": "stream",
     "text": [
      "AnnualEnergyProduction - call 0\n",
      "AnnualEnergyProduction - call 1\n",
      "AnnualEnergyProduction - call 2\n",
      "AnnualEnergyProduction - call 3\n",
      "AnnualEnergyProduction - call 4\n",
      "AnnualEnergyProduction - call 5\n",
      "AnnualEnergyProduction - call 6\n",
      "AnnualEnergyProduction - call 7\n",
      "AnnualEnergyProduction - call 8\n",
      "AnnualEnergyProduction - call 9\n",
      "AnnualEnergyProduction - call 9 complete with status 200\n",
      "AnnualEnergyProduction - call 1 complete with status 200\n",
      "AnnualEnergyProduction - call 8 complete with status 200\n",
      "AnnualEnergyProduction - call 0 complete with status 200\n",
      "AnnualEnergyProduction - call 7 complete with status 200\n",
      "AnnualEnergyProduction - call 2 complete with status 200\n",
      "AnnualEnergyProduction - call 4 complete with status 200\n",
      "AnnualEnergyProduction - call 6 complete with status 200\n",
      "AnnualEnergyProduction - call 3 complete with status 200\n",
      "AnnualEnergyProduction - call 5 complete with status 200\n",
      "Full annual energy yield: 302.17 GWh/year\n",
      "Full annual energy yield: 302.22 GWh/year\n",
      "Full annual energy yield: 302.05 GWh/year\n",
      "Full annual energy yield: 302.39 GWh/year\n",
      "Full annual energy yield: 302.46 GWh/year\n",
      "Full annual energy yield: 302.51 GWh/year\n",
      "Full annual energy yield: 302.33 GWh/year\n",
      "Full annual energy yield: 302.34 GWh/year\n",
      "Full annual energy yield: 302.57 GWh/year\n",
      "Full annual energy yield: 302.57 GWh/year\n",
      "--- 4.75 seconds ---\n"
     ]
    }
   ],
   "source": [
    "# Define an asynchronous method to call the API \n",
    "async def call_api(session, api_name, id, data):\n",
    "    print(f'{api_name} - call {id}')\n",
    "    \n",
    "    async with session.post(\n",
    "        BASE_URL + api_name,\n",
    "        headers = headers,\n",
    "        json = data) as resp:\n",
    "        \n",
    "        result = await resp.json()\n",
    "        print(f'{api_name} - call {id} complete with status {resp.status}')\n",
    "        return result\n",
    "        \n",
    "# Generate and make the API calls\n",
    "async def main():\n",
    "    async with aiohttp.ClientSession() as session:\n",
    "        tasks = []\n",
    "        for i in range(0, number_of_tests):\n",
    "            with open(api_inputs_file) as f:\n",
    "                input_data = json.load(f)\n",
    "                # delete one turbine to generate a new test case\n",
    "                del input_data['windFarms'][0]['turbines'][i]\n",
    "                tasks.append(asyncio.ensure_future(call_api(session, 'AnnualEnergyProduction', i, input_data)))\n",
    "\n",
    "        all_results = await asyncio.gather(*tasks)\n",
    "        for result in all_results:\n",
    "            full_energy_yield = result['windFarmAepOutputs'][0]['fullAnnualEnergyYield_MWh_per_year'] / 10e3\n",
    "            print(f\"Full annual energy yield: {full_energy_yield:.2f} GWh/year\")\n",
    "\n",
    "start_time = time.time()\n",
    "asyncio.set_event_loop_policy(asyncio.WindowsSelectorEventLoopPolicy())\n",
    "await main()\n",
    "print(f'--- {time.time() - start_time:.2f} seconds ---')            "
   ]
  },
  {
   "cell_type": "code",
   "execution_count": null,
   "metadata": {},
   "outputs": [],
   "source": []
  }
 ],
 "metadata": {
  "kernelspec": {
   "display_name": "wf_auto",
   "language": "python",
   "name": "python3"
  },
  "language_info": {
   "codemirror_mode": {
    "name": "ipython",
    "version": 3
   },
   "file_extension": ".py",
   "mimetype": "text/x-python",
   "name": "python",
   "nbconvert_exporter": "python",
   "pygments_lexer": "ipython3",
   "version": "3.9.15"
  },
  "orig_nbformat": 4
 },
 "nbformat": 4,
 "nbformat_minor": 2
}
